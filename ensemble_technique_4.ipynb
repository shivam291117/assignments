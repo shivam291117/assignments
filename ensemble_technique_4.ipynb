{
  "nbformat": 4,
  "nbformat_minor": 0,
  "metadata": {
    "colab": {
      "provenance": []
    },
    "kernelspec": {
      "name": "python3",
      "display_name": "Python 3"
    },
    "language_info": {
      "name": "python"
    }
  },
  "cells": [
    {
      "cell_type": "code",
      "execution_count": 4,
      "metadata": {
        "colab": {
          "base_uri": "https://localhost:8080/"
        },
        "id": "egQWUvAMzpPg",
        "outputId": "37adc573-efd5-4db5-e320-109368a2cb58"
      },
      "outputs": [
        {
          "output_type": "stream",
          "name": "stdout",
          "text": [
            "<class 'pandas.core.frame.DataFrame'>\n",
            "RangeIndex: 303 entries, 0 to 302\n",
            "Data columns (total 14 columns):\n",
            " #   Column    Non-Null Count  Dtype  \n",
            "---  ------    --------------  -----  \n",
            " 0   age       303 non-null    int64  \n",
            " 1   sex       303 non-null    int64  \n",
            " 2   cp        303 non-null    int64  \n",
            " 3   trestbps  303 non-null    int64  \n",
            " 4   chol      303 non-null    int64  \n",
            " 5   fbs       303 non-null    int64  \n",
            " 6   restecg   303 non-null    int64  \n",
            " 7   thalach   303 non-null    int64  \n",
            " 8   exang     303 non-null    int64  \n",
            " 9   oldpeak   303 non-null    float64\n",
            " 10  slope     303 non-null    int64  \n",
            " 11  ca        303 non-null    int64  \n",
            " 12  thal      303 non-null    int64  \n",
            " 13  target    303 non-null    int64  \n",
            "dtypes: float64(1), int64(13)\n",
            "memory usage: 33.3 KB\n",
            "None\n",
            "        age       sex        cp  trestbps      chol       fbs   restecg  \\\n",
            "0  0.952197  0.681005  1.973123  0.763956 -0.256334  2.394438 -1.005832   \n",
            "1 -1.915313  0.681005  1.002577 -0.092738  0.072199 -0.417635  0.898962   \n",
            "2 -1.474158 -1.468418  0.032031 -0.092738 -0.816773 -0.417635 -1.005832   \n",
            "3  0.180175  0.681005  0.032031 -0.663867 -0.198357 -0.417635  0.898962   \n",
            "4  0.290464 -1.468418 -0.938515 -0.663867  2.082050 -0.417635  0.898962   \n",
            "\n",
            "    thalach     exang   oldpeak     slope        ca      thal  target  \n",
            "0  0.015443 -0.696631  1.087338 -2.274579 -0.714429 -2.148873       1  \n",
            "1  1.633471 -0.696631  2.122573 -2.274579 -0.714429 -0.512922       1  \n",
            "2  0.977514 -0.696631  0.310912  0.976352 -0.714429 -0.512922       1  \n",
            "3  1.239897 -0.696631 -0.206705  0.976352 -0.714429 -0.512922       1  \n",
            "4  0.583939  1.435481 -0.379244  0.976352 -0.714429 -0.512922       1  \n"
          ]
        }
      ],
      "source": [
        "#Q1. Preprocess the dataset by handling missing values, encoding categorical variables, and scaling the numerical features if necessary.\n",
        "import pandas as pd\n",
        "import numpy as np\n",
        "from sklearn.model_selection import train_test_split\n",
        "from sklearn.preprocessing import StandardScaler, LabelEncoder\n",
        "from sklearn.ensemble import RandomForestClassifier\n",
        "from sklearn.metrics import accuracy_score, precision_score, recall_score, f1_score\n",
        "import matplotlib.pyplot as plt\n",
        "import seaborn as sns\n",
        "\n",
        "# Load the dataset\n",
        "url = 'https://drive.google.com/uc?export=download&id=1bGoIE4Z2kG5nyh-fGZAJ7LH0ki3UfmSJ'\n",
        "data = pd.read_csv(url)\n",
        "\n",
        "# Display basic info\n",
        "print(data.info())\n",
        "\n",
        "# Handle missing values if any\n",
        "data = data.dropna()\n",
        "\n",
        "# Assuming the target column is 'target', convert it to integer type\n",
        "data['target'] = data['target'].astype(int)\n",
        "\n",
        "# Encode categorical variables\n",
        "label_encoders = {}\n",
        "for column in data.select_dtypes(include=['object']).columns:\n",
        "    label_encoders[column] = LabelEncoder()\n",
        "    data[column] = label_encoders[column].fit_transform(data[column])\n",
        "\n",
        "# Scale numerical features\n",
        "scaler = StandardScaler()\n",
        "numerical_features = data.select_dtypes(include=[np.number]).columns.difference(['target'])\n",
        "data[numerical_features] = scaler.fit_transform(data[numerical_features])\n",
        "\n",
        "print(data.head())\n"
      ]
    },
    {
      "cell_type": "code",
      "source": [
        "#Q2. Split the dataset into a training set (70%) and a test set (30%).\n",
        "X = data.drop(columns=['target'])  # Assuming 'target' is the column name for the label\n",
        "y = data['target']\n",
        "\n",
        "X_train, X_test, y_train, y_test = train_test_split(X, y, test_size=0.3, random_state=42)\n",
        "\n"
      ],
      "metadata": {
        "id": "awY-h15xz1L9"
      },
      "execution_count": 5,
      "outputs": []
    },
    {
      "cell_type": "code",
      "source": [
        "'''Q3. Train a random forest classifier on the training set using 100 trees and a maximum depth of 10 for each\n",
        "tree. Use the default values for other hyperparameters.'''\n",
        "# Train a random forest classifier\n",
        "rf_clf = RandomForestClassifier(n_estimators=100, max_depth=10, random_state=42)\n",
        "rf_clf.fit(X_train, y_train)\n",
        "\n"
      ],
      "metadata": {
        "colab": {
          "base_uri": "https://localhost:8080/",
          "height": 74
        },
        "id": "o0-FsgUXz7N6",
        "outputId": "d634a48d-5198-431d-c583-5c8d620ef454"
      },
      "execution_count": 6,
      "outputs": [
        {
          "output_type": "execute_result",
          "data": {
            "text/plain": [
              "RandomForestClassifier(max_depth=10, random_state=42)"
            ],
            "text/html": [
              "<style>#sk-container-id-1 {color: black;background-color: white;}#sk-container-id-1 pre{padding: 0;}#sk-container-id-1 div.sk-toggleable {background-color: white;}#sk-container-id-1 label.sk-toggleable__label {cursor: pointer;display: block;width: 100%;margin-bottom: 0;padding: 0.3em;box-sizing: border-box;text-align: center;}#sk-container-id-1 label.sk-toggleable__label-arrow:before {content: \"▸\";float: left;margin-right: 0.25em;color: #696969;}#sk-container-id-1 label.sk-toggleable__label-arrow:hover:before {color: black;}#sk-container-id-1 div.sk-estimator:hover label.sk-toggleable__label-arrow:before {color: black;}#sk-container-id-1 div.sk-toggleable__content {max-height: 0;max-width: 0;overflow: hidden;text-align: left;background-color: #f0f8ff;}#sk-container-id-1 div.sk-toggleable__content pre {margin: 0.2em;color: black;border-radius: 0.25em;background-color: #f0f8ff;}#sk-container-id-1 input.sk-toggleable__control:checked~div.sk-toggleable__content {max-height: 200px;max-width: 100%;overflow: auto;}#sk-container-id-1 input.sk-toggleable__control:checked~label.sk-toggleable__label-arrow:before {content: \"▾\";}#sk-container-id-1 div.sk-estimator input.sk-toggleable__control:checked~label.sk-toggleable__label {background-color: #d4ebff;}#sk-container-id-1 div.sk-label input.sk-toggleable__control:checked~label.sk-toggleable__label {background-color: #d4ebff;}#sk-container-id-1 input.sk-hidden--visually {border: 0;clip: rect(1px 1px 1px 1px);clip: rect(1px, 1px, 1px, 1px);height: 1px;margin: -1px;overflow: hidden;padding: 0;position: absolute;width: 1px;}#sk-container-id-1 div.sk-estimator {font-family: monospace;background-color: #f0f8ff;border: 1px dotted black;border-radius: 0.25em;box-sizing: border-box;margin-bottom: 0.5em;}#sk-container-id-1 div.sk-estimator:hover {background-color: #d4ebff;}#sk-container-id-1 div.sk-parallel-item::after {content: \"\";width: 100%;border-bottom: 1px solid gray;flex-grow: 1;}#sk-container-id-1 div.sk-label:hover label.sk-toggleable__label {background-color: #d4ebff;}#sk-container-id-1 div.sk-serial::before {content: \"\";position: absolute;border-left: 1px solid gray;box-sizing: border-box;top: 0;bottom: 0;left: 50%;z-index: 0;}#sk-container-id-1 div.sk-serial {display: flex;flex-direction: column;align-items: center;background-color: white;padding-right: 0.2em;padding-left: 0.2em;position: relative;}#sk-container-id-1 div.sk-item {position: relative;z-index: 1;}#sk-container-id-1 div.sk-parallel {display: flex;align-items: stretch;justify-content: center;background-color: white;position: relative;}#sk-container-id-1 div.sk-item::before, #sk-container-id-1 div.sk-parallel-item::before {content: \"\";position: absolute;border-left: 1px solid gray;box-sizing: border-box;top: 0;bottom: 0;left: 50%;z-index: -1;}#sk-container-id-1 div.sk-parallel-item {display: flex;flex-direction: column;z-index: 1;position: relative;background-color: white;}#sk-container-id-1 div.sk-parallel-item:first-child::after {align-self: flex-end;width: 50%;}#sk-container-id-1 div.sk-parallel-item:last-child::after {align-self: flex-start;width: 50%;}#sk-container-id-1 div.sk-parallel-item:only-child::after {width: 0;}#sk-container-id-1 div.sk-dashed-wrapped {border: 1px dashed gray;margin: 0 0.4em 0.5em 0.4em;box-sizing: border-box;padding-bottom: 0.4em;background-color: white;}#sk-container-id-1 div.sk-label label {font-family: monospace;font-weight: bold;display: inline-block;line-height: 1.2em;}#sk-container-id-1 div.sk-label-container {text-align: center;}#sk-container-id-1 div.sk-container {/* jupyter's `normalize.less` sets `[hidden] { display: none; }` but bootstrap.min.css set `[hidden] { display: none !important; }` so we also need the `!important` here to be able to override the default hidden behavior on the sphinx rendered scikit-learn.org. See: https://github.com/scikit-learn/scikit-learn/issues/21755 */display: inline-block !important;position: relative;}#sk-container-id-1 div.sk-text-repr-fallback {display: none;}</style><div id=\"sk-container-id-1\" class=\"sk-top-container\"><div class=\"sk-text-repr-fallback\"><pre>RandomForestClassifier(max_depth=10, random_state=42)</pre><b>In a Jupyter environment, please rerun this cell to show the HTML representation or trust the notebook. <br />On GitHub, the HTML representation is unable to render, please try loading this page with nbviewer.org.</b></div><div class=\"sk-container\" hidden><div class=\"sk-item\"><div class=\"sk-estimator sk-toggleable\"><input class=\"sk-toggleable__control sk-hidden--visually\" id=\"sk-estimator-id-1\" type=\"checkbox\" checked><label for=\"sk-estimator-id-1\" class=\"sk-toggleable__label sk-toggleable__label-arrow\">RandomForestClassifier</label><div class=\"sk-toggleable__content\"><pre>RandomForestClassifier(max_depth=10, random_state=42)</pre></div></div></div></div></div>"
            ]
          },
          "metadata": {},
          "execution_count": 6
        }
      ]
    },
    {
      "cell_type": "code",
      "source": [
        "#Q4. Evaluate the performance of the model on the test set using accuracy, precision, recall, and F1 score.\n",
        "# Predict on the test set\n",
        "y_pred = rf_clf.predict(X_test)\n",
        "\n",
        "# Evaluate performance\n",
        "accuracy = accuracy_score(y_test, y_pred)\n",
        "precision = precision_score(y_test, y_pred)\n",
        "recall = recall_score(y_test, y_pred)\n",
        "f1 = f1_score(y_test, y_pred)\n",
        "\n",
        "print(f'Accuracy: {accuracy}')\n",
        "print(f'Precision: {precision}')\n",
        "print(f'Recall: {recall}')\n",
        "print(f'F1 Score: {f1}')\n"
      ],
      "metadata": {
        "colab": {
          "base_uri": "https://localhost:8080/"
        },
        "id": "O3xYatDp0CYT",
        "outputId": "f05e2868-531e-465e-fcff-896d90afa5bc"
      },
      "execution_count": 7,
      "outputs": [
        {
          "output_type": "stream",
          "name": "stdout",
          "text": [
            "Accuracy: 0.8131868131868132\n",
            "Precision: 0.8367346938775511\n",
            "Recall: 0.82\n",
            "F1 Score: 0.8282828282828283\n"
          ]
        }
      ]
    },
    {
      "cell_type": "code",
      "source": [
        "'''Q5. Use the feature importance scores to identify the top 5 most important features in predicting heart\n",
        "disease risk. Visualise the feature importances using a bar chart.'''\n",
        "# Feature importances\n",
        "importances = rf_clf.feature_importances_\n",
        "feature_names = X.columns\n",
        "\n",
        "# Top 5 most important features\n",
        "feature_importance_df = pd.DataFrame({'Feature': feature_names, 'Importance': importances})\n",
        "top_features = feature_importance_df.sort_values(by='Importance', ascending=False).head(5)\n",
        "\n",
        "# Visualize feature importances\n",
        "plt.figure(figsize=(10, 6))\n",
        "sns.barplot(x='Importance', y='Feature', data=top_features)\n",
        "plt.title('Top 5 Feature Importances')\n",
        "plt.show()\n"
      ],
      "metadata": {
        "colab": {
          "base_uri": "https://localhost:8080/",
          "height": 564
        },
        "id": "wvvFAJbH0ldO",
        "outputId": "91a4d97b-e6b1-4a7c-82c3-7f8f5a46c300"
      },
      "execution_count": 8,
      "outputs": [
        {
          "output_type": "display_data",
          "data": {
            "text/plain": [
              "<Figure size 1000x600 with 1 Axes>"
            ],
            "image/png": "[encoded data removed]"
          },
          "metadata": {}
        }
      ]
    },
    {
      "cell_type": "code",
      "source": [
        "'''Q6. Tune the hyperparameters of the random forest classifier using grid search or random search. Try\n",
        "different values of the number of trees, maximum depth, minimum samples split, and minimum samples\n",
        "leaf. Use 5-fold cross-validation to evaluate the performance of each set of hyperparameters.'''\n",
        "from sklearn.model_selection import GridSearchCV\n",
        "\n",
        "# Hyperparameter tuning using GridSearchCV\n",
        "param_grid = {\n",
        "    'n_estimators': [100, 200, 300],\n",
        "    'max_depth': [10, 15, 20],\n",
        "    'min_samples_split': [2, 5, 10],\n",
        "    'min_samples_leaf': [1, 2, 4]\n",
        "}\n",
        "\n",
        "grid_search = GridSearchCV(estimator=rf_clf, param_grid=param_grid, cv=5, n_jobs=-1, verbose=2)\n",
        "grid_search.fit(X_train, y_train)\n",
        "\n",
        "# Best parameters\n",
        "best_params = grid_search.best_params_\n",
        "print(f'Best Parameters: {best_params}')\n"
      ],
      "metadata": {
        "colab": {
          "base_uri": "https://localhost:8080/"
        },
        "id": "-_Xgz2Bu0sjm",
        "outputId": "49083a78-ea64-4133-c3cb-9518608890b8"
      },
      "execution_count": 9,
      "outputs": [
        {
          "output_type": "stream",
          "name": "stdout",
          "text": [
            "Fitting 5 folds for each of 81 candidates, totalling 405 fits\n",
            "Best Parameters: {'max_depth': 10, 'min_samples_leaf': 4, 'min_samples_split': 2, 'n_estimators': 300}\n"
          ]
        }
      ]
    },
    {
      "cell_type": "code",
      "source": [
        "'''Q7. Report the best set of hyperparameters found by the search and the corresponding performance\n",
        "metrics. Compare the performance of the tuned model with the default model.'''\n",
        "# Train the tuned model\n",
        "best_rf_clf = grid_search.best_estimator_\n",
        "\n",
        "# Predict on the test set\n",
        "y_pred_tuned = best_rf_clf.predict(X_test)\n",
        "\n",
        "# Evaluate performance\n",
        "accuracy_tuned = accuracy_score(y_test, y_pred_tuned)\n",
        "precision_tuned = precision_score(y_test, y_pred_tuned)\n",
        "recall_tuned = recall_score(y_test, y_pred_tuned)\n",
        "f1_tuned = f1_score(y_test, y_pred_tuned)\n",
        "\n",
        "print(f'Accuracy (Tuned): {accuracy_tuned}')\n",
        "print(f'Precision (Tuned): {precision_tuned}')\n",
        "print(f'Recall (Tuned): {recall_tuned}')\n",
        "print(f'F1 Score (Tuned): {f1_tuned}')\n"
      ],
      "metadata": {
        "colab": {
          "base_uri": "https://localhost:8080/"
        },
        "id": "b-UaJw690zEn",
        "outputId": "aa0449e9-0fcc-4139-d127-7906e42303f6"
      },
      "execution_count": 10,
      "outputs": [
        {
          "output_type": "stream",
          "name": "stdout",
          "text": [
            "Accuracy (Tuned): 0.8351648351648352\n",
            "Precision (Tuned): 0.8301886792452831\n",
            "Recall (Tuned): 0.88\n",
            "F1 Score (Tuned): 0.8543689320388349\n"
          ]
        }
      ]
    },
    {
      "cell_type": "code",
      "source": [
        "'''Q8. Interpret the model by analysing the decision boundaries of the random forest classifier. Plot the\n",
        "decision boundaries on a scatter plot of two of the most important features. Discuss the insights and\n",
        "limitations of the model for predicting heart disease risk.'''\n",
        "# For visualization, we will use only the two most important features\n",
        "top_two_features = top_features['Feature'].values[:2]\n",
        "\n",
        "# Train a random forest classifier on the selected two features\n",
        "rf_clf_2d = RandomForestClassifier(n_estimators=100, max_depth=10, random_state=42)\n",
        "rf_clf_2d.fit(X_train[top_two_features], y_train)\n",
        "\n",
        "# Plot decision boundaries\n",
        "import numpy as np\n",
        "\n",
        "def plot_decision_boundary(clf, X, y, title):\n",
        "    x_min, x_max = X.iloc[:, 0].min() - 1, X.iloc[:, 0].max() + 1\n",
        "    y_min, y_max = X.iloc[:, 1].min() - 1, X.iloc[:, 1].max() + 1\n",
        "    xx, yy = np.meshgrid(np.arange(x_min, x_max, 0.01),\n",
        "                         np.arange(y_min, y_max, 0.01))\n",
        "    Z = clf.predict(np.c_[xx.ravel(), yy.ravel()])\n",
        "    Z = Z.reshape(xx.shape)\n",
        "    plt.contourf(xx, yy, Z, alpha=0.4)\n",
        "    plt.scatter(X.iloc[:, 0], X.iloc[:, 1], c=y, s=20, edgecolor='k')\n",
        "    plt.title(title)\n",
        "    plt.xlabel(top_two_features[0])\n",
        "    plt.ylabel(top_two_features[1])\n",
        "    plt.show()\n",
        "\n",
        "# Plotting\n",
        "plot_decision_boundary(rf_clf_2d, X_test[top_two_features], y_test, 'Random Forest Decision Boundaries')\n",
        "\n",
        "# Discussing insights and limitations\n",
        "print(\"Insights:\")\n",
        "print(\"- The decision boundaries show how the classifier separates the two classes using the two most important features.\")\n",
        "print(\"Limitations:\")\n",
        "print(\"- The model's interpretability decreases as more features are used.\")\n",
        "print(\"- Feature importance may not always align with domain knowledge or real-world significance.\")\n"
      ],
      "metadata": {
        "colab": {
          "base_uri": "https://localhost:8080/",
          "height": 593
        },
        "id": "B6UTUm4K09v7",
        "outputId": "1260e982-8b24-4921-f057-97e734191496"
      },
      "execution_count": 11,
      "outputs": [
        {
          "output_type": "stream",
          "name": "stderr",
          "text": [
            "/usr/local/lib/python3.10/dist-packages/sklearn/base.py:439: UserWarning: X does not have valid feature names, but RandomForestClassifier was fitted with feature names\n",
            "  warnings.warn(\n"
          ]
        },
        {
          "output_type": "display_data",
          "data": {
            "text/plain": [
              "<Figure size 640x480 with 1 Axes>"
            ],
            "image/png": "[encoded data removed]"
          },
          "metadata": {}
        },
        {
          "output_type": "stream",
          "name": "stdout",
          "text": [
            "Insights:\n",
            "- The decision boundaries show how the classifier separates the two classes using the two most important features.\n",
            "Limitations:\n",
            "- The model's interpretability decreases as more features are used.\n",
            "- Feature importance may not always align with domain knowledge or real-world significance.\n"
          ]
        }
      ]
    },
    {
      "cell_type": "code",
      "source": [],
      "metadata": {
        "id": "kSkOi3Rx3Xc5"
      },
      "execution_count": null,
      "outputs": []
    }
  ]
}