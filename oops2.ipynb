{
  "nbformat": 4,
  "nbformat_minor": 0,
  "metadata": {
    "colab": {
      "provenance": []
    },
    "kernelspec": {
      "name": "python3",
      "display_name": "Python 3"
    },
    "language_info": {
      "name": "python"
    }
  },
  "cells": [
    {
      "cell_type": "markdown",
      "source": [
        "Q1, Create a vehicle class with an init method having instance variables as name_of_vehicle, max_speed and average_of_vehicle.\n",
        "\n"
      ],
      "metadata": {
        "id": "P9MSI0CMr930"
      }
    },
    {
      "cell_type": "code",
      "execution_count": 1,
      "metadata": {
        "colab": {
          "base_uri": "https://localhost:8080/"
        },
        "id": "goaT6hgFr7EJ",
        "outputId": "b78ce9c8-bcec-4a69-8f48-fffe3726d636"
      },
      "outputs": [
        {
          "output_type": "stream",
          "name": "stdout",
          "text": [
            "Vehicle: Car, Max Speed: 220 km/h, Average: 15 km/l\n",
            "Vehicle: Bike, Max Speed: 180 km/h, Average: 40 km/l\n"
          ]
        }
      ],
      "source": [
        "class Vehicle:\n",
        "    def __init__(self, name_of_vehicle, max_speed, average_of_vehicle):\n",
        "        self.name_of_vehicle = name_of_vehicle\n",
        "        self.max_speed = max_speed\n",
        "        self.average_of_vehicle = average_of_vehicle\n",
        "\n",
        "# Example usage\n",
        "vehicle1 = Vehicle(\"Car\", 220, 15)\n",
        "vehicle2 = Vehicle(\"Bike\", 180, 40)\n",
        "\n",
        "print(f\"Vehicle: {vehicle1.name_of_vehicle}, Max Speed: {vehicle1.max_speed} km/h, Average: {vehicle1.average_of_vehicle} km/l\")\n",
        "print(f\"Vehicle: {vehicle2.name_of_vehicle}, Max Speed: {vehicle2.max_speed} km/h, Average: {vehicle2.average_of_vehicle} km/l\")\n"
      ]
    },
    {
      "cell_type": "markdown",
      "source": [
        "Q2. Create a child class car from the vehicle class created in Que 1, which will inherit the vehicle class.\n",
        "\n",
        "Create a method named seating_capacity which takes capacity as an argument and returns the name of the vehicle and its seating capacity."
      ],
      "metadata": {
        "id": "KjwRQO_7smSD"
      }
    },
    {
      "cell_type": "code",
      "source": [
        "class Vehicle:\n",
        "    def __init__(self, name_of_vehicle, max_speed, average_of_vehicle):\n",
        "        self.name_of_vehicle = name_of_vehicle\n",
        "        self.max_speed = max_speed\n",
        "        self.average_of_vehicle = average_of_vehicle\n"
      ],
      "metadata": {
        "id": "tMBZXJQksjI6"
      },
      "execution_count": 2,
      "outputs": []
    },
    {
      "cell_type": "code",
      "source": [
        "class Car(Vehicle):\n",
        "    def seating_capacity(self, capacity):\n",
        "        return f\"{self.name_of_vehicle} has a seating capacity of {capacity}.\"\n",
        "\n",
        "# Example usage\n",
        "car1 = Car(\"Sedan\", 200, 18)\n",
        "car2 = Car(\"SUV\", 180, 12)\n",
        "\n",
        "print(car1.seating_capacity(5))\n",
        "print(car2.seating_capacity(7))\n"
      ],
      "metadata": {
        "colab": {
          "base_uri": "https://localhost:8080/"
        },
        "id": "bLuh66lLsyN8",
        "outputId": "cfe623a4-f4b2-4a44-b8f0-9bd8064f0235"
      },
      "execution_count": 3,
      "outputs": [
        {
          "output_type": "stream",
          "name": "stdout",
          "text": [
            "Sedan has a seating capacity of 5.\n",
            "SUV has a seating capacity of 7.\n"
          ]
        }
      ]
    },
    {
      "cell_type": "markdown",
      "source": [
        "Q3. What is multiple inheritance? Write a python code to demonstrate multiple inheritance."
      ],
      "metadata": {
        "id": "fkLdjifVs36s"
      }
    },
    {
      "cell_type": "code",
      "source": [
        "#When a class is derived from more than one base class it is called multiple Inheritance. The derived class inherits all the features of the base case."
      ],
      "metadata": {
        "id": "Ttm9wLJfszvy"
      },
      "execution_count": 4,
      "outputs": []
    },
    {
      "cell_type": "code",
      "source": [
        "# Python Program to depict multiple inheritance\n",
        "# when method is overridden in both classes\n",
        "\n",
        "class Class1:\n",
        "\tdef m(self):\n",
        "\t\tprint(\"In Class1\")\n",
        "\n",
        "class Class2(Class1):\n",
        "\tdef m(self):\n",
        "\t\tprint(\"In Class2\")\n",
        "\n",
        "class Class3(Class1):\n",
        "\tdef m(self):\n",
        "\t\tprint(\"In Class3\")\n",
        "\n",
        "class Class4(Class2, Class3):\n",
        "\tpass\n",
        "\n",
        "obj = Class4()\n",
        "obj.m()\n"
      ],
      "metadata": {
        "colab": {
          "base_uri": "https://localhost:8080/"
        },
        "id": "zS861R-hs_1F",
        "outputId": "22f5094d-cc0e-42df-86a1-ee08cec155cf"
      },
      "execution_count": 6,
      "outputs": [
        {
          "output_type": "stream",
          "name": "stdout",
          "text": [
            "In Class2\n"
          ]
        }
      ]
    },
    {
      "cell_type": "markdown",
      "source": [
        "Q4. What are getter and setter in python? Create a class and create a getter and a setter method in this\n",
        "class."
      ],
      "metadata": {
        "id": "bl57LPxRtdAk"
      }
    },
    {
      "cell_type": "markdown",
      "source": [
        "In Python, getters and setters are methods used to access and modify the values of instance variables. They are part of the property mechanism in Python, which allows for controlled access to instance variables.\n",
        "\n",
        "Getter Method: A method that gets (retrieves) the value of an instance variable.\n"
      ],
      "metadata": {
        "id": "zHYGh2JwtcqD"
      }
    },
    {
      "cell_type": "code",
      "source": [
        "class Person:\n",
        "    def __init__(self, name, age):\n",
        "        self.name = name\n",
        "        self._age = age  # Private variable (convention)\n",
        "\n",
        "    # Getter method for _age\n",
        "    @property\n",
        "    def age(self):\n",
        "        return self._age\n",
        "\n",
        "    # Setter method for _age\n",
        "    @age.setter\n",
        "    def age(self, value):\n",
        "        if value < 0:\n",
        "            raise ValueError(\"Age cannot be negative\")\n",
        "        self._age = value\n",
        "\n",
        "# Example usage\n",
        "person = Person(\"Alice\", 30)\n",
        "\n",
        "# Accessing the age using getter\n",
        "print(person.age)  # Output: 30\n",
        "\n",
        "# Modifying the age using setter\n",
        "person.age = 35\n",
        "print(person.age)  # Output: 35\n",
        "\n",
        "# Attempting to set a negative age (will raise an exception)\n",
        "try:\n",
        "    person.age = -5\n",
        "except ValueError as e:\n",
        "    print(e)  # Output: Age cannot be negative\n"
      ],
      "metadata": {
        "colab": {
          "base_uri": "https://localhost:8080/"
        },
        "id": "btPUP2jotHiI",
        "outputId": "e7ca650d-5c6d-4a11-a8ba-80b3959c65a7"
      },
      "execution_count": 7,
      "outputs": [
        {
          "output_type": "stream",
          "name": "stdout",
          "text": [
            "30\n",
            "35\n",
            "Age cannot be negative\n"
          ]
        }
      ]
    },
    {
      "cell_type": "markdown",
      "source": [
        "Q5.What is method overriding in python? Write a python code to demonstrate method overriding."
      ],
      "metadata": {
        "id": "plqdU4l9tn6u"
      }
    },
    {
      "cell_type": "markdown",
      "source": [
        "Method overriding is a feature in object-oriented programming where a subclass provides a specific implementation of a method that is already defined in its superclass. The method in the subclass should have the same name, return type, and parameters as the method in the superclass. This allows the subclass to customize or completely replace the behavior of the method defined in the parent class."
      ],
      "metadata": {
        "id": "FnZE6-0Ftove"
      }
    },
    {
      "cell_type": "code",
      "source": [
        "# Base class\n",
        "class Animal:\n",
        "    def make_sound(self):\n",
        "        return \"Some generic sound\"\n",
        "\n",
        "# Derived class\n",
        "class Dog(Animal):\n",
        "    def make_sound(self):\n",
        "        return \"Bark\"\n",
        "\n",
        "# Example usage\n",
        "generic_animal = Animal()\n",
        "print(generic_animal.make_sound())  # Output: Some generic sound\n",
        "\n",
        "dog = Dog()\n",
        "print(dog.make_sound())  # Output: Bark\n"
      ],
      "metadata": {
        "colab": {
          "base_uri": "https://localhost:8080/"
        },
        "id": "VjIvtmxBtjbD",
        "outputId": "0be4f278-fdc0-4645-9fff-58687dac23ff"
      },
      "execution_count": 8,
      "outputs": [
        {
          "output_type": "stream",
          "name": "stdout",
          "text": [
            "Some generic sound\n",
            "Bark\n"
          ]
        }
      ]
    },
    {
      "cell_type": "code",
      "source": [],
      "metadata": {
        "id": "b9u7Pt2JttMC"
      },
      "execution_count": null,
      "outputs": []
    }
  ]
}