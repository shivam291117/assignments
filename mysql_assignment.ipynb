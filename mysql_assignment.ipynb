{
  "nbformat": 4,
  "nbformat_minor": 0,
  "metadata": {
    "colab": {
      "provenance": []
    },
    "kernelspec": {
      "name": "python3",
      "display_name": "Python 3"
    },
    "language_info": {
      "name": "python"
    }
  },
  "cells": [
    {
      "cell_type": "markdown",
      "source": [
        "**Q1. What is a database? Differentiate between SQL and NoSQL databases.**\n",
        "Ans. A database is a structured collection of data that is organized and stored electronically. It allows for efficient data storage, retrieval, and manipulation. Databases are essential for storing data in a way that facilitates easy access, management, and updating.\n",
        "\n",
        "SQL databases are relational, with structured schemas and support for SQL querying. They are suitable for applications requiring complex queries and transactions.\n",
        "\n",
        "NoSQL databases are non-relational, with flexible schemas and various data models. They excel in handling large-scale, distributed data and are more suitable for applications with dynamic or unstructured data needs."
      ],
      "metadata": {
        "id": "A1Fvgto1VUaW"
      }
    },
    {
      "cell_type": "markdown",
      "source": [
        "**Q2. What is DDL? Explain why CREATE, DROP, ALTER, and TRUNCATE are used with an example.**\n",
        "Ans. DDL stands for Data Definition Language. It is a subset of SQL (Structured Query Language) used to define and manage the structure of database objects. DDL statements are primarily used to create, modify, and delete database objects such as tables, indexes, and views. Here’s an explanation of common DDL statements:\n",
        "\n",
        "CREATE: The CREATE statement is used to create new database objects such as tables, indexes, views, or databases themselves.\n",
        "CREATE TABLE users (\n",
        "    id INT PRIMARY KEY,\n",
        "    username VARCHAR(50) NOT NULL,\n",
        "    email VARCHAR(100) UNIQUE\n",
        ");\n",
        "\n",
        "DROP: The DROP statement is used to delete existing database objects like tables, indexes, or views.\n",
        "DROP TABLE users;\n",
        "\n",
        "ALTER: The ALTER statement is used to modify the structure of existing database objects, such as adding, modifying, or dropping columns in a table.\n",
        "ALTER TABLE users\n",
        "ADD COLUMN full_name VARCHAR(100) AFTER username;\n",
        "\n",
        "TRUNCATE: The TRUNCATE statement is used to remove all rows from a table while keeping the table structure intact.\n",
        "TRUNCATE TABLE users;\n",
        "\n"
      ],
      "metadata": {
        "id": "JAnTkrKJVqyY"
      }
    },
    {
      "cell_type": "markdown",
      "source": [
        "**Q3. What is DML? Explain INSERT, UPDATE, and DELETE with an example.**\n",
        "Ans. DML stands for Data Manipulation Language. It is a subset of SQL (Structured Query Language) used to manipulate data stored in database objects such as tables.\n",
        "\n",
        "INSERT: The INSERT statement is used to add new rows of data into a table.\n",
        "INSERT INTO users (id, username, email)\n",
        "VALUES (1, 'john_doe', 'john.doe@example.com');\n",
        "This SQL statement inserts a new row into the users table with values for id, username, and email.\n",
        "\n",
        "UPDATE: The UPDATE statement is used to modify existing records in a table.\n",
        "UPDATE users\n",
        "SET email = 'john.doe.updated@example.com'\n",
        "WHERE id = 1;\n",
        "This SQL statement updates the email field of the record in the users table where id is 1.\n",
        "\n",
        "DELETE: The DELETE statement is used to remove existing records from a table.\n",
        "Copy code\n",
        "DELETE FROM users\n",
        "WHERE id = 1;"
      ],
      "metadata": {
        "id": "EcTBN5szWV6E"
      }
    },
    {
      "cell_type": "markdown",
      "source": [
        "**Q4. What is DQL? Explain SELECT with an example.**\n",
        "Ans. DQL stands for Data Query Language. It is a subset of SQL (Structured Query Language) used to retrieve data from databases. The primary and most commonly used statement in DQL is SELECT. Here’s an explanation of the SELECT statement with an example:\n",
        "\n",
        "SELECT Statement:\n",
        "The SELECT statement is used to query data from one or more tables in a database. It allows you to specify which columns to retrieve, apply filters, sort the results, and perform various types of data manipulations.\n",
        "\n",
        "SELECT column1, column2, ...\n",
        "FROM table_name\n",
        "WHERE condition\n",
        "ORDER BY column1, column2, ...\n",
        "LIMIT number_of_rows;"
      ],
      "metadata": {
        "id": "01XRcvqEWvOR"
      }
    },
    {
      "cell_type": "markdown",
      "source": [
        "**Q5. Explain Primary Key and Foreign Key.**\n",
        "Ans. Primary Key : A Primary Key is a column or a set of columns that uniquely identifies each row in a table. It serves as a unique identifier for the records in the table.\n",
        "\n",
        "Foreign Key : A Foreign Key is a column or a set of columns in one table that references the Primary Key column(s) in another table. It establishes a link or relationship between the two tables."
      ],
      "metadata": {
        "id": "24fLCC8KW99E"
      }
    },
    {
      "cell_type": "markdown",
      "source": [
        "**Q6. Write a python code to connect MySQL to python. Explain the cursor() and execute() method.**\n",
        "Ans. Python Code to Connect MySQL to Python:\n",
        "\n",
        "import mysql.connector\n",
        "\n",
        "try:\n",
        "    cnx = mysql.connector.connect(\n",
        "        host='localhost',\n",
        "        database='your_database_name',\n",
        "        user='your_username',\n",
        "        password='your_password'\n",
        "    )\n",
        "    cursor = cnx.cursor()\n",
        "    query = \"SELECT * FROM your_table_name\"\n",
        "    cursor.execute(query)\n",
        "    rows = cursor.fetchall()\n",
        "    for row in rows:\n",
        "        print(row)\n",
        "\n",
        "except mysql.connector.Error as err:\n",
        "    print(f\"Error connecting to MySQL: {err}\")\n",
        "\n",
        "finally:\n",
        "    if 'cursor' in locals():\n",
        "        cursor.close()\n",
        "    if 'cnx' in locals() and cnx.is_connected():\n",
        "        cnx.close()\n",
        "\n",
        "\n",
        "** Explanation of cursor() and execute() methods:**\n",
        "\n",
        "**cursor() method:** is used to create a cursor object in Python that allows you to interact with the MySQL database.\n",
        "Syntax: cursor = cnx.cursor()\n",
        "This method creates a cursor instance from the MySQL connection (cnx in this case). The cursor acts as a pointer to the result set of a query.\n",
        "\n",
        "**execute() method:** is used to execute SQL queries or statements that are passed as a parameter.\n",
        "Syntax: cursor.execute(query)\n",
        "Here, query is a string containing the SQL query you want to execute.\n",
        "After calling execute(query), the cursor executes the SQL query against the MySQL database server specified in the connection (cnx).\n",
        "If the query is a data manipulation language (DML) query (like SELECT, INSERT, UPDATE, DELETE), it performs the action specified."
      ],
      "metadata": {
        "id": "8BN7ArrVXh35"
      }
    },
    {
      "cell_type": "markdown",
      "source": [
        "**Q7. Give the order of execution of SQL clauses in an SQL query.**\n",
        "Ans.\n",
        "Getting Data (FROM/JOIN)\n",
        "Row Filter (WHERE)\n",
        "Grouping (GROUP BY)\n",
        "Group Filter (HAVING)\n",
        "Return Expression (SELECT)\n",
        "Order & Paging (ORDER BY & LIMIT/OFFSET)"
      ],
      "metadata": {
        "id": "U6RLyC0aYT4E"
      }
    }
  ]
}