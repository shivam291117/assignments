{
  "nbformat": 4,
  "nbformat_minor": 0,
  "metadata": {
    "colab": {
      "provenance": []
    },
    "kernelspec": {
      "name": "python3",
      "display_name": "Python 3"
    },
    "language_info": {
      "name": "python"
    }
  },
  "cells": [
    {
      "cell_type": "markdown",
      "source": [
        "Q1. what is multithreading in python? hy is it used? Name the module used to handle threads in python"
      ],
      "metadata": {
        "id": "gdB3DKDgYe-b"
      }
    },
    {
      "cell_type": "code",
      "execution_count": 1,
      "metadata": {
        "colab": {
          "base_uri": "https://localhost:8080/"
        },
        "id": "g2XHF66xYbHu",
        "outputId": "03631fbb-eddd-4ec2-b758-46f9c1ea75a0"
      },
      "outputs": [
        {
          "output_type": "stream",
          "name": "stdout",
          "text": [
            "Number: 1Main program continues...\n",
            "\n",
            "Number: 2\n",
            "Number: 3\n",
            "Number: 4\n",
            "Number: 5\n",
            "Thread execution complete.\n"
          ]
        }
      ],
      "source": [
        "'''\n",
        "\n",
        "Multithreading in Python refers to the capability of executing multiple threads concurrently within a single process.\n",
        "Each thread runs in its own independent path of execution but shares the same memory space.\n",
        "Python's Global Interpreter Lock (GIL) limits multithreading's effectiveness in CPU-bound\n",
        "tasks but allows for concurrency in I/O-bound tasks like network communication or file operations.\n",
        "'''\n",
        "\n",
        "import threading\n",
        "\n",
        "def print_numbers():\n",
        "    for i in range(1, 6):\n",
        "        print(f\"Number: {i}\")\n",
        "\n",
        "thread = threading.Thread(target=print_numbers)\n",
        "\n",
        "thread.start()\n",
        "\n",
        "print(\"Main program continues...\")\n",
        "\n",
        "thread.join()\n",
        "\n",
        "print(\"Thread execution complete.\")\n"
      ]
    },
    {
      "cell_type": "markdown",
      "source": [
        "Q2. Why threading module used? Write the use of the following functions\n",
        "\n",
        "1. activeCount\n",
        "2. currentThread\n",
        "3. enumerate"
      ],
      "metadata": {
        "id": "DtybLeqnZIgN"
      }
    },
    {
      "cell_type": "code",
      "source": [
        "'''\n",
        "The threading module in Python is used to create and manage threads within a Python program.\n",
        "It provides a high-level interface for working with threads, allowing developers to create concurrent execution paths\n",
        "that can run independently within a single process. Here's an explanation of the functions you mentioned:\n",
        "\n",
        "1. activeCount()\n",
        "Purpose:\n",
        "\n",
        "activeCount() is a function provided by the threading module that returns the number of currently active threads in the current Python interpreter.\n",
        "Use:\n",
        "\n",
        "It is useful for monitoring the number of threads that are currently running or actively executing tasks.\n",
        "'''\n",
        "\n",
        "import threading\n",
        "\n",
        "def task():\n",
        "    print(\"Thread running...\")\n",
        "\n",
        "# Create multiple threads\n",
        "threads = []\n",
        "for _ in range(5):\n",
        "    thread = threading.Thread(target=task)\n",
        "    threads.append(thread)\n",
        "    thread.start()\n",
        "\n",
        "# Check the number of active threads\n",
        "print(f\"Number of active threads: {threading.activeCount()}\")\n"
      ],
      "metadata": {
        "colab": {
          "base_uri": "https://localhost:8080/"
        },
        "id": "dGXyr7n5ZFZl",
        "outputId": "3a6a1ba6-d1f7-4155-d277-2b698db40d28"
      },
      "execution_count": 2,
      "outputs": [
        {
          "output_type": "stream",
          "name": "stdout",
          "text": [
            "Thread running...\n",
            "Thread running...\n",
            "Thread running...\n",
            "Thread running...\n",
            "Thread running...Number of active threads: 6\n"
          ]
        },
        {
          "output_type": "stream",
          "name": "stderr",
          "text": [
            "<ipython-input-2-6e146e9873e9>:28: DeprecationWarning: activeCount() is deprecated, use active_count() instead\n",
            "  print(f\"Number of active threads: {threading.activeCount()}\")\n"
          ]
        },
        {
          "output_type": "stream",
          "name": "stdout",
          "text": [
            "\n"
          ]
        }
      ]
    },
    {
      "cell_type": "code",
      "source": [
        "'''\n",
        "2. currentThread()\n",
        "Purpose:\n",
        "\n",
        "currentThread() returns the current thread object that is executing the function call.\n",
        "Use:\n",
        "\n",
        "It allows you to obtain information about the current thread, such as its name, identification number, and other properties.\n",
        "'''\n",
        "\n",
        "import threading\n",
        "\n",
        "def task():\n",
        "    print(f\"Current thread: {threading.currentThread().getName()}\")\n",
        "\n",
        "# Create a thread\n",
        "thread = threading.Thread(target=task)\n",
        "thread.start()\n"
      ],
      "metadata": {
        "colab": {
          "base_uri": "https://localhost:8080/"
        },
        "id": "phQgzy4xZsjG",
        "outputId": "e43d70c5-45e4-4833-fc9e-2bab50a1dc54"
      },
      "execution_count": 3,
      "outputs": [
        {
          "output_type": "stream",
          "name": "stdout",
          "text": [
            "Current thread: Thread-16 (task)"
          ]
        },
        {
          "output_type": "stream",
          "name": "stderr",
          "text": [
            "<ipython-input-3-e8f733d32bab>:14: DeprecationWarning: currentThread() is deprecated, use current_thread() instead\n",
            "  print(f\"Current thread: {threading.currentThread().getName()}\")\n",
            "<ipython-input-3-e8f733d32bab>:14: DeprecationWarning: getName() is deprecated, get the name attribute instead\n",
            "  print(f\"Current thread: {threading.currentThread().getName()}\")\n"
          ]
        },
        {
          "output_type": "stream",
          "name": "stdout",
          "text": [
            "\n"
          ]
        }
      ]
    },
    {
      "cell_type": "code",
      "source": [
        "'''\n",
        "3. enumerate()\n",
        "Purpose:\n",
        "\n",
        "enumerate() returns a list of all Thread objects currently active in the current Python interpreter.\n",
        "Use:\n",
        "\n",
        "It provides a way to iterate over all active threads, allowing you to inspect or manipulate each thread individually.\n",
        "'''\n",
        "\n",
        "import threading\n",
        "\n",
        "def task():\n",
        "    print(f\"Thread {threading.currentThread().getName()} running...\")\n",
        "\n",
        "# Create multiple threads\n",
        "threads = []\n",
        "for i in range(3):\n",
        "    thread = threading.Thread(target=task)\n",
        "    threads.append(thread)\n",
        "    thread.start()\n",
        "\n",
        "# Enumerate all active threads\n",
        "for thread in threading.enumerate():\n",
        "    print(f\"Active Thread: {thread.getName()}\")\n"
      ],
      "metadata": {
        "colab": {
          "base_uri": "https://localhost:8080/"
        },
        "id": "-EO4sbrfZ2QQ",
        "outputId": "1d7678cf-e9cb-4e95-e0f8-99af12444f8c"
      },
      "execution_count": 4,
      "outputs": [
        {
          "output_type": "stream",
          "name": "stdout",
          "text": [
            "Thread Thread-18 (task) running...\n",
            "Thread Thread-17 (task) running...\n",
            "Thread Thread-19 (task) running...Active Thread: MainThread\n",
            "\n",
            "Active Thread: Thread-2 (_thread_main)\n",
            "Active Thread: Thread-3\n",
            "Active Thread: Thread-1\n",
            "Active Thread: _colab_inspector_thread\n",
            "Active Thread: Thread-19 (task)\n"
          ]
        },
        {
          "output_type": "stream",
          "name": "stderr",
          "text": [
            "<ipython-input-4-bd3e26d55232>:14: DeprecationWarning: currentThread() is deprecated, use current_thread() instead\n",
            "  print(f\"Thread {threading.currentThread().getName()} running...\")\n",
            "<ipython-input-4-bd3e26d55232>:14: DeprecationWarning: getName() is deprecated, get the name attribute instead\n",
            "  print(f\"Thread {threading.currentThread().getName()} running...\")\n",
            "<ipython-input-4-bd3e26d55232>:25: DeprecationWarning: getName() is deprecated, get the name attribute instead\n",
            "  print(f\"Active Thread: {thread.getName()}\")\n"
          ]
        }
      ]
    },
    {
      "cell_type": "markdown",
      "source": [
        "Q3. Explain the following functions\n",
        "1. run\n",
        "2. start\n",
        "3. join\n",
        "4. isAlive"
      ],
      "metadata": {
        "id": "6eJCRAp0aId8"
      }
    },
    {
      "cell_type": "code",
      "source": [
        "'''\n",
        "Certainly! Here's an explanation of the functions run, start, join, and isAlive as used in Python's threading module:\n",
        "\n",
        "1. run()\n",
        "Purpose:\n",
        "\n",
        "The run() method in Python's threading.Thread class represents the entry point for the thread's activity.\n",
        "Use:\n",
        "\n",
        "When you create a new thread using the threading.Thread class, you typically override the run() method with your own implementation of what the thread should do.\n",
        "'''\n",
        "\n",
        "import threading\n",
        "\n",
        "class MyThread(threading.Thread):\n",
        "    def run(self):\n",
        "        print(f\"Thread {self.getName()} is running.\")\n",
        "\n",
        "# Create an instance of MyThread\n",
        "thread = MyThread()\n",
        "\n",
        "# Calling start() will internally call run()\n",
        "thread.start()\n"
      ],
      "metadata": {
        "colab": {
          "base_uri": "https://localhost:8080/"
        },
        "id": "K5RkxU_kZ_qk",
        "outputId": "a5ef547d-faa6-42ba-a076-c89b3cf88015"
      },
      "execution_count": 5,
      "outputs": [
        {
          "output_type": "stream",
          "name": "stdout",
          "text": [
            "Thread Thread-20 is running.\n"
          ]
        },
        {
          "output_type": "stream",
          "name": "stderr",
          "text": [
            "<ipython-input-5-493fdacffd8c>:17: DeprecationWarning: getName() is deprecated, get the name attribute instead\n",
            "  print(f\"Thread {self.getName()} is running.\")\n"
          ]
        }
      ]
    },
    {
      "cell_type": "code",
      "source": [
        "'''\n",
        "2. start()\n",
        "Purpose:\n",
        "\n",
        "The start() method in Python's threading.Thread class is used to start the thread's activity.\n",
        "Use:\n",
        "\n",
        "start() creates a new thread and then calls the run() method with the provided target. It must be called once per thread object.\n",
        "'''\n",
        "\n",
        "import threading\n",
        "\n",
        "def task():\n",
        "    print(\"Task executed by thread.\")\n",
        "\n",
        "# Create a thread\n",
        "thread = threading.Thread(target=task)\n",
        "\n",
        "# Start the thread\n",
        "thread.start()\n"
      ],
      "metadata": {
        "colab": {
          "base_uri": "https://localhost:8080/"
        },
        "id": "Otn_fkgmauss",
        "outputId": "e1c9c837-92dd-4b5b-f5af-70c9bcaa413b"
      },
      "execution_count": 6,
      "outputs": [
        {
          "output_type": "stream",
          "name": "stdout",
          "text": [
            "Task executed by thread.\n"
          ]
        }
      ]
    },
    {
      "cell_type": "code",
      "source": [
        "'''\n",
        "3. join(timeout=None)\n",
        "Purpose:\n",
        "\n",
        "The join() method in Python's threading.Thread class blocks the calling thread until the thread whose join() method is called terminates or until the optional timeout occurs.\n",
        "Use:\n",
        "\n",
        "It allows for synchronization, ensuring that the calling thread waits for the completion of the thread on which join() is called.\n",
        "\n",
        "'''\n",
        "import threading\n",
        "import time\n",
        "\n",
        "def task():\n",
        "    time.sleep(2)\n",
        "    print(\"Task executed by thread.\")\n",
        "\n",
        "# Create a thread\n",
        "thread = threading.Thread(target=task)\n",
        "\n",
        "# Start the thread\n",
        "thread.start()\n",
        "\n",
        "# Wait for the thread to finish (block until thread terminates)\n",
        "thread.join()\n",
        "\n",
        "print(\"Main thread continues...\")\n"
      ],
      "metadata": {
        "colab": {
          "base_uri": "https://localhost:8080/"
        },
        "id": "KToRK2zEa2rZ",
        "outputId": "f5dae560-8a98-4f8d-e33f-f3c31010cd97"
      },
      "execution_count": 7,
      "outputs": [
        {
          "output_type": "stream",
          "name": "stdout",
          "text": [
            "Task executed by thread.\n",
            "Main thread continues...\n"
          ]
        }
      ]
    },
    {
      "cell_type": "code",
      "source": [
        "'''\n",
        "4. isAlive()\n",
        "Purpose:\n",
        "\n",
        "The isAlive() method in Python's threading.Thread class returns True if the thread is alive (started and not terminated), and False otherwise.\n",
        "Use:\n",
        "\n",
        "It is useful for checking the status of a thread before attempting to perform operations that depend on the thread's completion.\n",
        "'''\n",
        "\n",
        "import threading\n",
        "import time\n",
        "\n",
        "def task():\n",
        "    time.sleep(2)\n",
        "    print(\"Task executed by thread.\")\n",
        "\n",
        "# Create a thread\n",
        "thread = threading.Thread(target=task)\n",
        "\n",
        "# Start the thread\n",
        "thread.start()\n",
        "\n",
        "# Check if the thread is alive\n",
        "print(f\"Thread alive status: {thread.is_alive()}\")\n",
        "\n",
        "# Wait for the thread to finish\n",
        "thread.join()\n",
        "\n",
        "# Check again after thread has finished\n",
        "print(f\"Thread alive status after join: {thread.is_alive()}\")\n",
        "\n"
      ],
      "metadata": {
        "colab": {
          "base_uri": "https://localhost:8080/"
        },
        "id": "UYvVvodJa__u",
        "outputId": "abe4e715-e425-46ec-ac2c-6c98f9c1fa6e"
      },
      "execution_count": 10,
      "outputs": [
        {
          "output_type": "stream",
          "name": "stdout",
          "text": [
            "Thread alive status: True\n",
            "Task executed by thread.\n",
            "Thread alive status after join: False\n"
          ]
        }
      ]
    },
    {
      "cell_type": "markdown",
      "source": [
        "Q4. Write a python program to create two threads. Thread one must print the list of squares and thread two must print the list of cubes"
      ],
      "metadata": {
        "id": "0VUVvPNFbhK7"
      }
    },
    {
      "cell_type": "code",
      "source": [
        "import threading\n",
        "\n",
        "# Function to print squares of numbers\n",
        "def print_squares():\n",
        "    squares = [i*i for i in range(1, 6)]  # Calculate squares of numbers 1 to 5\n",
        "    print(\"Squares:\", squares)\n",
        "\n",
        "# Function to print cubes of numbers\n",
        "def print_cubes():\n",
        "    cubes = [i*i*i for i in range(1, 6)]  # Calculate cubes of numbers 1 to 5\n",
        "    print(\"Cubes:\", cubes)\n",
        "\n",
        "# Create threads\n",
        "thread1 = threading.Thread(target=print_squares)\n",
        "thread2 = threading.Thread(target=print_cubes)\n",
        "\n",
        "# Start threads\n",
        "thread1.start()\n",
        "thread2.start()\n",
        "\n",
        "# Wait for both threads to finish\n",
        "thread1.join()\n",
        "thread2.join()\n",
        "\n",
        "print(\"Main thread exiting...\")\n"
      ],
      "metadata": {
        "colab": {
          "base_uri": "https://localhost:8080/"
        },
        "id": "R5fr4GfnbHd9",
        "outputId": "7da172fd-d1ec-42c0-be72-ce7b0687bd79"
      },
      "execution_count": 9,
      "outputs": [
        {
          "output_type": "stream",
          "name": "stdout",
          "text": [
            "Squares: [1, 4, 9, 16, 25]\n",
            "Cubes: [1, 8, 27, 64, 125]\n",
            "Main thread exiting...\n"
          ]
        }
      ]
    },
    {
      "cell_type": "markdown",
      "source": [
        "Q5. State advantages and disadvantages of multithreading"
      ],
      "metadata": {
        "id": "viDFZX5JbsTk"
      }
    },
    {
      "cell_type": "code",
      "source": [
        "'''\n",
        "Multithreading offers several advantages and disadvantages, which are important to consider depending on the specific requirements and constraints of your application:\n",
        "\n",
        "Advantages of Multithreading:\n",
        "Concurrency: Multithreading allows multiple threads to execute concurrently within the same process.\n",
        "This can lead to improved overall performance and responsiveness, especially in applications that need to handle multiple tasks simultaneously.\n",
        "\n",
        "Resource Sharing: Threads within the same process share the same memory space, allowing them to access\n",
        "the same data and resources more efficiently compared to separate processes. This is useful for applications that require efficient data sharing and communication between threads.\n",
        "\n",
        "Responsiveness: Multithreading can improve the responsiveness of applications by ensuring that the user\n",
        "interface remains interactive even when performing long-running tasks in the background. This is crucial for\n",
        "applications with a graphical user interface (GUI) or real-time requirements.\n",
        "\n",
        "Resource Utilization: Threads are lightweight compared to processes, requiring fewer system resources to create and manage.\n",
        "This makes multithreading a more efficient use of system resources when compared to creating multiple processes.\n",
        "\n",
        "Simplicity: Implementing multithreading can often simplify the design and structure of applications that need to\n",
        "perform multiple tasks concurrently. It allows for more natural and sequential-like programming, as different tasks can be handled by different threads.\n",
        "\n",
        "Disadvantages of Multithreading:\n",
        "Complexity: Multithreading introduces complexity, as developers need to carefully manage shared resources\n",
        "to avoid issues such as race conditions, deadlocks, and synchronization problems. Debugging and testing multithreaded applications can be more challenging.\n",
        "\n",
        "Resource Contention: Threads sharing the same resources can lead to resource contention,\n",
        "where multiple threads compete for access to shared resources. Poorly managed resource contention can degrade performance and lead to unpredictable behavior.\n",
        "\n",
        "Difficulty in Debugging: Identifying and diagnosing issues in multithreaded applications can be complex\n",
        "due to the non-deterministic nature of thread scheduling and execution. Race conditions and timing-dependent bugs may only occur under specific, hard-to-reproduce conditions.\n",
        "\n",
        "Potential for Deadlocks: Improper synchronization between threads can lead to deadlocks,\n",
        "where threads are indefinitely blocked waiting for each other to release resources.\n",
        "Deadlocks can halt the execution of the entire application, requiring careful design and coding practices to avoid.\n",
        "\n",
        "Overhead: While threads are generally more lightweight than processes, there is still overhead associated with creating,\n",
        "managing, and switching between threads. In some cases, the overhead of managing threads may outweigh the benefits of concurrency, especially for tasks with low parallelism.\n",
        "'''\n",
        "\n"
      ],
      "metadata": {
        "colab": {
          "base_uri": "https://localhost:8080/",
          "height": 123
        },
        "id": "g6tUbaSGbYFD",
        "outputId": "9f1abd83-538b-4a08-d45b-3a54febb09d1"
      },
      "execution_count": 11,
      "outputs": [
        {
          "output_type": "execute_result",
          "data": {
            "text/plain": [
              "'\\nMultithreading offers several advantages and disadvantages, which are important to consider depending on the specific requirements and constraints of your application:\\n\\nAdvantages of Multithreading:\\nConcurrency: Multithreading allows multiple threads to execute concurrently within the same process. \\nThis can lead to improved overall performance and responsiveness, especially in applications that need to handle multiple tasks simultaneously.\\n\\nResource Sharing: Threads within the same process share the same memory space, allowing them to access \\nthe same data and resources more efficiently compared to separate processes. This is useful for applications that require efficient data sharing and communication between threads.\\n\\nResponsiveness: Multithreading can improve the responsiveness of applications by ensuring that the user \\ninterface remains interactive even when performing long-running tasks in the background. This is crucial for \\napplications with a graphical user interface (GUI) or real-time requirements.\\n\\nResource Utilization: Threads are lightweight compared to processes, requiring fewer system resources to create and manage. \\nThis makes multithreading a more efficient use of system resources when compared to creating multiple processes.\\n\\nSimplicity: Implementing multithreading can often simplify the design and structure of applications that need to \\nperform multiple tasks concurrently. It allows for more natural and sequential-like programming, as different tasks can be handled by different threads.\\n\\nDisadvantages of Multithreading:\\nComplexity: Multithreading introduces complexity, as developers need to carefully manage shared resources \\nto avoid issues such as race conditions, deadlocks, and synchronization problems. Debugging and testing multithreaded applications can be more challenging.\\n\\nResource Contention: Threads sharing the same resources can lead to resource contention, \\nwhere multiple threads compete for access to shared resources. Poorly managed resource contention can degrade performance and lead to unpredictable behavior.\\n\\nDifficulty in Debugging: Identifying and diagnosing issues in multithreaded applications can be complex \\ndue to the non-deterministic nature of thread scheduling and execution. Race conditions and timing-dependent bugs may only occur under specific, hard-to-reproduce conditions.\\n\\nPotential for Deadlocks: Improper synchronization between threads can lead to deadlocks, \\nwhere threads are indefinitely blocked waiting for each other to release resources. \\nDeadlocks can halt the execution of the entire application, requiring careful design and coding practices to avoid.\\n\\nOverhead: While threads are generally more lightweight than processes, there is still overhead associated with creating, \\nmanaging, and switching between threads. In some cases, the overhead of managing threads may outweigh the benefits of concurrency, especially for tasks with low parallelism.\\n'"
            ],
            "application/vnd.google.colaboratory.intrinsic+json": {
              "type": "string"
            }
          },
          "metadata": {},
          "execution_count": 11
        }
      ]
    },
    {
      "cell_type": "code",
      "source": [
        "#Q6. Explain deadlocks and race conditions.\n",
        "'''\n",
        "Deadlock:\n",
        "\n",
        "Deadlock is a situation in concurrent programming where two or more threads are blocked forever, each waiting on a resource that the other thread holds. In other words, deadlock occurs when two or more threads are stuck in a circular waiting state, where each thread waits for a resource that is held by another thread in the set.\n",
        "\n",
        "Characteristics of Deadlock:\n",
        "Mutual Exclusion: At least one resource must be held in a non-sharable mode; that is, only one thread can use the resource at a time.\n",
        "\n",
        "Hold and Wait: A thread holding at least one resource is waiting to acquire additional resources held by other threads.\n",
        "\n",
        "No Preemption: Resources cannot be forcibly taken from a thread; they must be released voluntarily by the thread holding them.\n",
        "\n",
        "Circular Wait: There exists a set of two or more threads, each of which is waiting for a resource held by another thread in the set.\n",
        "\n",
        "Example of Deadlock:\n",
        "Consider two threads, Thread A and Thread B, and two resources, Resource X and Resource Y:\n",
        "\n",
        "Thread A acquires Resource X.\n",
        "Thread B acquires Resource Y.\n",
        "Thread A now tries to acquire Resource Y, but it is held by Thread B.\n",
        "Thread B tries to acquire Resource X, but it is held by Thread A.\n",
        "Both threads are now waiting for a resource held by the other thread, resulting in a deadlock situation where neither thread can proceed.\n",
        "\n",
        "Prevention and Avoidance of Deadlock:\n",
        "Avoidance: Use careful resource allocation and ordering to ensure that deadlock conditions cannot occur. Techniques include using a global ordering of resources and ensuring that threads always request resources in the same order.\n",
        "\n",
        "Detection and Recovery: Periodically check for deadlock conditions and recover by preemptively aborting one or more threads involved in the deadlock.\n",
        "\n",
        "Avoidance of Circular Wait: Implement strategies such as locking resources in a strict predefined order or using timeout mechanisms to break potential deadlocks.\n",
        "\n",
        "Race Condition:\n",
        "\n",
        "A race condition occurs in concurrent programming when the outcome of a program depends on the sequence or timing of the execution of threads. It arises when multiple threads access shared data or resources in a way that leads to inconsistent or unexpected results, depending on the interleaving of their executions.\n",
        "\n",
        "Characteristics of Race Conditions:\n",
        "Shared Resources: Multiple threads access and modify shared data or resources concurrently.\n",
        "\n",
        "Non-Atomic Operations: Operations that appear as a single, indivisible operation in a high-level language can be broken down into multiple lower-level operations, making them non-atomic.\n",
        "\n",
        "Timing Dependency: The final outcome of the program depends on the relative timing or interleaving of operations performed by different threads.\n",
        "\n",
        "Example of Race Condition:\n",
        "Consider two threads incrementing a shared variable count:\n",
        "\n",
        "Thread A reads the current value of count (e.g., count = 0).\n",
        "Thread B reads the same current value of count simultaneously (still count = 0).\n",
        "Thread A increments count (count = 1).\n",
        "Thread B also increments count (count = 1), based on the old value it read.\n",
        "The final value of count should logically be 2 after both increments, but due to the race condition, it could end up being 1 if the operations overlap unpredictably.\n",
        "'''"
      ],
      "metadata": {
        "id": "BAceYFZmcKxj"
      },
      "execution_count": null,
      "outputs": []
    }
  ]
}