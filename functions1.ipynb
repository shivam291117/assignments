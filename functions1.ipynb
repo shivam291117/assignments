{
  "nbformat": 4,
  "nbformat_minor": 0,
  "metadata": {
    "colab": {
      "provenance": []
    },
    "kernelspec": {
      "name": "python3",
      "display_name": "Python 3"
    },
    "language_info": {
      "name": "python"
    }
  },
  "cells": [
    {
      "cell_type": "markdown",
      "source": [
        "Q1. Which keyword is used to create a function? Create a function to return a list of odd numbers in the range of 1 to 25."
      ],
      "metadata": {
        "id": "oQNAgmZsoJuR"
      }
    },
    {
      "cell_type": "code",
      "execution_count": 1,
      "metadata": {
        "colab": {
          "base_uri": "https://localhost:8080/"
        },
        "id": "JhJEpbuCoFWW",
        "outputId": "f4658a28-01cf-4f18-972a-77d2d8971b5d"
      },
      "outputs": [
        {
          "output_type": "execute_result",
          "data": {
            "text/plain": [
              "[1, 3, 5, 7, 9, 11, 13, 15, 17, 19, 21, 23, 25]"
            ]
          },
          "metadata": {},
          "execution_count": 1
        }
      ],
      "source": [
        "def odd_numbers():\n",
        "    odd_list = []\n",
        "    for i in range(1, 26):\n",
        "        if i % 2 != 0:\n",
        "            odd_list.append(i)\n",
        "    return odd_list\n",
        "\n",
        "odd_numbers()"
      ]
    },
    {
      "cell_type": "markdown",
      "source": [
        "Q2. Why *args and **kwargs is used in some functions? Create a function each for *args and **kwargs to demonstrate their use.\n",
        "\n",
        "Ans\n",
        "\n",
        " *args allows you to pass a variable number of positional arguments to a function. It is treated as a tuple inside the function.\n",
        "\n",
        "**kwargs allows you to pass a variable number of keyword arguments to a function. It is treated as a dictionary inside the function.\n",
        "\n",
        "Both can be used together in the same function to handle a flexible number of both positional and keyword arguments."
      ],
      "metadata": {
        "id": "QzGAg_X0oWz6"
      }
    },
    {
      "cell_type": "markdown",
      "source": [
        "Q3. What is an iterator in python?\n",
        "\n",
        "Name the method used to initialise the iterator object and the method used for iteration. Use these methods to print the first five elements of the given list [2, 4, 6, 8, 10, 12, 14, 16,18, 20].\n",
        "\n",
        "Ans\n",
        "\n",
        "\n",
        "In Python, an iterator is an object that allows you to traverse through all the elements of a collection (such as lists, tuples, or dictionaries) one element at a time. Iterators implement two main methods:\n",
        "\n",
        "\n",
        "__iter__(): This method initializes the iterator object and returns the iterator itself.\n",
        "\n",
        "__next__(): This method returns the next item from the iterator. When there are no more items to return, it raises a StopIteration exception."
      ],
      "metadata": {
        "id": "M9RKxySmowBr"
      }
    },
    {
      "cell_type": "code",
      "source": [
        "my_list = [2, 4, 6, 8, 10, 12, 14, 16, 18, 20]\n",
        "\n",
        "iterator = iter(my_list)\n",
        "\n",
        "for _ in range(5):\n",
        "    element = next(iterator)\n",
        "    print(element)\n"
      ],
      "metadata": {
        "colab": {
          "base_uri": "https://localhost:8080/"
        },
        "id": "o4IBmR4BoSPB",
        "outputId": "204aaff2-4899-4f95-dd3c-9b3e1e4abf2d"
      },
      "execution_count": 2,
      "outputs": [
        {
          "output_type": "stream",
          "name": "stdout",
          "text": [
            "2\n",
            "4\n",
            "6\n",
            "8\n",
            "10\n"
          ]
        }
      ]
    },
    {
      "cell_type": "markdown",
      "source": [
        "Q4. What is a generator function in python? Why yield keyword is used? Give an example of a generator function.\n",
        "\n",
        "Ans\n",
        "\n",
        "A generator function in Python is a special type of function that returns an iterator called a generator, which can be used to iterate over a sequence of values. Instead of using return to send back a value and terminate the function, a generator function uses the yield keyword to yield a value and pause the function's execution, maintaining its state for resumption later."
      ],
      "metadata": {
        "id": "ANAnjDDmpTcc"
      }
    },
    {
      "cell_type": "code",
      "source": [
        "def even_numbers(n):\n",
        "    num = 0\n",
        "    while n > 0:\n",
        "        yield num\n",
        "        num += 2\n",
        "        n -= 1\n",
        "even_gen = even_numbers(5)\n",
        "for even in even_gen:\n",
        "    print(even)\n"
      ],
      "metadata": {
        "colab": {
          "base_uri": "https://localhost:8080/"
        },
        "id": "lz-GUQZrpNio",
        "outputId": "c37d2f99-9b79-4999-fc8e-679c57fe9fb0"
      },
      "execution_count": 3,
      "outputs": [
        {
          "output_type": "stream",
          "name": "stdout",
          "text": [
            "0\n",
            "2\n",
            "4\n",
            "6\n",
            "8\n"
          ]
        }
      ]
    },
    {
      "cell_type": "markdown",
      "source": [
        "Q5. Create a generator function for prime numbers less than 1000. Use the next() method to print the first 20 prime numbers."
      ],
      "metadata": {
        "id": "RgdbAYPnpimc"
      }
    },
    {
      "cell_type": "code",
      "source": [
        "def prime_generator():\n",
        "    num = 2\n",
        "    while num < 1000:\n",
        "        is_prime = True\n",
        "        for i in range(2, int(num**0.5) + 1):\n",
        "            if num % i == 0:\n",
        "                is_prime = False\n",
        "                break\n",
        "        if is_prime:\n",
        "            yield num\n",
        "        num += 1\n",
        "\n",
        "# Using the generator function to get the first 20 prime numbers\n",
        "prime_gen = prime_generator()\n",
        "\n",
        "# Print the first 20 prime numbers\n",
        "for _ in range(20):\n",
        "    print(next(prime_gen))\n",
        "\n"
      ],
      "metadata": {
        "colab": {
          "base_uri": "https://localhost:8080/"
        },
        "id": "ZhWOwLSGpfQP",
        "outputId": "f6b65bf3-4dc5-4760-f9e1-d90a2d9a01d1"
      },
      "execution_count": 4,
      "outputs": [
        {
          "output_type": "stream",
          "name": "stdout",
          "text": [
            "2\n",
            "3\n",
            "5\n",
            "7\n",
            "11\n",
            "13\n",
            "17\n",
            "19\n",
            "23\n",
            "29\n",
            "31\n",
            "37\n",
            "41\n",
            "43\n",
            "47\n",
            "53\n",
            "59\n",
            "61\n",
            "67\n",
            "71\n"
          ]
        }
      ]
    },
    {
      "cell_type": "code",
      "source": [],
      "metadata": {
        "id": "xXkm4ZTZpsL1"
      },
      "execution_count": null,
      "outputs": []
    }
  ]
}