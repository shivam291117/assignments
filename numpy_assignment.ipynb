{
  "nbformat": 4,
  "nbformat_minor": 0,
  "metadata": {
    "colab": {
      "provenance": []
    },
    "kernelspec": {
      "name": "python3",
      "display_name": "Python 3"
    },
    "language_info": {
      "name": "python"
    }
  },
  "cells": [
    {
      "cell_type": "code",
      "execution_count": 1,
      "metadata": {
        "colab": {
          "base_uri": "https://localhost:8080/"
        },
        "id": "QiGJZKiLzEd7",
        "outputId": "fd72172a-6436-4462-8e3f-b6ea6e340211"
      },
      "outputs": [
        {
          "output_type": "stream",
          "name": "stdout",
          "text": [
            "[0 1 2 3 4 5]\n"
          ]
        },
        {
          "output_type": "execute_result",
          "data": {
            "text/plain": [
              "dtype('int64')"
            ]
          },
          "metadata": {},
          "execution_count": 1
        }
      ],
      "source": [
        "#1. Create a NumPy array 'arr' of integers from 0 to 5 and print its data type.\n",
        "import numpy as np\n",
        "arr = np.arange(0,6)\n",
        "print(arr)\n",
        "arr.dtype"
      ]
    },
    {
      "cell_type": "code",
      "source": [
        "#2. Given a NumPy array 'arr', check if its data type is float64.\n",
        "arr = np.array([1.5, 2.6, 3.7])\n",
        "arr.dtype"
      ],
      "metadata": {
        "colab": {
          "base_uri": "https://localhost:8080/"
        },
        "id": "7x3FRX7kzMUx",
        "outputId": "8786d063-31ab-41d2-ad75-fcd547a36655"
      },
      "execution_count": 2,
      "outputs": [
        {
          "output_type": "execute_result",
          "data": {
            "text/plain": [
              "dtype('float64')"
            ]
          },
          "metadata": {},
          "execution_count": 2
        }
      ]
    },
    {
      "cell_type": "code",
      "source": [
        "#3. Create a NumPy array 'arr' with a data type of complex128 containing three complex numbers.\n",
        "arr = np.array([(5+10j),(12+20j),(50+10000j)])\n",
        "arr.dtype"
      ],
      "metadata": {
        "colab": {
          "base_uri": "https://localhost:8080/"
        },
        "id": "dCweb_OTzawL",
        "outputId": "4a9a472f-54ce-41f6-d794-0fc8df745c24"
      },
      "execution_count": 3,
      "outputs": [
        {
          "output_type": "execute_result",
          "data": {
            "text/plain": [
              "dtype('complex128')"
            ]
          },
          "metadata": {},
          "execution_count": 3
        }
      ]
    },
    {
      "cell_type": "code",
      "source": [
        "#4. Convert an existing NumPy array 'arr' of integers to float32 data type.\n",
        "arr = np.arange(0,6)\n",
        "print(arr.dtype)\n",
        "arr = arr.astype('float32')\n",
        "arr.dtype"
      ],
      "metadata": {
        "colab": {
          "base_uri": "https://localhost:8080/"
        },
        "id": "oZVCV9DizeAa",
        "outputId": "b2ca8078-6f8e-486c-e5f7-d309c3f93c86"
      },
      "execution_count": 4,
      "outputs": [
        {
          "output_type": "stream",
          "name": "stdout",
          "text": [
            "int64\n"
          ]
        },
        {
          "output_type": "execute_result",
          "data": {
            "text/plain": [
              "dtype('float32')"
            ]
          },
          "metadata": {},
          "execution_count": 4
        }
      ]
    },
    {
      "cell_type": "code",
      "source": [
        "#5. Given a NumPy array 'arr' with float64 data type, convert it to float32 to reduce decimal precision\n",
        "arr = np.array([1.5, 2.6, 3.7])\n",
        "print(arr.dtype)\n",
        "arr = arr.astype('float32')\n",
        "arr.dtype"
      ],
      "metadata": {
        "colab": {
          "base_uri": "https://localhost:8080/"
        },
        "id": "p4HRVeA5zguO",
        "outputId": "ac200ee9-e111-42ac-f927-e2ae06b9496f"
      },
      "execution_count": 5,
      "outputs": [
        {
          "output_type": "stream",
          "name": "stdout",
          "text": [
            "float64\n"
          ]
        },
        {
          "output_type": "execute_result",
          "data": {
            "text/plain": [
              "dtype('float32')"
            ]
          },
          "metadata": {},
          "execution_count": 5
        }
      ]
    },
    {
      "cell_type": "code",
      "source": [
        "#6. Write a function array_attributes that takes a NumPy array as input and returns its shape, size, and data type.\n",
        "def array_attributes(arr) :\n",
        "    return arr.shape, arr.size, arr.dtype\n",
        "\n",
        "array_attributes(arr)"
      ],
      "metadata": {
        "colab": {
          "base_uri": "https://localhost:8080/"
        },
        "id": "OiSyJyL0zi6F",
        "outputId": "d53a0948-a694-4b8c-cf50-4993e3e505c3"
      },
      "execution_count": 6,
      "outputs": [
        {
          "output_type": "execute_result",
          "data": {
            "text/plain": [
              "((3,), 3, dtype('float32'))"
            ]
          },
          "metadata": {},
          "execution_count": 6
        }
      ]
    },
    {
      "cell_type": "code",
      "source": [
        "#7. Create a function array_dimension that takes a NumPy array as input and returns its dimensionality.\n",
        "def array_attributes(arr) :\n",
        "    return arr.ndim\n",
        "\n",
        "array_attributes(arr)"
      ],
      "metadata": {
        "colab": {
          "base_uri": "https://localhost:8080/"
        },
        "id": "VGqouTM1zmAg",
        "outputId": "2d7c046d-6a1f-462f-92d6-725971799392"
      },
      "execution_count": 7,
      "outputs": [
        {
          "output_type": "execute_result",
          "data": {
            "text/plain": [
              "1"
            ]
          },
          "metadata": {},
          "execution_count": 7
        }
      ]
    },
    {
      "cell_type": "code",
      "source": [
        " #8. Design a function item_size_info that takes a NumPy array as input and returns the item size and the total size in bytes.\n",
        "def item_size_info(arr):\n",
        "    item_size = arr.itemsize\n",
        "    total_size = arr.size * item_size\n",
        "    return item_size, total_size\n",
        "arr = np.array([[1, 2, 3], [4, 5, 6]])\n",
        "item_size_info(arr)"
      ],
      "metadata": {
        "colab": {
          "base_uri": "https://localhost:8080/"
        },
        "id": "rsysB7Dnzodx",
        "outputId": "8d695de2-aca3-4913-e73c-062733b5b911"
      },
      "execution_count": 8,
      "outputs": [
        {
          "output_type": "execute_result",
          "data": {
            "text/plain": [
              "(8, 48)"
            ]
          },
          "metadata": {},
          "execution_count": 8
        }
      ]
    },
    {
      "cell_type": "code",
      "source": [
        "#9. Create a function array_strides that takes a NumPy array as input and returns the strides of the array.\n",
        "def array_strides(arr):\n",
        "    return arr.strides\n",
        "\n",
        "print(arr)\n",
        "array_strides(arr)"
      ],
      "metadata": {
        "colab": {
          "base_uri": "https://localhost:8080/"
        },
        "id": "eRjPjkfHzrin",
        "outputId": "4215d24d-d627-4b17-9dbb-f0a542a9492e"
      },
      "execution_count": 9,
      "outputs": [
        {
          "output_type": "stream",
          "name": "stdout",
          "text": [
            "[[1 2 3]\n",
            " [4 5 6]]\n"
          ]
        },
        {
          "output_type": "execute_result",
          "data": {
            "text/plain": [
              "(24, 8)"
            ]
          },
          "metadata": {},
          "execution_count": 9
        }
      ]
    },
    {
      "cell_type": "code",
      "source": [
        "#10. Design a function shape_stride_relationship that takes a NumPy array as input and returns the shape and strides of the array.\n",
        "def shape_stride_relationship(arr):\n",
        "    return arr.shape, arr.strides\n",
        "\n",
        "print(arr)\n",
        "shape_stride_relationship(arr)"
      ],
      "metadata": {
        "colab": {
          "base_uri": "https://localhost:8080/"
        },
        "id": "Mq7dw8URzuKz",
        "outputId": "4da15b47-00f1-4325-e60a-b7faa960a608"
      },
      "execution_count": 10,
      "outputs": [
        {
          "output_type": "stream",
          "name": "stdout",
          "text": [
            "[[1 2 3]\n",
            " [4 5 6]]\n"
          ]
        },
        {
          "output_type": "execute_result",
          "data": {
            "text/plain": [
              "((2, 3), (24, 8))"
            ]
          },
          "metadata": {},
          "execution_count": 10
        }
      ]
    },
    {
      "cell_type": "code",
      "source": [
        "#11. Create a function `create_zeros_array` that takes an integer `n` as input and returns a NumPy array of zeros with `n` elements.\n",
        "def create_zeros_array(n):\n",
        "    arr1 = np.zeros(n)\n",
        "    return arr1\n",
        "\n",
        "create_zeros_array(5)"
      ],
      "metadata": {
        "colab": {
          "base_uri": "https://localhost:8080/"
        },
        "id": "iJgrJ96NzwIm",
        "outputId": "3fb17a9d-c62f-4c59-f560-c3ee49c00b28"
      },
      "execution_count": 11,
      "outputs": [
        {
          "output_type": "execute_result",
          "data": {
            "text/plain": [
              "array([0., 0., 0., 0., 0.])"
            ]
          },
          "metadata": {},
          "execution_count": 11
        }
      ]
    },
    {
      "cell_type": "code",
      "source": [
        "#12. Write a function `create_ones_matrix` that takes integers `rows` and `cols` as inputs\n",
        "#and generates a 2D NumPy array filled with ones of size `rows x cols`.\n",
        "def create_ones_matrix(m,n):\n",
        "    mat = np.ones((m,n))\n",
        "    return mat\n",
        "\n",
        "create_ones_matrix(3,4)\n"
      ],
      "metadata": {
        "colab": {
          "base_uri": "https://localhost:8080/"
        },
        "id": "ZjPrZU5Gzyok",
        "outputId": "dbf7007b-58ec-4f77-ec38-97cbce5d58d3"
      },
      "execution_count": 12,
      "outputs": [
        {
          "output_type": "execute_result",
          "data": {
            "text/plain": [
              "array([[1., 1., 1., 1.],\n",
              "       [1., 1., 1., 1.],\n",
              "       [1., 1., 1., 1.]])"
            ]
          },
          "metadata": {},
          "execution_count": 12
        }
      ]
    },
    {
      "cell_type": "code",
      "source": [
        "#13. Write a function `generate_range_array` that takes three integers start, stop, and step as arguments and\n",
        "#creates a NumPy array with a range starting from `start`, ending at stop (exclusive), and with the specified `step`.\n",
        "def generate_range_array(a,b,c):\n",
        "    arr = np.arange(a,b,c)\n",
        "    return arr\n",
        "\n",
        "generate_range_array(2,20,3)"
      ],
      "metadata": {
        "colab": {
          "base_uri": "https://localhost:8080/"
        },
        "id": "4-z-Eu5zz01o",
        "outputId": "e2ae1d99-a257-41c0-b638-d101eb58a598"
      },
      "execution_count": 13,
      "outputs": [
        {
          "output_type": "execute_result",
          "data": {
            "text/plain": [
              "array([ 2,  5,  8, 11, 14, 17])"
            ]
          },
          "metadata": {},
          "execution_count": 13
        }
      ]
    },
    {
      "cell_type": "code",
      "source": [
        "#14. Design a function `generate_linear_space` that takes two floats `start`, `stop`, and an integer `num` as\n",
        "#arguments and generates a NumPy array with num equally spaced values between `start` and `stop` (inclusive).\n",
        "def generate_linear_space(start, stop,num):\n",
        "    arr = np.linspace(start, stop,num)\n",
        "    return arr\n",
        "generate_linear_space(2.1,5.2,10)"
      ],
      "metadata": {
        "colab": {
          "base_uri": "https://localhost:8080/"
        },
        "id": "7v1T9jJMz3vw",
        "outputId": "dcdc18ec-cdd5-40fd-a8a8-9f46b40653d2"
      },
      "execution_count": 14,
      "outputs": [
        {
          "output_type": "execute_result",
          "data": {
            "text/plain": [
              "array([2.1       , 2.44444444, 2.78888889, 3.13333333, 3.47777778,\n",
              "       3.82222222, 4.16666667, 4.51111111, 4.85555556, 5.2       ])"
            ]
          },
          "metadata": {},
          "execution_count": 14
        }
      ]
    },
    {
      "cell_type": "code",
      "source": [
        "#15. Create a function `create_identity_matrix` that takes an integer `n` as input and generates a square\n",
        "#identity matrix of size `n x n` using `numpy.eye`.\n",
        "def create_identity_matrix(n):\n",
        "    arr = np.eye(n)\n",
        "    return arr\n",
        "create_identity_matrix(5)"
      ],
      "metadata": {
        "colab": {
          "base_uri": "https://localhost:8080/"
        },
        "id": "WJSvKJ0uz66P",
        "outputId": "dc99fb70-7914-40f7-d9cb-8e885bb6a51c"
      },
      "execution_count": 15,
      "outputs": [
        {
          "output_type": "execute_result",
          "data": {
            "text/plain": [
              "array([[1., 0., 0., 0., 0.],\n",
              "       [0., 1., 0., 0., 0.],\n",
              "       [0., 0., 1., 0., 0.],\n",
              "       [0., 0., 0., 1., 0.],\n",
              "       [0., 0., 0., 0., 1.]])"
            ]
          },
          "metadata": {},
          "execution_count": 15
        }
      ]
    },
    {
      "cell_type": "code",
      "source": [
        "#16. Write a function that takes a Python list and converts it into a NumPy array\n",
        "def list_to_array(l):\n",
        "    arr = np.array(l)\n",
        "    return arr\n",
        "l = [1, 2, 3, 4, 5]\n",
        "list_to_array(l)"
      ],
      "metadata": {
        "colab": {
          "base_uri": "https://localhost:8080/"
        },
        "id": "m9QjWIBKz9L-",
        "outputId": "3439bb99-426d-4045-8d1b-16b166991ed4"
      },
      "execution_count": 16,
      "outputs": [
        {
          "output_type": "execute_result",
          "data": {
            "text/plain": [
              "array([1, 2, 3, 4, 5])"
            ]
          },
          "metadata": {},
          "execution_count": 16
        }
      ]
    },
    {
      "cell_type": "code",
      "source": [
        "#17. Create a NumPy array and demonstrate the use of `numpy.view` to create a new array object with the same data.\n",
        "print(arr)\n",
        "arr2 = arr.view\n",
        "print(arr2)"
      ],
      "metadata": {
        "colab": {
          "base_uri": "https://localhost:8080/"
        },
        "id": "b2fw6Oj4z-8G",
        "outputId": "7c3de1a9-4bb7-43fb-ec10-9219de69164f"
      },
      "execution_count": 17,
      "outputs": [
        {
          "output_type": "stream",
          "name": "stdout",
          "text": [
            "[[1 2 3]\n",
            " [4 5 6]]\n",
            "<built-in method view of numpy.ndarray object at 0x7a77528926d0>\n"
          ]
        }
      ]
    },
    {
      "cell_type": "code",
      "source": [
        "#18. Write a function that takes two NumPy arrays and concatenates them along a specified axis.\n",
        "def concatenate_arrays(arr1, arr2, axis=0):\n",
        "    return np.concatenate((arr1, arr2), axis=axis)\n",
        "arr1 = np.array([[1, 2, 3], [4, 5, 6]])\n",
        "arr2 = np.array([[7, 8, 9], [10, 11, 12]])\n",
        "concatenate_arrays(arr1, arr2, axis=0)"
      ],
      "metadata": {
        "colab": {
          "base_uri": "https://localhost:8080/"
        },
        "id": "hAHV9j-S0A8d",
        "outputId": "b7b1dae7-5cfc-4890-f506-92022dc6181c"
      },
      "execution_count": 18,
      "outputs": [
        {
          "output_type": "execute_result",
          "data": {
            "text/plain": [
              "array([[ 1,  2,  3],\n",
              "       [ 4,  5,  6],\n",
              "       [ 7,  8,  9],\n",
              "       [10, 11, 12]])"
            ]
          },
          "metadata": {},
          "execution_count": 18
        }
      ]
    },
    {
      "cell_type": "code",
      "source": [
        "#19. Create two NumPy arrays with different shapes and concatenate them horizontally using `numpy.concatenate`.\n",
        "arr1 = np.array([[1, 2, 3], [4, 5, 6]])\n",
        "arr2 = np.array([[7, 8, 9,10], [10, 11, 12,14]])\n",
        "concat=np.concatenate((arr1, arr2), axis=1)\n",
        "concat"
      ],
      "metadata": {
        "colab": {
          "base_uri": "https://localhost:8080/"
        },
        "id": "g093cJQE0Upu",
        "outputId": "8b853c3e-baeb-4171-90c5-48bd6f509171"
      },
      "execution_count": 19,
      "outputs": [
        {
          "output_type": "execute_result",
          "data": {
            "text/plain": [
              "array([[ 1,  2,  3,  7,  8,  9, 10],\n",
              "       [ 4,  5,  6, 10, 11, 12, 14]])"
            ]
          },
          "metadata": {},
          "execution_count": 19
        }
      ]
    },
    {
      "cell_type": "code",
      "source": [
        "#20. Write a function that vertically stacks multiple NumPy arrays given as a list.\n",
        "def vstack_arrays(arrays):\n",
        "   return np.vstack(arrays)\n",
        "\n",
        "arr1 = np.array([[1, 2, 3], [4, 5, 6]])\n",
        "arr2 = np.array([[7, 8, 9], [10, 11, 12]])\n",
        "arr3 = np.array([[13, 14, 15], [16, 17, 18]])\n",
        "\n",
        "vstack_arrays([arr1, arr2, arr3])"
      ],
      "metadata": {
        "colab": {
          "base_uri": "https://localhost:8080/"
        },
        "id": "hJ820zGy1EKj",
        "outputId": "ac3beb49-d4ae-4e3d-f48c-938896012758"
      },
      "execution_count": 20,
      "outputs": [
        {
          "output_type": "execute_result",
          "data": {
            "text/plain": [
              "array([[ 1,  2,  3],\n",
              "       [ 4,  5,  6],\n",
              "       [ 7,  8,  9],\n",
              "       [10, 11, 12],\n",
              "       [13, 14, 15],\n",
              "       [16, 17, 18]])"
            ]
          },
          "metadata": {},
          "execution_count": 20
        }
      ]
    },
    {
      "cell_type": "code",
      "source": [
        "#21. Write a Python function using NumPy to create an array of integers within a specified range (inclusive) with a given step size.\n",
        "def generate_range_array(a,b,c):\n",
        "    arr = np.arange(a,b+1,c)\n",
        "    return arr\n",
        "\n",
        "generate_range_array(2,20,3)"
      ],
      "metadata": {
        "colab": {
          "base_uri": "https://localhost:8080/"
        },
        "id": "51TUwcb71sfU",
        "outputId": "314fbf8c-2aaa-49eb-a98f-636decdff43f"
      },
      "execution_count": 21,
      "outputs": [
        {
          "output_type": "execute_result",
          "data": {
            "text/plain": [
              "array([ 2,  5,  8, 11, 14, 17, 20])"
            ]
          },
          "metadata": {},
          "execution_count": 21
        }
      ]
    },
    {
      "cell_type": "code",
      "source": [
        "#22. Write a Python function using NumPy to generate an array of 10 equally spaced values between 0 and 1(inclusive).\n",
        "arr = np.linspace(0,1,10)\n",
        "arr"
      ],
      "metadata": {
        "colab": {
          "base_uri": "https://localhost:8080/"
        },
        "id": "Hp6D72-T2FT0",
        "outputId": "94d4b0c8-2741-40b5-dbb8-8c050f06d1c4"
      },
      "execution_count": 22,
      "outputs": [
        {
          "output_type": "execute_result",
          "data": {
            "text/plain": [
              "array([0.        , 0.11111111, 0.22222222, 0.33333333, 0.44444444,\n",
              "       0.55555556, 0.66666667, 0.77777778, 0.88888889, 1.        ])"
            ]
          },
          "metadata": {},
          "execution_count": 22
        }
      ]
    },
    {
      "cell_type": "code",
      "source": [
        "#23. Write a Python function using NumPy to create an array of 5 logarithmically spaced values between 1 and 1000 (inclusive).\n",
        "arr_log =np.logspace(start=0, stop=3, num=5)\n",
        "arr_log"
      ],
      "metadata": {
        "colab": {
          "base_uri": "https://localhost:8080/"
        },
        "id": "AfaDmJ6l2u_c",
        "outputId": "960d04b9-4e9d-4724-ba94-ee9ef360fb92"
      },
      "execution_count": 23,
      "outputs": [
        {
          "output_type": "execute_result",
          "data": {
            "text/plain": [
              "array([   1.        ,    5.62341325,   31.6227766 ,  177.827941  ,\n",
              "       1000.        ])"
            ]
          },
          "metadata": {},
          "execution_count": 23
        }
      ]
    },
    {
      "cell_type": "code",
      "source": [
        "#24. Create a Pandas DataFrame using a NumPy array that contains 5 rows and 3 columns, where the values are random integers between 1 and 100.\n",
        "import pandas as pd\n",
        "data = np.random.randint(1, 101, size=(5, 3))\n",
        "df = pd.DataFrame(data)\n",
        "df"
      ],
      "metadata": {
        "colab": {
          "base_uri": "https://localhost:8080/",
          "height": 206
        },
        "id": "9mJHVAOV3L92",
        "outputId": "ffebe861-4c56-4ea0-a064-39690b43f478"
      },
      "execution_count": 24,
      "outputs": [
        {
          "output_type": "execute_result",
          "data": {
            "text/plain": [
              "    0   1   2\n",
              "0  29  79  52\n",
              "1  58  11  27\n",
              "2  42  20  15\n",
              "3  33  28  85\n",
              "4   5  24  33"
            ],
            "text/html": [
              "\n",
              "  <div id=\"df-ba9d81a8-5b10-41b2-af80-dba0fe89305e\" class=\"colab-df-container\">\n",
              "    <div>\n",
              "<style scoped>\n",
              "    .dataframe tbody tr th:only-of-type {\n",
              "        vertical-align: middle;\n",
              "    }\n",
              "\n",
              "    .dataframe tbody tr th {\n",
              "        vertical-align: top;\n",
              "    }\n",
              "\n",
              "    .dataframe thead th {\n",
              "        text-align: right;\n",
              "    }\n",
              "</style>\n",
              "<table border=\"1\" class=\"dataframe\">\n",
              "  <thead>\n",
              "    <tr style=\"text-align: right;\">\n",
              "      <th></th>\n",
              "      <th>0</th>\n",
              "      <th>1</th>\n",
              "      <th>2</th>\n",
              "    </tr>\n",
              "  </thead>\n",
              "  <tbody>\n",
              "    <tr>\n",
              "      <th>0</th>\n",
              "      <td>29</td>\n",
              "      <td>79</td>\n",
              "      <td>52</td>\n",
              "    </tr>\n",
              "    <tr>\n",
              "      <th>1</th>\n",
              "      <td>58</td>\n",
              "      <td>11</td>\n",
              "      <td>27</td>\n",
              "    </tr>\n",
              "    <tr>\n",
              "      <th>2</th>\n",
              "      <td>42</td>\n",
              "      <td>20</td>\n",
              "      <td>15</td>\n",
              "    </tr>\n",
              "    <tr>\n",
              "      <th>3</th>\n",
              "      <td>33</td>\n",
              "      <td>28</td>\n",
              "      <td>85</td>\n",
              "    </tr>\n",
              "    <tr>\n",
              "      <th>4</th>\n",
              "      <td>5</td>\n",
              "      <td>24</td>\n",
              "      <td>33</td>\n",
              "    </tr>\n",
              "  </tbody>\n",
              "</table>\n",
              "</div>\n",
              "    <div class=\"colab-df-buttons\">\n",
              "\n",
              "  <div class=\"colab-df-container\">\n",
              "    <button class=\"colab-df-convert\" onclick=\"convertToInteractive('df-ba9d81a8-5b10-41b2-af80-dba0fe89305e')\"\n",
              "            title=\"Convert this dataframe to an interactive table.\"\n",
              "            style=\"display:none;\">\n",
              "\n",
              "  <svg xmlns=\"http://www.w3.org/2000/svg\" height=\"24px\" viewBox=\"0 -960 960 960\">\n",
              "    <path d=\"M120-120v-720h720v720H120Zm60-500h600v-160H180v160Zm220 220h160v-160H400v160Zm0 220h160v-160H400v160ZM180-400h160v-160H180v160Zm440 0h160v-160H620v160ZM180-180h160v-160H180v160Zm440 0h160v-160H620v160Z\"/>\n",
              "  </svg>\n",
              "    </button>\n",
              "\n",
              "  <style>\n",
              "    .colab-df-container {\n",
              "      display:flex;\n",
              "      gap: 12px;\n",
              "    }\n",
              "\n",
              "    .colab-df-convert {\n",
              "      background-color: #E8F0FE;\n",
              "      border: none;\n",
              "      border-radius: 50%;\n",
              "      cursor: pointer;\n",
              "      display: none;\n",
              "      fill: #1967D2;\n",
              "      height: 32px;\n",
              "      padding: 0 0 0 0;\n",
              "      width: 32px;\n",
              "    }\n",
              "\n",
              "    .colab-df-convert:hover {\n",
              "      background-color: #E2EBFA;\n",
              "      box-shadow: 0px 1px 2px rgba(60, 64, 67, 0.3), 0px 1px 3px 1px rgba(60, 64, 67, 0.15);\n",
              "      fill: #174EA6;\n",
              "    }\n",
              "\n",
              "    .colab-df-buttons div {\n",
              "      margin-bottom: 4px;\n",
              "    }\n",
              "\n",
              "    [theme=dark] .colab-df-convert {\n",
              "      background-color: #3B4455;\n",
              "      fill: #D2E3FC;\n",
              "    }\n",
              "\n",
              "    [theme=dark] .colab-df-convert:hover {\n",
              "      background-color: #434B5C;\n",
              "      box-shadow: 0px 1px 3px 1px rgba(0, 0, 0, 0.15);\n",
              "      filter: drop-shadow(0px 1px 2px rgba(0, 0, 0, 0.3));\n",
              "      fill: #FFFFFF;\n",
              "    }\n",
              "  </style>\n",
              "\n",
              "    <script>\n",
              "      const buttonEl =\n",
              "        document.querySelector('#df-ba9d81a8-5b10-41b2-af80-dba0fe89305e button.colab-df-convert');\n",
              "      buttonEl.style.display =\n",
              "        google.colab.kernel.accessAllowed ? 'block' : 'none';\n",
              "\n",
              "      async function convertToInteractive(key) {\n",
              "        const element = document.querySelector('#df-ba9d81a8-5b10-41b2-af80-dba0fe89305e');\n",
              "        const dataTable =\n",
              "          await google.colab.kernel.invokeFunction('convertToInteractive',\n",
              "                                                    [key], {});\n",
              "        if (!dataTable) return;\n",
              "\n",
              "        const docLinkHtml = 'Like what you see? Visit the ' +\n",
              "          '<a target=\"_blank\" href=https://colab.research.google.com/notebooks/data_table.ipynb>data table notebook</a>'\n",
              "          + ' to learn more about interactive tables.';\n",
              "        element.innerHTML = '';\n",
              "        dataTable['output_type'] = 'display_data';\n",
              "        await google.colab.output.renderOutput(dataTable, element);\n",
              "        const docLink = document.createElement('div');\n",
              "        docLink.innerHTML = docLinkHtml;\n",
              "        element.appendChild(docLink);\n",
              "      }\n",
              "    </script>\n",
              "  </div>\n",
              "\n",
              "\n",
              "<div id=\"df-3f93b84b-717f-4e3e-92cf-e05176c5909b\">\n",
              "  <button class=\"colab-df-quickchart\" onclick=\"quickchart('df-3f93b84b-717f-4e3e-92cf-e05176c5909b')\"\n",
              "            title=\"Suggest charts\"\n",
              "            style=\"display:none;\">\n",
              "\n",
              "<svg xmlns=\"http://www.w3.org/2000/svg\" height=\"24px\"viewBox=\"0 0 24 24\"\n",
              "     width=\"24px\">\n",
              "    <g>\n",
              "        <path d=\"M19 3H5c-1.1 0-2 .9-2 2v14c0 1.1.9 2 2 2h14c1.1 0 2-.9 2-2V5c0-1.1-.9-2-2-2zM9 17H7v-7h2v7zm4 0h-2V7h2v10zm4 0h-2v-4h2v4z\"/>\n",
              "    </g>\n",
              "</svg>\n",
              "  </button>\n",
              "\n",
              "<style>\n",
              "  .colab-df-quickchart {\n",
              "      --bg-color: #E8F0FE;\n",
              "      --fill-color: #1967D2;\n",
              "      --hover-bg-color: #E2EBFA;\n",
              "      --hover-fill-color: #174EA6;\n",
              "      --disabled-fill-color: #AAA;\n",
              "      --disabled-bg-color: #DDD;\n",
              "  }\n",
              "\n",
              "  [theme=dark] .colab-df-quickchart {\n",
              "      --bg-color: #3B4455;\n",
              "      --fill-color: #D2E3FC;\n",
              "      --hover-bg-color: #434B5C;\n",
              "      --hover-fill-color: #FFFFFF;\n",
              "      --disabled-bg-color: #3B4455;\n",
              "      --disabled-fill-color: #666;\n",
              "  }\n",
              "\n",
              "  .colab-df-quickchart {\n",
              "    background-color: var(--bg-color);\n",
              "    border: none;\n",
              "    border-radius: 50%;\n",
              "    cursor: pointer;\n",
              "    display: none;\n",
              "    fill: var(--fill-color);\n",
              "    height: 32px;\n",
              "    padding: 0;\n",
              "    width: 32px;\n",
              "  }\n",
              "\n",
              "  .colab-df-quickchart:hover {\n",
              "    background-color: var(--hover-bg-color);\n",
              "    box-shadow: 0 1px 2px rgba(60, 64, 67, 0.3), 0 1px 3px 1px rgba(60, 64, 67, 0.15);\n",
              "    fill: var(--button-hover-fill-color);\n",
              "  }\n",
              "\n",
              "  .colab-df-quickchart-complete:disabled,\n",
              "  .colab-df-quickchart-complete:disabled:hover {\n",
              "    background-color: var(--disabled-bg-color);\n",
              "    fill: var(--disabled-fill-color);\n",
              "    box-shadow: none;\n",
              "  }\n",
              "\n",
              "  .colab-df-spinner {\n",
              "    border: 2px solid var(--fill-color);\n",
              "    border-color: transparent;\n",
              "    border-bottom-color: var(--fill-color);\n",
              "    animation:\n",
              "      spin 1s steps(1) infinite;\n",
              "  }\n",
              "\n",
              "  @keyframes spin {\n",
              "    0% {\n",
              "      border-color: transparent;\n",
              "      border-bottom-color: var(--fill-color);\n",
              "      border-left-color: var(--fill-color);\n",
              "    }\n",
              "    20% {\n",
              "      border-color: transparent;\n",
              "      border-left-color: var(--fill-color);\n",
              "      border-top-color: var(--fill-color);\n",
              "    }\n",
              "    30% {\n",
              "      border-color: transparent;\n",
              "      border-left-color: var(--fill-color);\n",
              "      border-top-color: var(--fill-color);\n",
              "      border-right-color: var(--fill-color);\n",
              "    }\n",
              "    40% {\n",
              "      border-color: transparent;\n",
              "      border-right-color: var(--fill-color);\n",
              "      border-top-color: var(--fill-color);\n",
              "    }\n",
              "    60% {\n",
              "      border-color: transparent;\n",
              "      border-right-color: var(--fill-color);\n",
              "    }\n",
              "    80% {\n",
              "      border-color: transparent;\n",
              "      border-right-color: var(--fill-color);\n",
              "      border-bottom-color: var(--fill-color);\n",
              "    }\n",
              "    90% {\n",
              "      border-color: transparent;\n",
              "      border-bottom-color: var(--fill-color);\n",
              "    }\n",
              "  }\n",
              "</style>\n",
              "\n",
              "  <script>\n",
              "    async function quickchart(key) {\n",
              "      const quickchartButtonEl =\n",
              "        document.querySelector('#' + key + ' button');\n",
              "      quickchartButtonEl.disabled = true;  // To prevent multiple clicks.\n",
              "      quickchartButtonEl.classList.add('colab-df-spinner');\n",
              "      try {\n",
              "        const charts = await google.colab.kernel.invokeFunction(\n",
              "            'suggestCharts', [key], {});\n",
              "      } catch (error) {\n",
              "        console.error('Error during call to suggestCharts:', error);\n",
              "      }\n",
              "      quickchartButtonEl.classList.remove('colab-df-spinner');\n",
              "      quickchartButtonEl.classList.add('colab-df-quickchart-complete');\n",
              "    }\n",
              "    (() => {\n",
              "      let quickchartButtonEl =\n",
              "        document.querySelector('#df-3f93b84b-717f-4e3e-92cf-e05176c5909b button');\n",
              "      quickchartButtonEl.style.display =\n",
              "        google.colab.kernel.accessAllowed ? 'block' : 'none';\n",
              "    })();\n",
              "  </script>\n",
              "</div>\n",
              "\n",
              "  <div id=\"id_7d61c60e-1d9d-404a-a0a3-eb80fbafa544\">\n",
              "    <style>\n",
              "      .colab-df-generate {\n",
              "        background-color: #E8F0FE;\n",
              "        border: none;\n",
              "        border-radius: 50%;\n",
              "        cursor: pointer;\n",
              "        display: none;\n",
              "        fill: #1967D2;\n",
              "        height: 32px;\n",
              "        padding: 0 0 0 0;\n",
              "        width: 32px;\n",
              "      }\n",
              "\n",
              "      .colab-df-generate:hover {\n",
              "        background-color: #E2EBFA;\n",
              "        box-shadow: 0px 1px 2px rgba(60, 64, 67, 0.3), 0px 1px 3px 1px rgba(60, 64, 67, 0.15);\n",
              "        fill: #174EA6;\n",
              "      }\n",
              "\n",
              "      [theme=dark] .colab-df-generate {\n",
              "        background-color: #3B4455;\n",
              "        fill: #D2E3FC;\n",
              "      }\n",
              "\n",
              "      [theme=dark] .colab-df-generate:hover {\n",
              "        background-color: #434B5C;\n",
              "        box-shadow: 0px 1px 3px 1px rgba(0, 0, 0, 0.15);\n",
              "        filter: drop-shadow(0px 1px 2px rgba(0, 0, 0, 0.3));\n",
              "        fill: #FFFFFF;\n",
              "      }\n",
              "    </style>\n",
              "    <button class=\"colab-df-generate\" onclick=\"generateWithVariable('df')\"\n",
              "            title=\"Generate code using this dataframe.\"\n",
              "            style=\"display:none;\">\n",
              "\n",
              "  <svg xmlns=\"http://www.w3.org/2000/svg\" height=\"24px\"viewBox=\"0 0 24 24\"\n",
              "       width=\"24px\">\n",
              "    <path d=\"M7,19H8.4L18.45,9,17,7.55,7,17.6ZM5,21V16.75L18.45,3.32a2,2,0,0,1,2.83,0l1.4,1.43a1.91,1.91,0,0,1,.58,1.4,1.91,1.91,0,0,1-.58,1.4L9.25,21ZM18.45,9,17,7.55Zm-12,3A5.31,5.31,0,0,0,4.9,8.1,5.31,5.31,0,0,0,1,6.5,5.31,5.31,0,0,0,4.9,4.9,5.31,5.31,0,0,0,6.5,1,5.31,5.31,0,0,0,8.1,4.9,5.31,5.31,0,0,0,12,6.5,5.46,5.46,0,0,0,6.5,12Z\"/>\n",
              "  </svg>\n",
              "    </button>\n",
              "    <script>\n",
              "      (() => {\n",
              "      const buttonEl =\n",
              "        document.querySelector('#id_7d61c60e-1d9d-404a-a0a3-eb80fbafa544 button.colab-df-generate');\n",
              "      buttonEl.style.display =\n",
              "        google.colab.kernel.accessAllowed ? 'block' : 'none';\n",
              "\n",
              "      buttonEl.onclick = () => {\n",
              "        google.colab.notebook.generateWithVariable('df');\n",
              "      }\n",
              "      })();\n",
              "    </script>\n",
              "  </div>\n",
              "\n",
              "    </div>\n",
              "  </div>\n"
            ],
            "application/vnd.google.colaboratory.intrinsic+json": {
              "type": "dataframe",
              "variable_name": "df",
              "summary": "{\n  \"name\": \"df\",\n  \"rows\": 5,\n  \"fields\": [\n    {\n      \"column\": 0,\n      \"properties\": {\n        \"dtype\": \"number\",\n        \"std\": 19,\n        \"min\": 5,\n        \"max\": 58,\n        \"num_unique_values\": 5,\n        \"samples\": [\n          58,\n          5,\n          42\n        ],\n        \"semantic_type\": \"\",\n        \"description\": \"\"\n      }\n    },\n    {\n      \"column\": 1,\n      \"properties\": {\n        \"dtype\": \"number\",\n        \"std\": 26,\n        \"min\": 11,\n        \"max\": 79,\n        \"num_unique_values\": 5,\n        \"samples\": [\n          11,\n          24,\n          20\n        ],\n        \"semantic_type\": \"\",\n        \"description\": \"\"\n      }\n    },\n    {\n      \"column\": 2,\n      \"properties\": {\n        \"dtype\": \"number\",\n        \"std\": 27,\n        \"min\": 15,\n        \"max\": 85,\n        \"num_unique_values\": 5,\n        \"samples\": [\n          27,\n          33,\n          15\n        ],\n        \"semantic_type\": \"\",\n        \"description\": \"\"\n      }\n    }\n  ]\n}"
            }
          },
          "metadata": {},
          "execution_count": 24
        }
      ]
    },
    {
      "cell_type": "code",
      "source": [
        "#25. Write a function that takes a Pandas DataFrame and replaces all negative values in a specific column with zeros. Use NumPy operations within the Pandas DataFrame.\n",
        "import pandas as pd\n",
        "\n",
        "def replace_negatives_with_zeros(df, column_name):\n",
        "    df[column_name] = np.where(df[column_name] < 0, 0, df[column_name])\n",
        "    return df\n",
        "\n",
        "data = {'A': [1, -2, 3, -4, 5], 'B': [5, -6, 7, -8, 9]}\n",
        "df = pd.DataFrame(data)\n",
        "print(df)\n",
        "df = replace_negatives_with_zeros(df, 'A')\n",
        "print(df)\n"
      ],
      "metadata": {
        "id": "y2wZqNDv5jrq",
        "colab": {
          "base_uri": "https://localhost:8080/"
        },
        "outputId": "c1b3bfcd-1c84-4b06-80bf-33c093cd391c"
      },
      "execution_count": 25,
      "outputs": [
        {
          "output_type": "stream",
          "name": "stdout",
          "text": [
            "   A  B\n",
            "0  1  5\n",
            "1 -2 -6\n",
            "2  3  7\n",
            "3 -4 -8\n",
            "4  5  9\n",
            "   A  B\n",
            "0  1  5\n",
            "1  0 -6\n",
            "2  3  7\n",
            "3  0 -8\n",
            "4  5  9\n"
          ]
        }
      ]
    },
    {
      "cell_type": "code",
      "source": [
        "#26. Access the 3rd element from the given NumPy array.\n",
        "arr = np.array([10, 20, 30, 40, 50])\n",
        "arr[2]"
      ],
      "metadata": {
        "colab": {
          "base_uri": "https://localhost:8080/"
        },
        "id": "TkgJuwFi6pBL",
        "outputId": "25f16eb9-4dc0-4db8-8a0c-bfe65ecdaff4"
      },
      "execution_count": 26,
      "outputs": [
        {
          "output_type": "execute_result",
          "data": {
            "text/plain": [
              "30"
            ]
          },
          "metadata": {},
          "execution_count": 26
        }
      ]
    },
    {
      "cell_type": "code",
      "source": [
        "#27. Retrieve the element at index (1, 2) from the 2D NumPy array.\n",
        "arr_2d = np.array([[1, 2, 3],\n",
        "                   [4, 5, 6],\n",
        "                   [7, 8, 9]])\n",
        "arr_2d[(1,2)]"
      ],
      "metadata": {
        "colab": {
          "base_uri": "https://localhost:8080/"
        },
        "id": "UzTfniAM60bv",
        "outputId": "c62bd33c-a144-4635-f4ba-4dc792b25d6a"
      },
      "execution_count": 27,
      "outputs": [
        {
          "output_type": "execute_result",
          "data": {
            "text/plain": [
              "6"
            ]
          },
          "metadata": {},
          "execution_count": 27
        }
      ]
    },
    {
      "cell_type": "code",
      "source": [
        "#28. Using boolean indexing, extract elements greater than 5 from the given NumPy array\n",
        "arr = np.array([3, 8, 2, 10, 5, 7])\n",
        "arr[arr>5]"
      ],
      "metadata": {
        "colab": {
          "base_uri": "https://localhost:8080/"
        },
        "id": "hZNDyUVF7Gas",
        "outputId": "860c24d5-959c-4ea6-8e93-35dc7ae42dd4"
      },
      "execution_count": 28,
      "outputs": [
        {
          "output_type": "execute_result",
          "data": {
            "text/plain": [
              "array([ 8, 10,  7])"
            ]
          },
          "metadata": {},
          "execution_count": 28
        }
      ]
    },
    {
      "cell_type": "code",
      "source": [
        "#29. Perform basic slicing to extract elements from index 2 to 5 (inclusive) from the given NumPy array.\n",
        "arr = np.array([1, 2, 3, 4, 5, 6, 7, 8, 9])\n",
        "arr[2:6]"
      ],
      "metadata": {
        "colab": {
          "base_uri": "https://localhost:8080/"
        },
        "id": "jpXIkMLS7TXs",
        "outputId": "fd54edc3-ef76-4af9-d9f9-1f13fa230a04"
      },
      "execution_count": 29,
      "outputs": [
        {
          "output_type": "execute_result",
          "data": {
            "text/plain": [
              "array([3, 4, 5, 6])"
            ]
          },
          "metadata": {},
          "execution_count": 29
        }
      ]
    },
    {
      "cell_type": "code",
      "source": [
        "#30. Slice the 2D NumPy array to extract the sub-array `[[2, 3], [5, 6]]` from the given array.\n",
        "arr_2d = np.array([[1, 2, 3],\n",
        "                   [4, 5, 6],\n",
        "                   [7, 8, 9]])\n",
        "arr_2d[0:2, 1:3]"
      ],
      "metadata": {
        "colab": {
          "base_uri": "https://localhost:8080/"
        },
        "id": "XYs10eUj7ehC",
        "outputId": "80e19030-91bf-41f4-bd38-fa1b29072731"
      },
      "execution_count": 30,
      "outputs": [
        {
          "output_type": "execute_result",
          "data": {
            "text/plain": [
              "array([[2, 3],\n",
              "       [5, 6]])"
            ]
          },
          "metadata": {},
          "execution_count": 30
        }
      ]
    },
    {
      "cell_type": "code",
      "source": [
        "#31.Write a NumPy function to extract elements in specific order from a given 2D array based on indices provided in another array.\n",
        "def extract_elements(arr_2d, indices):\n",
        "    return arr_2d[indices[:, 0], indices[:, 1]]\n",
        "arr_2d = np.array([[1, 2, 3],\n",
        "                   [4, 5, 6],\n",
        "                   [7, 8, 9]])\n",
        "indices = np.array([[0, 1],\n",
        "                    [1, 2],\n",
        "                    [2, 0]])\n",
        "extracted_elements = extract_elements(arr_2d, indices)\n",
        "\n",
        "print(extracted_elements)\n"
      ],
      "metadata": {
        "colab": {
          "base_uri": "https://localhost:8080/"
        },
        "id": "PpD1tV_j7vYO",
        "outputId": "a58a409e-1149-485f-b630-73a09abe01a9"
      },
      "execution_count": 31,
      "outputs": [
        {
          "output_type": "stream",
          "name": "stdout",
          "text": [
            "[2 6 7]\n"
          ]
        }
      ]
    },
    {
      "cell_type": "code",
      "source": [
        "#32. Create a NumPy function that filters elements greater than a threshold from a given 1D array using boolean indexing.\n",
        "def filter_greater_than_threshold(arr_1d, threshold):\n",
        "    return arr_1d[arr_1d > threshold]\n",
        "arr_1d = np.array([1, 5, 8, 3, 7, 2, 6, 9, 4])\n",
        "threshold = 5\n",
        "filtered_elements = filter_greater_than_threshold(arr_1d, threshold)\n",
        "print(filtered_elements)\n"
      ],
      "metadata": {
        "colab": {
          "base_uri": "https://localhost:8080/"
        },
        "id": "pQmk0AmM9JgL",
        "outputId": "12552004-2bad-4eae-cdce-d147ea65a258"
      },
      "execution_count": 32,
      "outputs": [
        {
          "output_type": "stream",
          "name": "stdout",
          "text": [
            "[8 7 6 9]\n"
          ]
        }
      ]
    },
    {
      "cell_type": "code",
      "source": [
        "#33. Develop a NumPy function that extracts specific elements from a 3D array using indices provided in three separate arrays for each dimension.\n",
        "import numpy as np\n",
        "\n",
        "def extract_elements_3d(arr_3d, indices_x, indices_y, indices_z):\n",
        "    return arr_3d[indices_x, indices_y, indices_z]\n",
        "arr_3d = np.array([[[ 1,  2,  3],\n",
        "                    [ 4,  5,  6],\n",
        "                    [ 7,  8,  9]],\n",
        "                   [[10, 11, 12],\n",
        "                    [13, 14, 15],\n",
        "                    [16, 17, 18]],\n",
        "                   [[19, 20, 21],\n",
        "                    [22, 23, 24],\n",
        "                    [25, 26, 27]]])\n",
        "indices_x = np.array([0, 1, 2])\n",
        "indices_y = np.array([1, 0, 2])\n",
        "indices_z = np.array([2, 1, 0])\n",
        "extracted_elements = extract_elements_3d(arr_3d, indices_x, indices_y, indices_z)\n",
        "\n",
        "print(extracted_elements)\n"
      ],
      "metadata": {
        "colab": {
          "base_uri": "https://localhost:8080/"
        },
        "id": "ufi7MbWx9gPM",
        "outputId": "59123bd7-ec56-4953-917e-bb4d892c43c2"
      },
      "execution_count": 33,
      "outputs": [
        {
          "output_type": "stream",
          "name": "stdout",
          "text": [
            "[ 6 11 25]\n"
          ]
        }
      ]
    },
    {
      "cell_type": "code",
      "source": [
        "#34. Write a NumPy function that returns elements from an array where both two conditions are satisfied using boolean indexing.\n",
        "import numpy as np\n",
        "\n",
        "def filter_elements_with_two_conditions(arr, condition1, condition2):\n",
        "    boolean_mask = condition1(arr) & condition2(arr)\n",
        "    return arr[boolean_mask]\n",
        "arr = np.array([1, 5, 8, 3, 7, 2, 6, 9, 4])\n",
        "\n",
        "condition1 = lambda x: x > 3\n",
        "condition2 = lambda x: x < 8\n",
        "\n",
        "filtered_elements = filter_elements_with_two_conditions(arr, condition1, condition2)\n",
        "\n",
        "print(filtered_elements)\n"
      ],
      "metadata": {
        "colab": {
          "base_uri": "https://localhost:8080/"
        },
        "id": "rZJripx391GQ",
        "outputId": "9844eb3f-86c8-49d8-8fda-7b971f216d82"
      },
      "execution_count": 34,
      "outputs": [
        {
          "output_type": "stream",
          "name": "stdout",
          "text": [
            "[5 7 6 4]\n"
          ]
        }
      ]
    },
    {
      "cell_type": "code",
      "source": [
        "#35. Create a NumPy function that extracts elements from a 2D array using row and column indices provided in separate arrays.\n",
        "def extract_elements_2d(arr_2d, row_indices, col_indices):\n",
        "\n",
        "    return arr_2d[row_indices, col_indices]\n",
        "\n",
        "arr_2d = np.array([[1, 2, 3],\n",
        "                   [4, 5, 6],\n",
        "                   [7, 8, 9]])\n",
        "\n",
        "row_indices = np.array([0, 1, 2])\n",
        "col_indices = np.array([1, 2, 0])\n",
        "\n",
        "extracted_elements = extract_elements_2d(arr_2d, row_indices, col_indices)\n",
        "\n",
        "print(extracted_elements)\n"
      ],
      "metadata": {
        "colab": {
          "base_uri": "https://localhost:8080/"
        },
        "id": "jc9DSg8F-U2c",
        "outputId": "2f2abce0-6228-4d7d-983a-3f458df4f31b"
      },
      "execution_count": 35,
      "outputs": [
        {
          "output_type": "stream",
          "name": "stdout",
          "text": [
            "[2 6 7]\n"
          ]
        }
      ]
    },
    {
      "cell_type": "code",
      "source": [
        "#36. Given an array arr of shape (3, 3), add a scalar value of 5 to each element using NumPy broadcasting.\n",
        "arr = np.array([[1, 2, 3],\n",
        "                [4, 5, 6],\n",
        "                [7, 8, 9]])\n",
        "\n",
        "arr_plus_5 = arr + 5\n",
        "\n",
        "print(arr_plus_5)\n"
      ],
      "metadata": {
        "colab": {
          "base_uri": "https://localhost:8080/"
        },
        "id": "2vJ6QXPl-qD5",
        "outputId": "0f14f4f6-0d61-408b-82d8-9501308797ef"
      },
      "execution_count": 36,
      "outputs": [
        {
          "output_type": "stream",
          "name": "stdout",
          "text": [
            "[[ 6  7  8]\n",
            " [ 9 10 11]\n",
            " [12 13 14]]\n"
          ]
        }
      ]
    },
    {
      "cell_type": "code",
      "source": [
        "#37. Consider two arrays arr1 of shape (1, 3) and arr2 of shape (3, 4). Multiply each row of arr2 by the corresponding element in arr1 using NumPy broadcasting.\n",
        "arr1 = np.array([[2],\n",
        "                  [3],\n",
        "                  [4]])\n",
        "arr2 = np.array([[1, 2, 3, 4],\n",
        "                 [5, 6, 7, 8],\n",
        "                 [9, 10, 11, 12]])\n",
        "\n",
        "result = arr2 * arr1\n",
        "\n",
        "print(result)\n"
      ],
      "metadata": {
        "colab": {
          "base_uri": "https://localhost:8080/"
        },
        "id": "rub0E_aR-7MP",
        "outputId": "a40b0a85-b3ad-4f9a-e0f7-415ed9fb5158"
      },
      "execution_count": 37,
      "outputs": [
        {
          "output_type": "stream",
          "name": "stdout",
          "text": [
            "[[ 2  4  6  8]\n",
            " [15 18 21 24]\n",
            " [36 40 44 48]]\n"
          ]
        }
      ]
    },
    {
      "cell_type": "code",
      "source": [
        "#38. Given a 1D array arr1 of shape (1, 4) and a 2D array arr2 of shape (4, 3), add arr1 to each row of arr2 using NumPy broadcasting.\n",
        "arr1 = np.array([[1, 2, 3, 4]])\n",
        "arr2 = np.array([[5, 6, 7],\n",
        "                 [8, 9, 10],\n",
        "                 [11, 12, 13],\n",
        "                 [14, 15, 16]])\n",
        "\n",
        "arr1_reshaped = arr1[:, :arr2.shape[1]]\n",
        "result = arr2 + arr1_reshaped\n",
        "\n",
        "print(result)\n",
        "\n"
      ],
      "metadata": {
        "id": "iZtKp2-z-7eS",
        "colab": {
          "base_uri": "https://localhost:8080/"
        },
        "outputId": "62d1e5df-2078-4a43-fa8c-c4f6275c4455"
      },
      "execution_count": 38,
      "outputs": [
        {
          "output_type": "stream",
          "name": "stdout",
          "text": [
            "[[ 6  8 10]\n",
            " [ 9 11 13]\n",
            " [12 14 16]\n",
            " [15 17 19]]\n"
          ]
        }
      ]
    },
    {
      "cell_type": "code",
      "source": [
        "#39 Consider two arrays arr1 of shape (3, 1) and arr2 of shape (1, 3). Add these arrays using NumPy broadcasting.\n",
        "arr1 = np.array([[1],\n",
        "                 [2],\n",
        "                 [3]])\n",
        "\n",
        "arr2 = np.array([[4, 5, 6]])\n",
        "result = arr1 + arr2\n",
        "\n",
        "print(result)\n"
      ],
      "metadata": {
        "id": "tmhIJZqK-7m_",
        "colab": {
          "base_uri": "https://localhost:8080/"
        },
        "outputId": "56827b70-18b8-454b-f72d-c6a2a6a29a4a"
      },
      "execution_count": 39,
      "outputs": [
        {
          "output_type": "stream",
          "name": "stdout",
          "text": [
            "[[5 6 7]\n",
            " [6 7 8]\n",
            " [7 8 9]]\n"
          ]
        }
      ]
    },
    {
      "cell_type": "code",
      "source": [
        "#40. Given arrays arr1 of shape (2, 3) and arr2 of shape (2, 2), perform multiplication using NumPy broadcasting. Handle the shape incompatibility.\n"
      ],
      "metadata": {
        "id": "_PukkCbm-7p4"
      },
      "execution_count": 40,
      "outputs": []
    },
    {
      "cell_type": "code",
      "source": [
        "#41. Calculate column wise mean for the given array:\n",
        "arr = np.array([[1, 2, 3], [4, 5, 6]])\n",
        "column_mean = np.mean(arr, axis=0)\n",
        "print(column_mean)\n"
      ],
      "metadata": {
        "id": "mpHpAC_k-7sr",
        "colab": {
          "base_uri": "https://localhost:8080/"
        },
        "outputId": "a1004191-26d0-4e04-d9a5-25a43294f641"
      },
      "execution_count": 41,
      "outputs": [
        {
          "output_type": "stream",
          "name": "stdout",
          "text": [
            "[2.5 3.5 4.5]\n"
          ]
        }
      ]
    },
    {
      "cell_type": "code",
      "source": [
        "#42. Find maximum value in each row of the given array:\n",
        "arr = np.array([[1, 2, 3], [4, 5, 6]])\n",
        "max = np.max(arr, axis=1)\n",
        "print(max)"
      ],
      "metadata": {
        "id": "3W3KzaB7-7vV",
        "colab": {
          "base_uri": "https://localhost:8080/"
        },
        "outputId": "0ff5a8ed-bfd0-4e79-9da4-9d6f0ae8a60f"
      },
      "execution_count": 42,
      "outputs": [
        {
          "output_type": "stream",
          "name": "stdout",
          "text": [
            "[3 6]\n"
          ]
        }
      ]
    },
    {
      "cell_type": "code",
      "source": [
        "#43. For the given array, find indices of maximum value in each column.\n",
        "arr = np.array([[1, 2, 3], [4, 5, 6]])\n",
        "indices_max = np.argmax(arr, axis=0)\n",
        "print(indices_max)"
      ],
      "metadata": {
        "id": "6ulQjnmr-7yK",
        "colab": {
          "base_uri": "https://localhost:8080/"
        },
        "outputId": "ddbd553f-19d6-4da8-ddb6-90b8f30b3b4e"
      },
      "execution_count": 43,
      "outputs": [
        {
          "output_type": "stream",
          "name": "stdout",
          "text": [
            "[1 1 1]\n"
          ]
        }
      ]
    },
    {
      "cell_type": "code",
      "source": [
        "#44. For the given array, apply custom function to calculate moving sum along rows."
      ],
      "metadata": {
        "id": "JBatTTU--73r"
      },
      "execution_count": 44,
      "outputs": []
    },
    {
      "cell_type": "code",
      "source": [
        "#45. In the given array, check if all elements in each column are even.\n",
        "arr = np.array([[2, 4, 6], [3, 5, 7]])\n",
        "arr%2==0"
      ],
      "metadata": {
        "id": "7TsgXh8E-75-",
        "colab": {
          "base_uri": "https://localhost:8080/"
        },
        "outputId": "e9be93fb-71cb-4dfb-df09-d22612cfb210"
      },
      "execution_count": 45,
      "outputs": [
        {
          "output_type": "execute_result",
          "data": {
            "text/plain": [
              "array([[ True,  True,  True],\n",
              "       [False, False, False]])"
            ]
          },
          "metadata": {},
          "execution_count": 45
        }
      ]
    },
    {
      "cell_type": "code",
      "source": [
        "#46. Given a NumPy array arr, reshape it into a matrix of dimensions `m` rows and `n` columns. Return the reshaped matrix.\n",
        "arr = np.array([2, 4, 6,3, 5, 7])\n",
        "\n",
        "matrixx = np.asmatrix(arr.reshape(2,3))\n",
        "matrixx"
      ],
      "metadata": {
        "id": "C59dijjd-78s",
        "colab": {
          "base_uri": "https://localhost:8080/"
        },
        "outputId": "e69f451d-70e7-42ec-9b0e-175c12483a57"
      },
      "execution_count": 46,
      "outputs": [
        {
          "output_type": "execute_result",
          "data": {
            "text/plain": [
              "matrix([[2, 4, 6],\n",
              "        [3, 5, 7]])"
            ]
          },
          "metadata": {},
          "execution_count": 46
        }
      ]
    },
    {
      "cell_type": "code",
      "source": [
        "#47. Create a function that takes a matrix as input and returns the flattened array.\n",
        "input_matrix = np.array([[1, 2, 3], [4, 5, 6]])\n",
        "def flatten(mat):\n",
        "  matt = mat.flatten()\n",
        "  return matt\n",
        "\n",
        "flatten(input_matrix)"
      ],
      "metadata": {
        "id": "rDM4jnSb-7_M",
        "colab": {
          "base_uri": "https://localhost:8080/"
        },
        "outputId": "e44f551b-8234-4ab6-c39d-4a597fcc9dfa"
      },
      "execution_count": 47,
      "outputs": [
        {
          "output_type": "execute_result",
          "data": {
            "text/plain": [
              "array([1, 2, 3, 4, 5, 6])"
            ]
          },
          "metadata": {},
          "execution_count": 47
        }
      ]
    },
    {
      "cell_type": "code",
      "source": [
        "#48. Write a function that concatenates two given arrays along a specified axis.\n",
        "array1 = np.array([[1, 2], [3, 4]])\n",
        "array2 = np.array([[5, 6], [7, 8]])\n",
        "\n",
        "print(concatenate_arrays(array1,array2, axis=0))\n",
        "concatenate_arrays(array1,array2, axis=1)"
      ],
      "metadata": {
        "id": "gHGaAiS4-8Bz",
        "colab": {
          "base_uri": "https://localhost:8080/"
        },
        "outputId": "497c5abf-d403-4df5-92f0-bf0e38562ff5"
      },
      "execution_count": 48,
      "outputs": [
        {
          "output_type": "stream",
          "name": "stdout",
          "text": [
            "[[1 2]\n",
            " [3 4]\n",
            " [5 6]\n",
            " [7 8]]\n"
          ]
        },
        {
          "output_type": "execute_result",
          "data": {
            "text/plain": [
              "array([[1, 2, 5, 6],\n",
              "       [3, 4, 7, 8]])"
            ]
          },
          "metadata": {},
          "execution_count": 48
        }
      ]
    },
    {
      "cell_type": "code",
      "source": [
        "#49. Create a function that splits an array into multiple sub-arrays along a specified axis.\n",
        "original_array = np.array([[1, 2, 3], [4, 5, 6], [7, 8, 9]])\n",
        "np.split(original_array,3, axis=0)"
      ],
      "metadata": {
        "id": "RMxJWZsS-8Eh",
        "colab": {
          "base_uri": "https://localhost:8080/"
        },
        "outputId": "e72b6975-68a5-4f9f-ba67-14a8857856e4"
      },
      "execution_count": 49,
      "outputs": [
        {
          "output_type": "execute_result",
          "data": {
            "text/plain": [
              "[array([[1, 2, 3]]), array([[4, 5, 6]]), array([[7, 8, 9]])]"
            ]
          },
          "metadata": {},
          "execution_count": 49
        }
      ]
    },
    {
      "cell_type": "code",
      "source": [
        "#50. Write a function that inserts and then deletes elements from a given array at specified indices.\n",
        "def insert_and_delete(arr, insert_indices, insert_values, delete_indices):\n",
        "    arr = np.insert(arr, insert_indices, insert_values)\n",
        "    arr = np.delete(arr, delete_indices)\n",
        "\n",
        "    return arr\n",
        "original_array = np.array([1, 2, 3, 4, 5])\n",
        "insert_indices = [1, 3]\n",
        "insert_values = [9, 8]\n",
        "delete_indices = [2, 4]\n",
        "\n",
        "result = insert_and_delete(original_array, insert_indices, insert_values, delete_indices)\n",
        "\n",
        "print(result)\n"
      ],
      "metadata": {
        "id": "TO-vGoio-8Gx",
        "colab": {
          "base_uri": "https://localhost:8080/"
        },
        "outputId": "7efc5956-3861-4099-b595-0573dfb5f941"
      },
      "execution_count": 50,
      "outputs": [
        {
          "output_type": "stream",
          "name": "stdout",
          "text": [
            "[1 9 3 4 5]\n"
          ]
        }
      ]
    },
    {
      "cell_type": "code",
      "source": [
        "#51. Create a NumPy array `arr1` with random integers and another array `arr2` with integers from 1 to 10. Perform element-wise addition between `arr1` and `arr2`.\n",
        "arr1 = np.random.randint(0, 10, size=10)\n",
        "arr2 = np.arange(1, 11)\n",
        "print(arr1)\n",
        "print(arr2)\n",
        "result = arr1 + arr2\n",
        "result"
      ],
      "metadata": {
        "id": "cspf01h2-8Ja",
        "colab": {
          "base_uri": "https://localhost:8080/"
        },
        "outputId": "e62061bd-ea7f-45bc-db44-4ae805d462f2"
      },
      "execution_count": 51,
      "outputs": [
        {
          "output_type": "stream",
          "name": "stdout",
          "text": [
            "[5 9 6 7 0 3 5 7 0 2]\n",
            "[ 1  2  3  4  5  6  7  8  9 10]\n"
          ]
        },
        {
          "output_type": "execute_result",
          "data": {
            "text/plain": [
              "array([ 6, 11,  9, 11,  5,  9, 12, 15,  9, 12])"
            ]
          },
          "metadata": {},
          "execution_count": 51
        }
      ]
    },
    {
      "cell_type": "code",
      "source": [
        "#52. Generate a NumPy array `arr1` with sequential integers from 10 to 1 and another array `arr2` with integers from 1 to 10. Subtract `arr2` from `arr1` element-wise.\n",
        "arr1 = np.arange(10, 0, -1)\n",
        "arr2 = np.arange(1, 11)\n",
        "print(arr1)\n",
        "print(arr2)\n",
        "result = arr1 - arr2\n",
        "result"
      ],
      "metadata": {
        "id": "7C00sdt6-8Lx",
        "colab": {
          "base_uri": "https://localhost:8080/"
        },
        "outputId": "c1de5d92-7023-419c-8929-b9ab4373ada6"
      },
      "execution_count": 52,
      "outputs": [
        {
          "output_type": "stream",
          "name": "stdout",
          "text": [
            "[10  9  8  7  6  5  4  3  2  1]\n",
            "[ 1  2  3  4  5  6  7  8  9 10]\n"
          ]
        },
        {
          "output_type": "execute_result",
          "data": {
            "text/plain": [
              "array([ 9,  7,  5,  3,  1, -1, -3, -5, -7, -9])"
            ]
          },
          "metadata": {},
          "execution_count": 52
        }
      ]
    },
    {
      "cell_type": "code",
      "source": [
        "#53. Create a NumPy array `arr1` with random integers and another array `arr2` with integers from 1 to 5. Perform element-wise multiplication between `arr1` and `arr2`.\n",
        "arr1 = np.random.randint(0,1000,size=5)\n",
        "print(arr1)\n",
        "arr2 = np.arange(1,6)\n",
        "print(arr2)\n",
        "result = arr1*arr2\n",
        "result"
      ],
      "metadata": {
        "id": "OcZFyHTy-8Ok",
        "colab": {
          "base_uri": "https://localhost:8080/"
        },
        "outputId": "bbd97388-a76f-40ed-d502-2cad6647d681"
      },
      "execution_count": 53,
      "outputs": [
        {
          "output_type": "stream",
          "name": "stdout",
          "text": [
            "[990 865 361 563 420]\n",
            "[1 2 3 4 5]\n"
          ]
        },
        {
          "output_type": "execute_result",
          "data": {
            "text/plain": [
              "array([ 990, 1730, 1083, 2252, 2100])"
            ]
          },
          "metadata": {},
          "execution_count": 53
        }
      ]
    },
    {
      "cell_type": "code",
      "source": [
        "#54. Generate a NumPy array `arr1` with even integers from 2 to 10 and another array `arr2` with integers from 1 to 5. Perform element-wise division of `arr1` by `arr2`.\n",
        "arr1 = np.arange(2,11,2)\n",
        "arr2 = np.arange(1,6)\n",
        "result = arr1/arr2\n",
        "result"
      ],
      "metadata": {
        "id": "aj9NJLKB-8RO",
        "colab": {
          "base_uri": "https://localhost:8080/"
        },
        "outputId": "d4022116-a0d3-40f6-f9a3-5cfb1697ed2b"
      },
      "execution_count": 54,
      "outputs": [
        {
          "output_type": "execute_result",
          "data": {
            "text/plain": [
              "array([2., 2., 2., 2., 2.])"
            ]
          },
          "metadata": {},
          "execution_count": 54
        }
      ]
    },
    {
      "cell_type": "code",
      "source": [
        "#55. Create a NumPy array `arr1` with integers from 1 to 5 and another array `arr2` with the same numbers reversed.\n",
        "#Calculate the exponentiation of `arr1` raised to the power of `arr2` element-wise.\n",
        "arr1 = np.arange(1,6)\n",
        "arr2 = np.arange(5,0,-1)\n",
        "result = arr1**arr2\n",
        "result"
      ],
      "metadata": {
        "id": "fWPHWNHn-8Tx",
        "colab": {
          "base_uri": "https://localhost:8080/"
        },
        "outputId": "b3361aef-5aaf-4eb6-907c-c79166ddba71"
      },
      "execution_count": 55,
      "outputs": [
        {
          "output_type": "execute_result",
          "data": {
            "text/plain": [
              "array([ 1, 16, 27, 16,  5])"
            ]
          },
          "metadata": {},
          "execution_count": 55
        }
      ]
    },
    {
      "cell_type": "code",
      "source": [
        "#56. Write a function that counts the occurrences of a specific substring within a NumPy array of strings.\n",
        "arr = np.array(['hello', 'world', 'hello', 'numpy', 'hello'])\n",
        "\n",
        "def count_substring_occurrences(arr, substring):\n",
        "    count_per_element = np.char.count(arr, substring)\n",
        "    total_count = np.sum(count_per_element)\n",
        "\n",
        "    return total_count\n",
        "substring = 'hello'\n",
        "\n",
        "result = count_substring_occurrences(arr, substring)\n",
        "\n",
        "print(result)\n"
      ],
      "metadata": {
        "id": "a1174E6w-8WX",
        "colab": {
          "base_uri": "https://localhost:8080/"
        },
        "outputId": "cbc7e62b-77e4-4448-ddfb-87f8d6ebd997"
      },
      "execution_count": 56,
      "outputs": [
        {
          "output_type": "stream",
          "name": "stdout",
          "text": [
            "3\n"
          ]
        }
      ]
    },
    {
      "cell_type": "code",
      "source": [
        "#57. Write a function that extracts uppercase characters from a NumPy array of strings.\n",
        "arr = np.array(['Hello', 'World', 'OpenAI', 'GPT'])"
      ],
      "metadata": {
        "id": "lhP0cR9sdlNN"
      },
      "execution_count": 57,
      "outputs": []
    },
    {
      "cell_type": "code",
      "source": [
        "#58. Write a function that replaces occurrences of a substring in a NumPy array of strings with a new string.\n",
        "arr = np.array(['apple', 'banana', 'grape', 'pineapple'])\n",
        "def replace_substring(arr, old_substring, new_substring):\n",
        "  new_arr = np.char.replace(arr, old_substring, new_substring)\n",
        "\n",
        "  return new_arr\n",
        "\n",
        "print(replace_substring(arr,'banana', 'mango'))"
      ],
      "metadata": {
        "colab": {
          "base_uri": "https://localhost:8080/"
        },
        "id": "nHAw7qThdlVE",
        "outputId": "93b1c16e-050b-4f08-e305-176c7af27331"
      },
      "execution_count": 58,
      "outputs": [
        {
          "output_type": "stream",
          "name": "stdout",
          "text": [
            "['apple' 'mango' 'grape' 'pineapple']\n"
          ]
        }
      ]
    },
    {
      "cell_type": "code",
      "source": [
        "#59. Write a function that concatenates strings in a NumPy array element-wise\n",
        "\n",
        "def concatenate_strings(arr1, arr2):\n",
        "    concatenated = np.char.add(arr1,' ')\n",
        "    concatenated_array = np.char.add(concatenated,arr2)\n",
        "    return concatenated_array\n",
        "\n",
        "arr1 = np.array(['Hello', 'World'])\n",
        "arr2 = np.array(['Open', 'AI'])\n",
        "\n",
        "result = concatenate_strings(arr1, arr2)\n",
        "\n",
        "print(result)\n"
      ],
      "metadata": {
        "colab": {
          "base_uri": "https://localhost:8080/"
        },
        "id": "ywsZEWC2dlYl",
        "outputId": "42605013-8dcc-4f9a-ac6b-c6a4839fa8eb"
      },
      "execution_count": 59,
      "outputs": [
        {
          "output_type": "stream",
          "name": "stdout",
          "text": [
            "['Hello Open' 'World AI']\n"
          ]
        }
      ]
    },
    {
      "cell_type": "code",
      "source": [
        "#60. Write a function that finds the length of the longest string in a NumPy array.\n",
        "\n",
        "arr = np.array(['apple', 'banana', 'grape', 'pineapple'])\n",
        "def longest_string_length(arr):\n",
        "  lengths = np.vectorize(len)(arr)\n",
        "  lengths_max = np.max(lengths)\n",
        "  return lengths_max\n",
        "\n",
        "print(longest_string_length(arr))"
      ],
      "metadata": {
        "colab": {
          "base_uri": "https://localhost:8080/"
        },
        "id": "1kPIjI4hdlbT",
        "outputId": "93d55b37-f57f-4aa1-a6f5-0c6ac2417570"
      },
      "execution_count": 60,
      "outputs": [
        {
          "output_type": "stream",
          "name": "stdout",
          "text": [
            "9\n"
          ]
        }
      ]
    },
    {
      "cell_type": "code",
      "source": [
        "#61. Create a dataset of 100 random integers between 1 and 1000. Compute the mean, median, variance, and standard deviation of the dataset using NumPy's functions.\n",
        "arr = np.random.randint(1,1000, size=100)\n",
        "mean_value = np.mean(arr)\n",
        "median_value = np.median(arr)\n",
        "variance_value = np.var(arr)\n",
        "std_deviation_value = np.std(arr)\n",
        "print(\"Dataset:\", arr)\n",
        "print(\"Mean:\", mean_value)\n",
        "print(\"Median:\", median_value)\n",
        "print(\"Variance:\", variance_value)\n",
        "print(\"Standard Deviation:\", std_deviation_value)\n"
      ],
      "metadata": {
        "colab": {
          "base_uri": "https://localhost:8080/"
        },
        "id": "E1YbRfaHdleN",
        "outputId": "73355486-f8a4-4974-d8bd-c481ae2387ad"
      },
      "execution_count": 61,
      "outputs": [
        {
          "output_type": "stream",
          "name": "stdout",
          "text": [
            "Dataset: [968 199 878 204 550   4 214 724 241 913 238 160 672 822 894 813 716 193\n",
            "  10 959 326 802 624 771 466 730 857 774 921 275 422 708 601 431 447 791\n",
            " 916 285 957 326 341 694 889 801 981   3 430 500 721   5 768 893 133 353\n",
            " 416 246 956 545 799 692 857 827 502 183 775 761 909 988 897 432 600  17\n",
            " 105 931 248 132 226 402 805  71 433 672 945 119 680 520 990 178 415 396\n",
            "  31 760 148 253 612 896 305 338 779 792]\n",
            "Mean: 548.98\n",
            "Median: 600.5\n",
            "Variance: 90911.71960000001\n",
            "Standard Deviation: 301.51570373696956\n"
          ]
        }
      ]
    },
    {
      "cell_type": "code",
      "source": [
        "#62. Generate an array of 50 random numbers between 1 and 100. Find the 25th and 75th percentiles of the dataset.\n",
        "dataset = np.random.randint(1,100, size=50)\n",
        "percentile_25 = np.percentile(dataset, 25)\n",
        "\n",
        "# Find the 75th percentile\n",
        "percentile_75 = np.percentile(dataset, 75)\n",
        "print(\"Random Numbers:\", dataset)\n",
        "print(\"25th Percentile:\", percentile_25)\n",
        "print(\"75th Percentile:\", percentile_75)"
      ],
      "metadata": {
        "colab": {
          "base_uri": "https://localhost:8080/"
        },
        "id": "yyWGsznxdlhz",
        "outputId": "cf113095-5d97-4427-f73c-190d3da2f881"
      },
      "execution_count": 62,
      "outputs": [
        {
          "output_type": "stream",
          "name": "stdout",
          "text": [
            "Random Numbers: [73  6 58 39  3 59 42 17 35 67 25  1 23 96 39  1 23 95 72  3 91 48 47 44\n",
            " 99 88  3 49 61 79 95 65  3 19 36 40 86 39 54 43 18 98 57 79 19 38 91 95\n",
            " 69 69]\n",
            "25th Percentile: 23.5\n",
            "75th Percentile: 72.75\n"
          ]
        }
      ]
    },
    {
      "cell_type": "code",
      "source": [
        "#63. Create two arrays representing two sets of variables. Compute the correlation coefficient between these arrays using NumPy's `corrcoef` function.\n",
        "array1 = np.random.rand(100)\n",
        "array2 = np.random.rand(100)\n",
        "\n",
        "correlation_coefficient = np.corrcoef(array1, array2)[0, 1]\n",
        "\n",
        "print(\"Correlation Coefficient:\", correlation_coefficient)\n"
      ],
      "metadata": {
        "colab": {
          "base_uri": "https://localhost:8080/"
        },
        "id": "tz5jYRfodlkk",
        "outputId": "87d69193-c58d-4446-f6a8-e3df94cfb701"
      },
      "execution_count": 63,
      "outputs": [
        {
          "output_type": "stream",
          "name": "stdout",
          "text": [
            "Correlation Coefficient: 0.07408478308418186\n"
          ]
        }
      ]
    },
    {
      "cell_type": "code",
      "source": [
        "#64. Create two matrices and perform matrix multiplication using NumPy's `dot` function.\n",
        "matrix1 = np.array([[1, 2, 3],\n",
        "                    [4, 5, 6]])\n",
        "\n",
        "matrix2 = np.array([[7, 8],\n",
        "                    [9, 10],\n",
        "                    [11, 12]])\n",
        "\n",
        "result = np.dot(matrix1, matrix2)\n",
        "\n",
        "print(\"Matrix 1:\")\n",
        "print(matrix2)\n",
        "print(\"\\nMatrix 2:\")\n",
        "print(matrix2)\n",
        "print('\\nresult')\n",
        "print(result)\n"
      ],
      "metadata": {
        "colab": {
          "base_uri": "https://localhost:8080/"
        },
        "id": "rS67gYDzdlm_",
        "outputId": "05326bf4-6ba6-4609-9c04-6e528c66637e"
      },
      "execution_count": 64,
      "outputs": [
        {
          "output_type": "stream",
          "name": "stdout",
          "text": [
            "Matrix 1:\n",
            "[[ 7  8]\n",
            " [ 9 10]\n",
            " [11 12]]\n",
            "\n",
            "Matrix 2:\n",
            "[[ 7  8]\n",
            " [ 9 10]\n",
            " [11 12]]\n",
            "\n",
            "result\n",
            "[[ 58  64]\n",
            " [139 154]]\n"
          ]
        }
      ]
    },
    {
      "cell_type": "code",
      "source": [
        "#65. Create an array of 50 integers between 10 and 1000. Calculate the 10th, 50th (median), and 90th percentiles along with the first and third quartiles.\n",
        "\n",
        "array = np.random.randint(10, 1001, size=50)\n",
        "\n",
        "percentile_10th = np.percentile(array, 10)\n",
        "percentile_50th = np.percentile(array, 50)\n",
        "percentile_90th = np.percentile(array, 90)\n",
        "quartile_1st = np.percentile(array, 25)\n",
        "quartile_3rd = np.percentile(array, 75)\n",
        "\n",
        "print(\"Array:\", array)\n",
        "print(\"10th Percentile:\", percentile_10th)\n",
        "print(\"50th Percentile (Median):\", percentile_50th)\n",
        "print(\"90th Percentile:\", percentile_90th)\n",
        "print(\"1st Quartile:\", quartile_1st)\n",
        "print(\"3rd Quartile:\", quartile_3rd)\n"
      ],
      "metadata": {
        "colab": {
          "base_uri": "https://localhost:8080/"
        },
        "id": "B9WLolSIdlqR",
        "outputId": "eb258cdc-6155-450d-87cd-f07b0e9461fe"
      },
      "execution_count": 65,
      "outputs": [
        {
          "output_type": "stream",
          "name": "stdout",
          "text": [
            "Array: [942 564 345 524 329 652 181 819 942 999 163 171 598 684 785 457 351 684\n",
            "  99 502 509 231 338 881 977  89 226 367 248  20 832 944 393 772 848 498\n",
            " 283 409 693 853 107 212 622 267 932 641 208 119 220 931]\n",
            "10th Percentile: 158.60000000000002\n",
            "50th Percentile (Median): 500.0\n",
            "90th Percentile: 933.0\n",
            "1st Quartile: 235.25\n",
            "3rd Quartile: 781.75\n"
          ]
        }
      ]
    },
    {
      "cell_type": "code",
      "source": [
        "#66. Create a NumPy array of integers and find the index of a specific element.\n",
        "array = np.array([10, 20, 30, 40, 50, 60, 70, 80, 90, 100])\n",
        "\n",
        "# Find the index of a specific element (e.g., 40)\n",
        "element_to_find = 40\n",
        "index = np.where(array == element_to_find)[0]\n",
        "print(index)"
      ],
      "metadata": {
        "colab": {
          "base_uri": "https://localhost:8080/"
        },
        "id": "MYOe7GPSdltW",
        "outputId": "e6621f5f-33fb-462a-8209-688110dcd647"
      },
      "execution_count": 66,
      "outputs": [
        {
          "output_type": "stream",
          "name": "stdout",
          "text": [
            "[3]\n"
          ]
        }
      ]
    },
    {
      "cell_type": "code",
      "source": [
        "#67. Generate a random NumPy array and sort it in ascending order\n",
        "random_array = np.random.randint(1, 100, size=10)\n",
        "sorted_array = np.sort(random_array)\n",
        "\n",
        "print(random_array)\n",
        "print(\"Sorted Array \", sorted_array)\n"
      ],
      "metadata": {
        "colab": {
          "base_uri": "https://localhost:8080/"
        },
        "id": "Gc3_FBmIdlwX",
        "outputId": "9faf1540-2ce4-4629-f0b3-72c91d4b7ea5"
      },
      "execution_count": 67,
      "outputs": [
        {
          "output_type": "stream",
          "name": "stdout",
          "text": [
            "[17 11 35 79 77 79 79 11 34 39]\n",
            "Sorted Array  [11 11 17 34 35 39 77 79 79 79]\n"
          ]
        }
      ]
    },
    {
      "cell_type": "code",
      "source": [
        "#68. Filter elements >20  in the given NumPy array.\n",
        "arr = np.array([12, 25, 6, 42, 8, 30])\n",
        "arr[arr>20]"
      ],
      "metadata": {
        "colab": {
          "base_uri": "https://localhost:8080/"
        },
        "id": "ER7ZoYRTdlza",
        "outputId": "52521e1c-3e1b-4591-ae91-cfc1a8e1c227"
      },
      "execution_count": 68,
      "outputs": [
        {
          "output_type": "execute_result",
          "data": {
            "text/plain": [
              "array([25, 42, 30])"
            ]
          },
          "metadata": {},
          "execution_count": 68
        }
      ]
    },
    {
      "cell_type": "code",
      "source": [
        "#69. Filter elements which are divisible by 3 from a given NumPy array.\n",
        "arr = np.array([1, 5, 8, 12, 15])\n",
        "arr[arr%3==0]"
      ],
      "metadata": {
        "colab": {
          "base_uri": "https://localhost:8080/"
        },
        "id": "xXzp8t3Pdl2M",
        "outputId": "42ddd08e-6d09-440f-8e2c-282df85582f3"
      },
      "execution_count": 69,
      "outputs": [
        {
          "output_type": "execute_result",
          "data": {
            "text/plain": [
              "array([12, 15])"
            ]
          },
          "metadata": {},
          "execution_count": 69
        }
      ]
    },
    {
      "cell_type": "code",
      "source": [
        "#70. Filter elements which are ≥ 20 and ≤ 40 from a given NumPy array.\n",
        "arr = np.array([10, 20, 30, 40, 50])\n",
        "arr[(arr>=20) & (arr<=40)]"
      ],
      "metadata": {
        "colab": {
          "base_uri": "https://localhost:8080/"
        },
        "id": "AfduxXy2dl5u",
        "outputId": "08ac421d-4394-46f9-8192-2d81bb773fde"
      },
      "execution_count": 70,
      "outputs": [
        {
          "output_type": "execute_result",
          "data": {
            "text/plain": [
              "array([20, 30, 40])"
            ]
          },
          "metadata": {},
          "execution_count": 70
        }
      ]
    },
    {
      "cell_type": "code",
      "source": [
        "#71. For the given NumPy array, check its byte order using the `dtype` attribute byteorder.\n",
        "arr = np.array([1, 2, 3])\n",
        "byte_order = arr.dtype.byteorder\n",
        "print(byte_order)"
      ],
      "metadata": {
        "colab": {
          "base_uri": "https://localhost:8080/"
        },
        "id": "0XNE8cmPdl83",
        "outputId": "8ffb1993-af8b-4263-eb46-eee58d7ce3f0"
      },
      "execution_count": 71,
      "outputs": [
        {
          "output_type": "stream",
          "name": "stdout",
          "text": [
            "=\n"
          ]
        }
      ]
    },
    {
      "cell_type": "code",
      "source": [
        "#72. For the given NumPy array, perform byte swapping in place using `byteswap()`.\n",
        "arr = np.array([1, 2, 3])\n",
        "arr.byteswap(True)\n",
        "\n",
        "print(\"Byte Swapped Array:\", arr)"
      ],
      "metadata": {
        "colab": {
          "base_uri": "https://localhost:8080/"
        },
        "id": "pSqOyK4Idl__",
        "outputId": "6e95a994-6ccd-4465-efb1-c55538661ee0"
      },
      "execution_count": 72,
      "outputs": [
        {
          "output_type": "stream",
          "name": "stdout",
          "text": [
            "Byte Swapped Array: [ 72057594037927936 144115188075855872 216172782113783808]\n"
          ]
        }
      ]
    },
    {
      "cell_type": "code",
      "source": [
        "#73. For the given NumPy array, swap its byte order without modifying the original array using `newbyteorder()`.\n",
        "arr = np.array([1, 2, 3], dtype=np.int32)\n",
        "\n",
        "swapped_arr = arr.newbyteorder()\n",
        "\n",
        "print(\"Original Array:\", arr)\n",
        "print(\"Swapped Byte Order Array:\", swapped_arr)\n"
      ],
      "metadata": {
        "colab": {
          "base_uri": "https://localhost:8080/"
        },
        "id": "UvSkLB1sdmDD",
        "outputId": "83ff84d4-ca07-48ec-a65d-3443a89aa8c4"
      },
      "execution_count": 73,
      "outputs": [
        {
          "output_type": "stream",
          "name": "stdout",
          "text": [
            "Original Array: [1 2 3]\n",
            "Swapped Byte Order Array: [16777216 33554432 50331648]\n"
          ]
        }
      ]
    },
    {
      "cell_type": "code",
      "source": [
        "#74. For the given NumPy array and swap its byte order conditionally based on system endianness using `newbyteorder()`.\n",
        "arr = np.array([1, 2, 3], dtype=np.int32)\n",
        "\n",
        "system_endianness = np.dtype(np.int32).byteorder\n",
        "if system_endianness == '=':\n",
        "    swapped_arr = arr.copy()\n",
        "else:\n",
        "    swapped_arr = arr.newbyteorder()\n",
        "\n",
        "print(\"Original Array:\", arr)\n",
        "print(\"System Endianness:\", system_endianness)\n",
        "print(\"Swapped Byte Order Array:\", swapped_arr)\n"
      ],
      "metadata": {
        "colab": {
          "base_uri": "https://localhost:8080/"
        },
        "id": "mGvcjhGmdmFx",
        "outputId": "ba34f98a-122a-4a0e-d22f-afe8839e93e6"
      },
      "execution_count": 74,
      "outputs": [
        {
          "output_type": "stream",
          "name": "stdout",
          "text": [
            "Original Array: [1 2 3]\n",
            "System Endianness: =\n",
            "Swapped Byte Order Array: [1 2 3]\n"
          ]
        }
      ]
    },
    {
      "cell_type": "code",
      "source": [
        "#75. For the given NumPy array, check if byte swapping is necessary for the current system using `dtype` attribute `byteorder`\n",
        "arr = np.array([1, 2, 3], dtype=np.int32)\n"
      ],
      "metadata": {
        "id": "Hvs41PZ8dmIq"
      },
      "execution_count": 75,
      "outputs": []
    },
    {
      "cell_type": "code",
      "source": [
        "#76. Create a NumPy array `arr1` with values from 1 to 10. Create a copy of `arr1` named `copy_arr` and modify an element in `copy_arr`. Check if modifying `copy_arr` affects `arr1`.\n",
        "arr1 = np.arange(1, 11)\n",
        "\n",
        "copy_arr = np.copy(arr1)\n",
        "\n",
        "copy_arr[0] = 99\n",
        "\n",
        "print(arr1)\n",
        "print(copy_arr)\n"
      ],
      "metadata": {
        "colab": {
          "base_uri": "https://localhost:8080/"
        },
        "id": "rbR9F_PABNOb",
        "outputId": "df168bf7-2801-4b61-d953-b3eaf1032fe3"
      },
      "execution_count": 79,
      "outputs": [
        {
          "output_type": "stream",
          "name": "stdout",
          "text": [
            "[ 1  2  3  4  5  6  7  8  9 10]\n",
            "[99  2  3  4  5  6  7  8  9 10]\n"
          ]
        }
      ]
    },
    {
      "cell_type": "code",
      "source": [
        "#77. Create a 2D NumPy array `matrix` of shape (3, 3) with random integers. Extract a slice `view_slice` from the matrix. Modify an element in `view_slice` and observe if it changes the original `matrix`.\n",
        "matrix = np.random.randint(0, 10, size=(3, 3))\n",
        "\n",
        "view_slice = matrix[1:, 1:]\n",
        "\n",
        "view_slice[0, 0] = 99\n",
        "\n",
        "print('Original\\n',matrix)\n",
        "print('\\nView Slice\\n',view_slice)\n"
      ],
      "metadata": {
        "colab": {
          "base_uri": "https://localhost:8080/"
        },
        "id": "fo7HyMV3BNRN",
        "outputId": "ce676745-c0f2-461a-f924-02adf56d8f84"
      },
      "execution_count": 82,
      "outputs": [
        {
          "output_type": "stream",
          "name": "stdout",
          "text": [
            "Original\n",
            " [[ 4  8  7]\n",
            " [ 8 99  2]\n",
            " [ 1  2  5]]\n",
            "\n",
            "View Slice\n",
            " [[99  2]\n",
            " [ 2  5]]\n"
          ]
        }
      ]
    },
    {
      "cell_type": "code",
      "source": [
        "#78. Create a NumPy array `array_a` of shape (4, 3) with sequential integers from 1 to 12. Extract a slice `view_b` from `array_a` and broadcast the addition of 5 to view_b. Check if it alters the original `array_a`.\n",
        "array_a = np.arange(1, 13).reshape(4, 3)\n",
        "\n",
        "view_b = array_a[1:3, 1:3]\n",
        "\n",
        "view_b += 5\n",
        "\n",
        "array_a, view_b\n"
      ],
      "metadata": {
        "colab": {
          "base_uri": "https://localhost:8080/"
        },
        "id": "3hv8BM9gBNT5",
        "outputId": "6ec61ec5-60e0-4f2d-9eb9-06669bb7bcd4"
      },
      "execution_count": 83,
      "outputs": [
        {
          "output_type": "execute_result",
          "data": {
            "text/plain": [
              "(array([[ 1,  2,  3],\n",
              "        [ 4, 10, 11],\n",
              "        [ 7, 13, 14],\n",
              "        [10, 11, 12]]),\n",
              " array([[10, 11],\n",
              "        [13, 14]]))"
            ]
          },
          "metadata": {},
          "execution_count": 83
        }
      ]
    },
    {
      "cell_type": "code",
      "source": [
        "#79. Create a NumPy array `orig_array` of shape (2, 4) with values from 1 to 8. Create a reshaped view `reshaped_view` of shape (4, 2) from orig_array. Modify an element in `reshaped_view` and check if it reflects changes in the original `orig_array`.\n",
        "orig_array = np.arange(1, 9).reshape(2, 4)\n",
        "reshaped_view = orig_array.reshape(4, 2)\n",
        "reshaped_view[0, 0] = 99\n",
        "orig_array, reshaped_view\n"
      ],
      "metadata": {
        "colab": {
          "base_uri": "https://localhost:8080/"
        },
        "id": "I8OlThkLBNWw",
        "outputId": "36880bdf-08e5-4348-c70c-1b966fe9c565"
      },
      "execution_count": 84,
      "outputs": [
        {
          "output_type": "execute_result",
          "data": {
            "text/plain": [
              "(array([[99,  2,  3,  4],\n",
              "        [ 5,  6,  7,  8]]),\n",
              " array([[99,  2],\n",
              "        [ 3,  4],\n",
              "        [ 5,  6],\n",
              "        [ 7,  8]]))"
            ]
          },
          "metadata": {},
          "execution_count": 84
        }
      ]
    },
    {
      "cell_type": "code",
      "source": [
        "#80. Create a NumPy array `data` of shape (3, 4) with random integers. Extract a copy `data_copy` of elements greater than 5. Modify an element in `data_copy` and verify if it affects the original `data`.\n",
        "\n",
        "data = np.random.randint(0, 10, size=(3, 4))\n",
        "data_copy = np.copy(data[data > 5])\n",
        "if data_copy.size > 0:\n",
        "    data_copy[0] = 99\n",
        "\n",
        "data, data_copy\n"
      ],
      "metadata": {
        "colab": {
          "base_uri": "https://localhost:8080/"
        },
        "id": "sGAeb4__BNZa",
        "outputId": "ba8f8c5d-a7a0-4f98-9db2-f428bfd49b79"
      },
      "execution_count": 85,
      "outputs": [
        {
          "output_type": "execute_result",
          "data": {
            "text/plain": [
              "(array([[5, 1, 3, 6],\n",
              "        [1, 1, 7, 5],\n",
              "        [4, 6, 6, 5]]),\n",
              " array([99,  7,  6,  6]))"
            ]
          },
          "metadata": {},
          "execution_count": 85
        }
      ]
    },
    {
      "cell_type": "code",
      "source": [
        "#81. Create two matrices A and B of identical shape containing integers and perform addition and subtraction operations between them.\n",
        "\n",
        "A = np.array([[1, 2, 3], [4, 5, 6], [7, 8, 9]])\n",
        "B = np.array([[9, 8, 7], [6, 5, 4], [3, 2, 1]])\n",
        "addition_result = A + B\n",
        "subtraction_result = A - B\n",
        "\n",
        "# Print the results\n",
        "print(\"Matrix A:\")\n",
        "print(A)\n",
        "print(\"\\nMatrix B:\")\n",
        "print(B)\n",
        "print(\"\\nAddition of A and B:\")\n",
        "print(addition_result)\n",
        "print(\"\\nSubtraction of A and B:\")\n",
        "print(subtraction_result)\n"
      ],
      "metadata": {
        "colab": {
          "base_uri": "https://localhost:8080/"
        },
        "id": "sD-9esLABNch",
        "outputId": "cbb220f3-0c70-4da9-add0-e8f75de1d91c"
      },
      "execution_count": 86,
      "outputs": [
        {
          "output_type": "stream",
          "name": "stdout",
          "text": [
            "Matrix A:\n",
            "[[1 2 3]\n",
            " [4 5 6]\n",
            " [7 8 9]]\n",
            "\n",
            "Matrix B:\n",
            "[[9 8 7]\n",
            " [6 5 4]\n",
            " [3 2 1]]\n",
            "\n",
            "Addition of A and B:\n",
            "[[10 10 10]\n",
            " [10 10 10]\n",
            " [10 10 10]]\n",
            "\n",
            "Subtraction of A and B:\n",
            "[[-8 -6 -4]\n",
            " [-2  0  2]\n",
            " [ 4  6  8]]\n"
          ]
        }
      ]
    },
    {
      "cell_type": "code",
      "source": [
        "#82. Generate two matrices `C` (3x2) and `D` (2x4) and perform matrix multiplication.\n",
        "C = np.random.randint(0, 10, size=(3, 2))\n",
        "D = np.random.randint(0, 10, size=(2, 4))\n",
        "\n",
        "result = C @ D\n",
        "\n",
        "print(\"Matrix C (3x2):\")\n",
        "print(C)\n",
        "print(\"\\nMatrix D (2x4):\")\n",
        "print(D)\n",
        "print(\"\\nResult of matrix multiplication (C @ D):\")\n",
        "print(result)\n"
      ],
      "metadata": {
        "colab": {
          "base_uri": "https://localhost:8080/"
        },
        "id": "-hft4kHABN6t",
        "outputId": "ccafd0bb-2939-406f-b8be-493883338af8"
      },
      "execution_count": 87,
      "outputs": [
        {
          "output_type": "stream",
          "name": "stdout",
          "text": [
            "Matrix C (3x2):\n",
            "[[2 2]\n",
            " [7 1]\n",
            " [6 0]]\n",
            "\n",
            "Matrix D (2x4):\n",
            "[[6 0 3 6]\n",
            " [6 9 5 7]]\n",
            "\n",
            "Result of matrix multiplication (C @ D):\n",
            "[[24 18 16 26]\n",
            " [48  9 26 49]\n",
            " [36  0 18 36]]\n"
          ]
        }
      ]
    },
    {
      "cell_type": "code",
      "source": [
        "#83. Create a matrix `E` and find its transpose.\n",
        "E = np.array([[1, 2, 3], [4, 5, 6], [7, 8, 9]])\n",
        "\n",
        "transpose_E = E.T\n",
        "print(\"Matrix E:\")\n",
        "print(E)\n",
        "print(\"\\nTranspose of matrix E:\")\n",
        "print(transpose_E)\n"
      ],
      "metadata": {
        "colab": {
          "base_uri": "https://localhost:8080/"
        },
        "id": "ESwq_ZXVBN90",
        "outputId": "40f31ba9-2c23-43d4-a0d5-fd9305fba69d"
      },
      "execution_count": 90,
      "outputs": [
        {
          "output_type": "stream",
          "name": "stdout",
          "text": [
            "Matrix E:\n",
            "[[1 2 3]\n",
            " [4 5 6]\n",
            " [7 8 9]]\n",
            "\n",
            "Transpose of matrix E:\n",
            "[[1 4 7]\n",
            " [2 5 8]\n",
            " [3 6 9]]\n"
          ]
        }
      ]
    },
    {
      "cell_type": "code",
      "source": [
        "#84. Generate a square matrix `F` and compute its determinant.\n",
        "F = np.array([[3, 1, 4],\n",
        "              [1, 5, 9],\n",
        "              [2, 6, 5]])\n",
        "\n",
        "det_F = np.linalg.det(F)\n",
        "\n",
        "print(\"Matrix F:\\n\", F)\n",
        "print(\"\\nDeterminant of Matrix F:\", det_F)\n"
      ],
      "metadata": {
        "id": "minOfBu9dmLh",
        "colab": {
          "base_uri": "https://localhost:8080/"
        },
        "outputId": "f10f8425-6a11-4e76-e040-7312e5ed8b43"
      },
      "execution_count": 89,
      "outputs": [
        {
          "output_type": "stream",
          "name": "stdout",
          "text": [
            "Matrix F:\n",
            " [[3 1 4]\n",
            " [1 5 9]\n",
            " [2 6 5]]\n",
            "\n",
            "Determinant of Matrix F: -90.0\n"
          ]
        }
      ]
    },
    {
      "cell_type": "code",
      "source": [
        "#85. Create a square matrix `G` and find its inverse\n",
        "G = np.array([[4, 7, 2],\n",
        "              [1, 5, 3],\n",
        "              [8, 6, 9]])\n",
        "G_inv = np.linalg.inv(G)\n",
        "\n",
        "print(\"Matrix G:\\n\", G)\n",
        "print(\"\\nInverse of Matrix G:\\n\", G_inv)\n"
      ],
      "metadata": {
        "id": "dlCZ2Wb9dmOZ",
        "colab": {
          "base_uri": "https://localhost:8080/"
        },
        "outputId": "67d231c7-6d33-478b-b080-8d788a358c09"
      },
      "execution_count": 88,
      "outputs": [
        {
          "output_type": "stream",
          "name": "stdout",
          "text": [
            "Matrix G:\n",
            " [[4 7 2]\n",
            " [1 5 3]\n",
            " [8 6 9]]\n",
            "\n",
            "Inverse of Matrix G:\n",
            " [[ 0.1862069  -0.35172414  0.07586207]\n",
            " [ 0.10344828  0.13793103 -0.06896552]\n",
            " [-0.23448276  0.22068966  0.08965517]]\n"
          ]
        }
      ]
    },
    {
      "cell_type": "code",
      "source": [],
      "metadata": {
        "id": "QLWKVu69Hce7"
      },
      "execution_count": null,
      "outputs": []
    }
  ]
}