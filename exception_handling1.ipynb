{
  "nbformat": 4,
  "nbformat_minor": 0,
  "metadata": {
    "colab": {
      "provenance": []
    },
    "kernelspec": {
      "name": "python3",
      "display_name": "Python 3"
    },
    "language_info": {
      "name": "python"
    }
  },
  "cells": [
    {
      "cell_type": "markdown",
      "source": [
        "Q1. What is exception in Python ?\n",
        "\n",
        "What is the difference between exception and syntax error.\n",
        "\n",
        "Ans.\n",
        "\n",
        "An exception in Python is an error that occurs during the execution of a program. When Python encounters an error, it raises an exception, which interrupts the normal flow of the program. Exceptions can be caused by various issues, such as trying to divide by zero, accessing a non-existent file, or trying to perform an operation on incompatible data types.\n",
        "\n",
        "Difference Between Exceptions and Syntax Errors\n",
        "Exceptions:\n",
        "\n",
        "Definition: Exceptions are errors that occur during the execution of a program. They are usually related to something unexpected that happens while the program is running.\n",
        "Detection: Detected at runtime.\n",
        "Handling: Can be handled using try and except blocks to prevent the program from crashing.\n",
        "Examples: Division by zero (ZeroDivisionError), accessing an undefined variable (NameError), file not found (FileNotFoundError).\n",
        "Syntax Errors:\n",
        "\n",
        "Definition: Syntax errors are errors in the syntax of the code, which means the code is written in a way that violates the rules of the Python language.\n",
        "Detection: Detected at compile time, before the program is run.\n",
        "Handling: Cannot be handled using try and except blocks because they prevent the code from executing in the first place.\n",
        "Examples: Missing colon (:) after if statement, unmatched parentheses, incorrect indentation.\n",
        "\n"
      ],
      "metadata": {
        "id": "cmM7TWURupm-"
      }
    },
    {
      "cell_type": "markdown",
      "source": [
        "Q2. What Happens When an Exception is Not Handled?\n",
        "\n",
        "Ans.\n",
        "\n",
        "When an exception is not handled in Python, it propagates up the call stack until it reaches the top level of the program. If no appropriate except block is found to catch the exception, the program terminates, and an error message is displayed to the user. This error message includes the type of the exception, a description, and a traceback, which shows the sequence of calls that led to the exception."
      ],
      "metadata": {
        "id": "At140rNVvLvL"
      }
    },
    {
      "cell_type": "code",
      "execution_count": 1,
      "metadata": {
        "colab": {
          "base_uri": "https://localhost:8080/",
          "height": 315
        },
        "id": "R117RcbrulyY",
        "outputId": "11278399-5546-451c-979c-73c489b0a80a"
      },
      "outputs": [
        {
          "output_type": "error",
          "ename": "ZeroDivisionError",
          "evalue": "division by zero",
          "traceback": [
            "\u001b[0;31m---------------------------------------------------------------------------\u001b[0m",
            "\u001b[0;31mZeroDivisionError\u001b[0m                         Traceback (most recent call last)",
            "\u001b[0;32m<ipython-input-1-0cc19ecec247>\u001b[0m in \u001b[0;36m<cell line: 4>\u001b[0;34m()\u001b[0m\n\u001b[1;32m      2\u001b[0m     \u001b[0;32mreturn\u001b[0m \u001b[0ma\u001b[0m \u001b[0;34m/\u001b[0m \u001b[0mb\u001b[0m\u001b[0;34m\u001b[0m\u001b[0;34m\u001b[0m\u001b[0m\n\u001b[1;32m      3\u001b[0m \u001b[0;34m\u001b[0m\u001b[0m\n\u001b[0;32m----> 4\u001b[0;31m \u001b[0mresult\u001b[0m \u001b[0;34m=\u001b[0m \u001b[0mdivide\u001b[0m\u001b[0;34m(\u001b[0m\u001b[0;36m10\u001b[0m\u001b[0;34m,\u001b[0m \u001b[0;36m0\u001b[0m\u001b[0;34m)\u001b[0m\u001b[0;34m\u001b[0m\u001b[0;34m\u001b[0m\u001b[0m\n\u001b[0m\u001b[1;32m      5\u001b[0m \u001b[0mprint\u001b[0m\u001b[0;34m(\u001b[0m\u001b[0mresult\u001b[0m\u001b[0;34m)\u001b[0m\u001b[0;34m\u001b[0m\u001b[0;34m\u001b[0m\u001b[0m\n",
            "\u001b[0;32m<ipython-input-1-0cc19ecec247>\u001b[0m in \u001b[0;36mdivide\u001b[0;34m(a, b)\u001b[0m\n\u001b[1;32m      1\u001b[0m \u001b[0;32mdef\u001b[0m \u001b[0mdivide\u001b[0m\u001b[0;34m(\u001b[0m\u001b[0ma\u001b[0m\u001b[0;34m,\u001b[0m \u001b[0mb\u001b[0m\u001b[0;34m)\u001b[0m\u001b[0;34m:\u001b[0m\u001b[0;34m\u001b[0m\u001b[0;34m\u001b[0m\u001b[0m\n\u001b[0;32m----> 2\u001b[0;31m     \u001b[0;32mreturn\u001b[0m \u001b[0ma\u001b[0m \u001b[0;34m/\u001b[0m \u001b[0mb\u001b[0m\u001b[0;34m\u001b[0m\u001b[0;34m\u001b[0m\u001b[0m\n\u001b[0m\u001b[1;32m      3\u001b[0m \u001b[0;34m\u001b[0m\u001b[0m\n\u001b[1;32m      4\u001b[0m \u001b[0mresult\u001b[0m \u001b[0;34m=\u001b[0m \u001b[0mdivide\u001b[0m\u001b[0;34m(\u001b[0m\u001b[0;36m10\u001b[0m\u001b[0;34m,\u001b[0m \u001b[0;36m0\u001b[0m\u001b[0;34m)\u001b[0m\u001b[0;34m\u001b[0m\u001b[0;34m\u001b[0m\u001b[0m\n\u001b[1;32m      5\u001b[0m \u001b[0mprint\u001b[0m\u001b[0;34m(\u001b[0m\u001b[0mresult\u001b[0m\u001b[0;34m)\u001b[0m\u001b[0;34m\u001b[0m\u001b[0;34m\u001b[0m\u001b[0m\n",
            "\u001b[0;31mZeroDivisionError\u001b[0m: division by zero"
          ]
        }
      ],
      "source": [
        "def divide(a, b):\n",
        "    return a / b\n",
        "\n",
        "result = divide(10, 0)\n",
        "print(result)\n"
      ]
    },
    {
      "cell_type": "markdown",
      "source": [
        "Q3. Which statements are used to handle exceptions in Python explain with example\n",
        "\n",
        "Ans.\n",
        "\n",
        "try: This block lets you test a block of code for errors.\n",
        "\n",
        "except: This block lets you handle the error.\n",
        "\n",
        "else: This block lets you execute code if no exceptions were raised.\n",
        "\n",
        "finally: This block lets you execute code, regardless of whether an exception was raised or not."
      ],
      "metadata": {
        "id": "lPtO0_GMvvD3"
      }
    },
    {
      "cell_type": "code",
      "source": [
        "def divide_numbers(a, b):\n",
        "    try:\n",
        "        # Code that may raise an exception\n",
        "        result = a / b\n",
        "    except ZeroDivisionError:\n",
        "        # Code that runs if a ZeroDivisionError occurs\n",
        "        print(\"Error: Division by zero is not allowed.\")\n",
        "        return None\n",
        "    except TypeError:\n",
        "        # Code that runs if a TypeError occurs\n",
        "        print(\"Error: Inputs must be numbers.\")\n",
        "        return None\n",
        "    else:\n",
        "        # Code that runs if no exception occurs\n",
        "        print(\"Division successful.\")\n",
        "        return result\n",
        "    finally:\n",
        "        # Code that runs no matter what\n",
        "        print(\"Execution of the divide_numbers function is complete.\")\n",
        "\n",
        "# Example usage\n",
        "print(divide_numbers(10, 2))  # Normal case\n",
        "print(divide_numbers(10, 0))  # Division by zero case\n",
        "print(divide_numbers(10, \"a\"))  # Invalid type case\n"
      ],
      "metadata": {
        "colab": {
          "base_uri": "https://localhost:8080/"
        },
        "id": "hXELC6W8vlwR",
        "outputId": "0c96a5f5-1efd-4e5b-8adc-adcfb90ba59e"
      },
      "execution_count": 2,
      "outputs": [
        {
          "output_type": "stream",
          "name": "stdout",
          "text": [
            "Division successful.\n",
            "Execution of the divide_numbers function is complete.\n",
            "5.0\n",
            "Error: Division by zero is not allowed.\n",
            "Execution of the divide_numbers function is complete.\n",
            "None\n",
            "Error: Inputs must be numbers.\n",
            "Execution of the divide_numbers function is complete.\n",
            "None\n"
          ]
        }
      ]
    },
    {
      "cell_type": "markdown",
      "source": [
        "Q4. Explain with an example:\n",
        "\n",
        "a. try and else\n",
        "\n",
        "b. finally\n",
        "\n",
        "c. raise"
      ],
      "metadata": {
        "id": "ftRo85DXwblZ"
      }
    },
    {
      "cell_type": "code",
      "source": [
        "def example_function(x):\n",
        "    try:\n",
        "        # Code that may raise an exception\n",
        "        if x < 0:\n",
        "            raise ValueError(\"Negative value provided\")\n",
        "        result = 10 / x\n",
        "    except ZeroDivisionError:\n",
        "        # Code that runs if a ZeroDivisionError occurs\n",
        "        print(\"Error: Division by zero is not allowed.\")\n",
        "    except ValueError as e:\n",
        "        # Code that runs if a ValueError occurs\n",
        "        print(f\"Error: {e}\")\n",
        "    else:\n",
        "        # Code that runs if no exceptions occur\n",
        "        print(\"Division successful.\")\n",
        "        print(f\"Result is: {result}\")\n",
        "    finally:\n",
        "        # Code that runs no matter what\n",
        "        print(\"Execution of the example_function is complete.\")\n",
        "\n",
        "# Example usage\n",
        "example_function(2)  # Normal case\n",
        "example_function(0)  # Division by zero case\n",
        "example_function(-1)  # Negative value case\n"
      ],
      "metadata": {
        "colab": {
          "base_uri": "https://localhost:8080/"
        },
        "id": "P11bVg6TwM7R",
        "outputId": "6c602034-54ab-419f-b7a9-dda297c0f41d"
      },
      "execution_count": 3,
      "outputs": [
        {
          "output_type": "stream",
          "name": "stdout",
          "text": [
            "Division successful.\n",
            "Result is: 5.0\n",
            "Execution of the example_function is complete.\n",
            "Error: Division by zero is not allowed.\n",
            "Execution of the example_function is complete.\n",
            "Error: Negative value provided\n",
            "Execution of the example_function is complete.\n"
          ]
        }
      ]
    },
    {
      "cell_type": "markdown",
      "source": [
        "Q5. What are Custom Exceptions in Python ? Why Do We Need Custom Exceptions?\n",
        "\n",
        "Ans.\n",
        "\n",
        "Custom exceptions in Python are user-defined exceptions that are created by extending the base Exception class or one of its subclasses. They allow you to create meaningful and specific error messages for particular situations in your code, making debugging and error handling more precise and understandable.\n",
        "\n",
        "Specificity: Built-in exceptions might not clearly convey the specific error condition in your program.\n",
        "\n",
        "Readability: Custom exceptions can make the code more readable and maintainable by providing meaningful names and messages for specific error conditions.\n",
        "\n",
        "Modularity: Custom exceptions allow you to separate error handling for different parts of your code, making it easier to debug and manage."
      ],
      "metadata": {
        "id": "H3vFxthYw0nX"
      }
    },
    {
      "cell_type": "code",
      "source": [
        "# Define a custom exception\n",
        "class NegativeValueError(Exception):\n",
        "    def __init__(self, value, message=\"Negative value provided\"):\n",
        "        self.value = value\n",
        "        self.message = message\n",
        "        super().__init__(self.message)\n",
        "\n",
        "    def __str__(self):\n",
        "        return f\"{self.message}: {self.value}\"\n",
        "\n",
        "# Function that uses the custom exception\n",
        "def calculate_square_root(value):\n",
        "    if value < 0:\n",
        "        raise NegativeValueError(value)\n",
        "    return value ** 0.5\n",
        "\n",
        "# Example usage\n",
        "try:\n",
        "    result = calculate_square_root(9)\n",
        "    print(f\"Square root: {result}\")\n",
        "    result = calculate_square_root(-4)\n",
        "    print(f\"Square root: {result}\")\n",
        "except NegativeValueError as e:\n",
        "    print(e)\n"
      ],
      "metadata": {
        "colab": {
          "base_uri": "https://localhost:8080/"
        },
        "id": "2AGab9Jmwh5E",
        "outputId": "427d9789-a8e7-4a49-82ce-1d717d9b626c"
      },
      "execution_count": 4,
      "outputs": [
        {
          "output_type": "stream",
          "name": "stdout",
          "text": [
            "Square root: 3.0\n",
            "Negative value provided: -4\n"
          ]
        }
      ]
    },
    {
      "cell_type": "code",
      "source": [
        "#Q6. Create a custom exception class. Use this class to handle an exception.\n",
        "class NegativeValueError(Exception):\n",
        "    def __init__(self, value, message=\"Negative value provided\"):\n",
        "        self.value = value\n",
        "        self.message = message\n",
        "        super().__init__(self.message)"
      ],
      "metadata": {
        "id": "twoJrk3Lx3fz"
      },
      "execution_count": 5,
      "outputs": []
    },
    {
      "cell_type": "code",
      "source": [],
      "metadata": {
        "id": "fz9dJvk9yH8i"
      },
      "execution_count": null,
      "outputs": []
    }
  ]
}