{
  "nbformat": 4,
  "nbformat_minor": 0,
  "metadata": {
    "colab": {
      "provenance": []
    },
    "kernelspec": {
      "name": "python3",
      "display_name": "Python 3"
    },
    "language_info": {
      "name": "python"
    }
  },
  "cells": [
    {
      "cell_type": "markdown",
      "source": [
        "Q1. What is statistics ?"
      ],
      "metadata": {
        "id": "oB6VOGnWUrtO"
      }
    },
    {
      "cell_type": "markdown",
      "source": [
        "Ans.\n",
        "\n",
        "Statistics is the science concerned with developing and studying methods for collecting, analyzing, interpreting and presenting empirical data."
      ],
      "metadata": {
        "id": "LgRT_fuPUmLc"
      }
    },
    {
      "cell_type": "markdown",
      "source": [
        "Q2. Q2. Define the different types of statistics and give an example of when each type might be used.\n",
        "\n",
        "Ans.\n",
        "\n",
        "In Maths, Statistics is a method of interpreting, analysing and summarising the data. Hence, the types of statistics are categorised based on these features: Descriptive and inferential statistics. Based on the representation of data such as using pie charts, bar graphs, or tables, we analyse and interpret it."
      ],
      "metadata": {
        "id": "wpYW7sDoUyrE"
      }
    },
    {
      "cell_type": "markdown",
      "source": [
        "Q3. What are the different types of data and how do they differ from each other? Provide an example of\n",
        "each type of data.\n",
        "\n",
        "Ans.\n",
        "\n",
        "Data can be categorized into several types based on its nature and structure. Here are the primary types of data along with examples and explanations:\n",
        "\n",
        "Quantitative Data (Numerical Data)\n",
        "\n",
        "Description: Quantitative data is numerical and can be measured. It can be further divided into discrete and continuous data.\n",
        "Types:\n",
        "Discrete Data: Consists of countable values. Each value is distinct and separate. Examples include the number of students in a class or the number of cars in a parking lot.\n",
        "Continuous Data: Can take any value within a range. It is measurable and can be infinitely divided. Examples include the height of a person or the temperature of a room.\n",
        "Examples:\n",
        "Discrete: Number of books (e.g., 1, 2, 3, etc.)\n",
        "Continuous: Weight of an apple (e.g., 150.5 grams, 150.6 grams, etc.)\n",
        "Qualitative Data (Categorical Data)\n",
        "\n",
        "Description: Qualitative data describes attributes or characteristics. It can be divided into nominal and ordinal data.\n",
        "Types:\n",
        "Nominal Data: Represents categories without a natural order. Examples include gender, eye color, or nationality.\n",
        "Ordinal Data: Represents categories with a natural order but without a consistent difference between categories. Examples include rankings, such as 1st, 2nd, and 3rd place.\n",
        "Examples:\n",
        "Nominal: Types of fruits (e.g., apple, orange, banana)\n",
        "Ordinal: Customer satisfaction ratings (e.g., very satisfied, satisfied, neutral, dissatisfied)\n",
        "Binary Data\n",
        "\n",
        "Description: A type of qualitative data with only two possible values.\n",
        "Examples:\n",
        "Gender (e.g., male, female)\n",
        "Answer to a yes/no question (e.g., yes, no)\n",
        "Time Series Data\n",
        "\n",
        "Description: Data points collected or recorded at specific time intervals.\n",
        "Examples:\n",
        "Stock prices recorded every day\n",
        "Daily temperature readings\n",
        "Spatial Data (Geospatial Data)\n",
        "\n",
        "Description: Data that represents the physical location and shape of objects on Earth.\n",
        "Examples:\n",
        "GPS coordinates\n",
        "Maps showing locations of stores\n",
        "Text Data\n",
        "\n",
        "Description: Data in textual form, often unstructured.\n",
        "Examples:\n",
        "Tweets\n",
        "Customer reviews\n",
        "Ordinal Data\n",
        "\n",
        "Description: Similar to qualitative data but with a clear ordering of the values.\n",
        "Examples:\n",
        "Socio-economic status (e.g., low, medium, high)\n",
        "Education levels (e.g., high school, bachelor's, master's)"
      ],
      "metadata": {
        "id": "gDmZPlVuVASN"
      }
    },
    {
      "cell_type": "code",
      "source": [
        "'''\n",
        "Q4. Categorise the following datasets with respect to quantitative and qualitative data types:\n",
        "(i) Grading in exam: A+, A, B+, B, C+, C, D, E -----------------------------------------------Ordinal data\n",
        "(ii) Colour of mangoes: yellow, green, orange, red -------------------------------------------Nominal data\n",
        "(iii) Height data of a class: [178.9, 179, 179.5, 176, 177.2, 178.3, 175.8,...]---------------Continuous data\n",
        "(iv) Number of mangoes exported by a farm: [500, 600, 478, 672, ...]--------------------------Discrete data\n",
        "'''"
      ],
      "metadata": {
        "id": "7beWdSdhVfbC"
      },
      "execution_count": null,
      "outputs": []
    },
    {
      "cell_type": "markdown",
      "source": [
        "Q5. Explain the concept of levels of measurement and give an example of a variable for each level."
      ],
      "metadata": {
        "id": "U-iF7FQfVxiN"
      }
    },
    {
      "cell_type": "code",
      "source": [
        "'''\n",
        "Nominal: the data can only be categorized and not ranked or ordered. Example : Gender (Male, Female)\n",
        "Ordinal: the data can be categorized and ranked but not ordered. Example : Education level (High School, Bachelor's, Master's)\n",
        "Interval: the data can be categorized, ranked, and evenly spaced but not ordered. Example : Temperature (Celsius, Fahrenheit)\n",
        "Ratio: the data can be categorized, ranked, evenly spaced, and has a natural zero. Example : Height (meters, centimeters)\n",
        "'''"
      ],
      "metadata": {
        "id": "_PhLPhQRXrzr"
      },
      "execution_count": null,
      "outputs": []
    },
    {
      "cell_type": "markdown",
      "source": [
        "Q6. Why is it important to understand the level of measurement when analyzing data? Provide an\n",
        "example to illustrate your answer."
      ],
      "metadata": {
        "id": "g2uTStZVYODx"
      }
    },
    {
      "cell_type": "code",
      "source": [
        "'''\n",
        "Understanding the level of measurement when analyzing data is crucial because it determines the types of statistical analyses that are appropriate and meaningful for the data. The level of measurement influences how data can be summarized, visualized, and the kind of conclusions that can be drawn from the analysis. There are four primary levels of measurement: nominal, ordinal, interval, and ratio. Each level has different properties and permissible statistical operations.\n",
        "\n",
        "Importance of Understanding Levels of Measurement\n",
        "Appropriate Statistical Tests: Different levels of measurement require different statistical tests.\n",
        "For example, mean and standard deviation are appropriate for interval and ratio data but not for nominal or ordinal data.\n",
        "\n",
        "Meaningful Interpretation: The level of measurement affects how we interpret the data. For example,\n",
        "it makes sense to calculate an average for height (ratio data) but not for favorite color (nominal data).\n",
        "\n",
        "Data Transformation: Understanding the level of measurement helps in transforming data appropriately.\n",
        "For instance, ordinal data can sometimes be treated as interval data under certain conditions, but nominal data cannot.\n",
        "\n",
        "Visual Representation: The type of charts and graphs used to visualize data depends on the level of measurement.\n",
        "Pie charts and bar graphs are suitable for nominal data, while histograms are used for interval and ratio data.\n",
        "\n",
        "Example to Illustrate\n",
        "Consider a dataset from a survey that includes the following variables: gender, satisfaction level, temperature, and income.\n",
        "\n",
        "Nominal Data (Gender):\n",
        "\n",
        "Example: Male, Female, Non-binary\n",
        "Analysis: You can count frequencies or mode. It is inappropriate to calculate means or standard deviations.\n",
        "Visualization: Bar charts or pie charts.\n",
        "Ordinal Data (Satisfaction Level):\n",
        "\n",
        "Example: Very Unsatisfied, Unsatisfied, Neutral, Satisfied, Very Satisfied\n",
        "Analysis: You can calculate the median or use non-parametric tests like the Mann-Whitney U test.\n",
        "It is inappropriate to calculate means if the intervals between levels are not equal.\n",
        "Visualization: Bar charts.\n",
        "Interval Data (Temperature in Celsius):\n",
        "\n",
        "Example: 20°C, 25°C, 30°C\n",
        "Analysis: You can calculate the mean, standard deviation, and use parametric tests like t-tests or ANOVA.\n",
        "However, you cannot make ratio comparisons (e.g., saying 30°C is twice as hot as 15°C).\n",
        "Visualization: Histograms or line graphs.\n",
        "Ratio Data (Income):\n",
        "\n",
        "Example: $2000, $3000, $4000\n",
        "Analysis: You can calculate the mean, standard deviation, and make meaningful ratio comparisons (e.g., $4000 is twice as much as $2000). You can also use parametric tests.\n",
        "Visualization: Histograms or box plots.\n",
        "Example Illustration\n",
        "Suppose you want to analyze customer satisfaction levels (ordinal data) and relate them to customer income (ratio data).\n",
        "\n",
        "Wrong Approach: Calculating the average satisfaction level (treating ordinal data as interval/ratio) and performing a parametric correlation analysis with income.\n",
        "Right Approach: Using the median or mode to summarize satisfaction levels and\n",
        "performing a non-parametric test like Spearman's rank correlation to analyze the relationship with income.\n",
        "Understanding the level of measurement ensures that you choose appropriate analytical methods, leading to valid and reliable conclusions.\n",
        "This avoids misinterpretation of data and ensures the robustness of your analysis.\n",
        "'''"
      ],
      "metadata": {
        "id": "SVkkfiaMYh9_"
      },
      "execution_count": null,
      "outputs": []
    },
    {
      "cell_type": "markdown",
      "source": [
        "Q7. How nominal data type is different from ordinal data type.\n",
        "\n",
        "Ans.\n",
        "\n",
        "Ordinal data is data that can be ranked or ordered. Examples include data taken from a poll or survey. Nominal data is data that can be made to fit various categories. Examples include whether an animal is a mammal, fish, reptile, amphibian, or bird."
      ],
      "metadata": {
        "id": "Z4RLLZp0ZSZT"
      }
    },
    {
      "cell_type": "markdown",
      "source": [
        "Q8. Which type of plot can be used to display data in terms of range?\n",
        "\n",
        "Ans\n",
        "\n",
        "Box Plot"
      ],
      "metadata": {
        "id": "HxPHiGTSZkt1"
      }
    },
    {
      "cell_type": "markdown",
      "source": [
        "Q9. Describe the difference between descriptive and inferential statistics. Give an example of each\n",
        "type of statistics and explain how they are used."
      ],
      "metadata": {
        "id": "IZV1LFwPa6E_"
      }
    },
    {
      "cell_type": "code",
      "source": [
        "'''\n",
        "In a nutshell, descriptive statistics focus on describing the visible characteristics of a dataset (a population or sample).\n",
        "Meanwhile, inferential statistics focus on making predictions or generalizations about a larger dataset, based on a sample of those data."
      ],
      "metadata": {
        "id": "lE5iLVS2a8Aj"
      },
      "execution_count": null,
      "outputs": []
    },
    {
      "cell_type": "markdown",
      "source": [
        "Q10. What are some common measures of central tendency and variability used in statistics? Explain\n",
        "how each measure can be used to describe a dataset."
      ],
      "metadata": {
        "id": "dmIDRH4wbpIh"
      }
    },
    {
      "cell_type": "code",
      "source": [
        "'''\n",
        "Measures of Central Tendency and Dispersion\n",
        "The three commonly used measures of central tendency are the mean, median, and mode.\n",
        "A statistic that tells us how the data values are dispersed or spread out is called the measure of dispersion.\n",
        "A simple measure of dispersion is the range."
      ],
      "metadata": {
        "id": "oN1q0zFNbrQT"
      },
      "execution_count": null,
      "outputs": []
    }
  ]
}