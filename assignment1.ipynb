{
  "nbformat": 4,
  "nbformat_minor": 0,
  "metadata": {
    "colab": {
      "provenance": []
    },
    "kernelspec": {
      "name": "python3",
      "display_name": "Python 3"
    },
    "language_info": {
      "name": "python"
    }
  },
  "cells": [
    {
      "cell_type": "markdown",
      "source": [
        "Q1. Create one variable containing following type of data:\n",
        "(i) string\n",
        "(ii) list\n",
        "(iii) float\n",
        "(iv) tuple"
      ],
      "metadata": {
        "id": "uY6emPDhDWFJ"
      }
    },
    {
      "cell_type": "code",
      "execution_count": 1,
      "metadata": {
        "id": "HdxZqFiyDRhz"
      },
      "outputs": [],
      "source": [
        "a = 'shivam'\n",
        "b = [1,2,3,4]\n",
        "c = 3.14\n",
        "d = (1,2,3,4)"
      ]
    },
    {
      "cell_type": "markdown",
      "source": [
        "Q2. Given are some following variables containing data:\n",
        "\n",
        "(i) var1 = ‘ ‘\n",
        "\n",
        "(ii) var2 = ‘[ DS , ML , Python]’\n",
        "\n",
        "(iii) var3 = [ ‘DS’ , ’ML’ , ‘Python’ ]\n",
        "\n",
        "(iv) var4 = 1.\n",
        "\n",
        "What will be the data type of the above given variable."
      ],
      "metadata": {
        "id": "td0x2A5CDkIU"
      }
    },
    {
      "cell_type": "markdown",
      "source": [
        "var1: str\n",
        "\n",
        "var2: str\n",
        "\n",
        "var3: list\n",
        "\n",
        "var4: float"
      ],
      "metadata": {
        "id": "FYlLdw9fD0mF"
      }
    },
    {
      "cell_type": "markdown",
      "source": [
        "Q3. Explain the use of the following operators using an example:\n",
        "\n",
        "(i) /\n",
        "\n",
        "(ii) %\n",
        "\n",
        "(iii) //\n",
        "\n",
        "(iv) **"
      ],
      "metadata": {
        "id": "9J6deEqwEBjx"
      }
    },
    {
      "cell_type": "markdown",
      "source": [
        "/ divides and returns a float.\n",
        "\n",
        "% returns the remainder of the division.\n",
        "\n",
        "// divides and returns the integer part of the quotient (floor value).\n",
        "\n",
        "** raises a number to the power of another number."
      ],
      "metadata": {
        "id": "jFohV7DQEMdI"
      }
    },
    {
      "cell_type": "markdown",
      "source": [
        "Q4. Create a list of length 10 of your choice containing multiple types of data. Using for loop print the element and its data type."
      ],
      "metadata": {
        "id": "VmF5jcnoEP7Q"
      }
    },
    {
      "cell_type": "code",
      "source": [
        "l = [1,2,'shivam',4.57,[1,2,4],(5,7),7,8,9,10]\n",
        "for i in l:\n",
        "    print(i,type(i))"
      ],
      "metadata": {
        "colab": {
          "base_uri": "https://localhost:8080/"
        },
        "id": "9PwPdvLnDi-y",
        "outputId": "1b537211-00ab-4653-c265-9c01d2151399"
      },
      "execution_count": 2,
      "outputs": [
        {
          "output_type": "stream",
          "name": "stdout",
          "text": [
            "1 <class 'int'>\n",
            "2 <class 'int'>\n",
            "shivam <class 'str'>\n",
            "4.57 <class 'float'>\n",
            "[1, 2, 4] <class 'list'>\n",
            "(5, 7) <class 'tuple'>\n",
            "7 <class 'int'>\n",
            "8 <class 'int'>\n",
            "9 <class 'int'>\n",
            "10 <class 'int'>\n"
          ]
        }
      ]
    },
    {
      "cell_type": "markdown",
      "source": [
        "Q5. Using a while loop, verify if the number A is purely divisible by number B and if so then how many times it can be divisible."
      ],
      "metadata": {
        "id": "2cCXQZeKEqfH"
      }
    },
    {
      "cell_type": "code",
      "source": [
        "def count_divisibility(A, B):\n",
        "    if B == 0:\n",
        "        return \"Division by zero is not allowed\"\n",
        "\n",
        "    count = 0\n",
        "    while A % B == 0:\n",
        "        A = A // B\n",
        "        count += 1\n",
        "\n",
        "    return count\n",
        "\n",
        "A = 64\n",
        "B = 2\n",
        "result = count_divisibility(A, B)\n",
        "print(f\"{A} is divisible by {B}, {result} times\")\n"
      ],
      "metadata": {
        "colab": {
          "base_uri": "https://localhost:8080/"
        },
        "id": "osLF8Sf2EksJ",
        "outputId": "9590a6c4-cd15-421c-ed6b-f6e41d2d18e4"
      },
      "execution_count": 3,
      "outputs": [
        {
          "output_type": "stream",
          "name": "stdout",
          "text": [
            "64 is divisible by 2, 6 times\n"
          ]
        }
      ]
    },
    {
      "cell_type": "markdown",
      "source": [
        "Q6. Create a list containing 25 int type data. Using for loop and if-else condition print if the element is divisible by 3 or not."
      ],
      "metadata": {
        "id": "aXKFKjqnFBAq"
      }
    },
    {
      "cell_type": "code",
      "source": [
        "l = [1,2,3,4,5,6,7,8,9,11,12,14,15,45,85,85,4,5,52,00,220,85,11,25,2002,52232,22025,200255]\n",
        "for i in l:\n",
        "    if i%3==0:\n",
        "        print(i,'divisible by 3')"
      ],
      "metadata": {
        "colab": {
          "base_uri": "https://localhost:8080/"
        },
        "id": "p80x2xWiE5uK",
        "outputId": "68469d59-acc5-4256-a1ae-e991b6d7863c"
      },
      "execution_count": 5,
      "outputs": [
        {
          "output_type": "stream",
          "name": "stdout",
          "text": [
            "3 divisible by 3\n",
            "6 divisible by 3\n",
            "9 divisible by 3\n",
            "12 divisible by 3\n",
            "15 divisible by 3\n",
            "45 divisible by 3\n",
            "0 divisible by 3\n"
          ]
        }
      ]
    },
    {
      "cell_type": "markdown",
      "source": [
        "Q7. What do you understand about mutable and immutable data types? Give examples for both showing this property."
      ],
      "metadata": {
        "id": "QPO3McAHFhyi"
      }
    },
    {
      "cell_type": "code",
      "source": [
        "# Creating a list (mutable)\n",
        "my_list = [1, 2, 3]\n",
        "print(\"Original list:\", my_list)\n",
        "\n",
        "# Modifying the list\n",
        "my_list[0] = 4\n",
        "print(\"Modified list:\", my_list)\n"
      ],
      "metadata": {
        "colab": {
          "base_uri": "https://localhost:8080/"
        },
        "id": "5DLS7a3mFX3m",
        "outputId": "3d5d1429-0e4c-4635-9bfb-c1c7f3056c47"
      },
      "execution_count": 6,
      "outputs": [
        {
          "output_type": "stream",
          "name": "stdout",
          "text": [
            "Original list: [1, 2, 3]\n",
            "Modified list: [4, 2, 3]\n"
          ]
        }
      ]
    },
    {
      "cell_type": "code",
      "source": [],
      "metadata": {
        "id": "V1-4muRsFr4p"
      },
      "execution_count": null,
      "outputs": []
    }
  ]
}