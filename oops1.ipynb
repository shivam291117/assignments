{
  "nbformat": 4,
  "nbformat_minor": 0,
  "metadata": {
    "colab": {
      "provenance": []
    },
    "kernelspec": {
      "name": "python3",
      "display_name": "Python 3"
    },
    "language_info": {
      "name": "python"
    }
  },
  "cells": [
    {
      "cell_type": "markdown",
      "source": [
        "Q1. Explain Class and Object with respect to Object-Oriented Programming. Give a suitable example."
      ],
      "metadata": {
        "id": "gzS-IBlvntKC"
      }
    },
    {
      "cell_type": "markdown",
      "source": [
        "Class:\n",
        "A class is a blueprint or template for creating objects. It defines a set of attributes (data) and methods (functions) that the created objects will have. A class encapsulates data and the functions that operate on that data into a single unit.\n",
        "\n",
        "Object:\n",
        "An object is an instance of a class. When a class is defined, no memory is allocated until an object of that class is created. Objects have attributes and behavior defined by the class."
      ],
      "metadata": {
        "id": "2lgXE_NCnxjA"
      }
    },
    {
      "cell_type": "code",
      "execution_count": 1,
      "metadata": {
        "colab": {
          "base_uri": "https://localhost:8080/"
        },
        "id": "JT_iTRG0npqy",
        "outputId": "04d58cd6-adb8-4db8-d6f6-a2624b7a6f1e"
      },
      "outputs": [
        {
          "output_type": "stream",
          "name": "stdout",
          "text": [
            "Buddy is 3 years old.\n",
            "Molly is 5 years old.\n",
            "Buddy says Woof Woof\n",
            "Molly says Bark\n"
          ]
        }
      ],
      "source": [
        "class Dog:\n",
        "    species = \"Canis familiaris\"\n",
        "\n",
        "    def __init__(self, name, age):\n",
        "        self.name = name\n",
        "        self.age = age\n",
        "\n",
        "    def description(self):\n",
        "        return f\"{self.name} is {self.age} years old.\"\n",
        "    def speak(self, sound):\n",
        "        return f\"{self.name} says {sound}\"\n",
        "\n",
        "dog1 = Dog(\"Buddy\", 3)\n",
        "dog2 = Dog(\"Molly\", 5)\n",
        "\n",
        "print(dog1.description())\n",
        "print(dog2.description())\n",
        "print(dog1.speak(\"Woof Woof\"))\n",
        "print(dog2.speak(\"Bark\"))\n"
      ]
    },
    {
      "cell_type": "markdown",
      "source": [
        "Q2. Name the four pillars of OOPs."
      ],
      "metadata": {
        "id": "vmnlIL43oMQR"
      }
    },
    {
      "cell_type": "code",
      "source": [
        "'''The four pillars of Object-Oriented Programming (OOPS) are:\n",
        "Abstraction.\n",
        "Encapsulation.\n",
        "Inheritance.\n",
        "Polymorphism.'''"
      ],
      "metadata": {
        "colab": {
          "base_uri": "https://localhost:8080/",
          "height": 36
        },
        "id": "e652HkQ9oGXd",
        "outputId": "6a4956ee-a6a2-4e40-e1e2-9bfefba3433d"
      },
      "execution_count": 2,
      "outputs": [
        {
          "output_type": "execute_result",
          "data": {
            "text/plain": [
              "'The four pillars of Object-Oriented Programming (OOPS) are:\\nAbstraction.\\nEncapsulation.\\nInheritance.\\nPolymorphism.'"
            ],
            "application/vnd.google.colaboratory.intrinsic+json": {
              "type": "string"
            }
          },
          "metadata": {},
          "execution_count": 2
        }
      ]
    },
    {
      "cell_type": "markdown",
      "source": [
        "Q3. Explain why the __init__() function is used. Give a suitable example."
      ],
      "metadata": {
        "id": "P619lg91oVvG"
      }
    },
    {
      "cell_type": "markdown",
      "source": [
        "__init__ method is like default constructor in C++ and Java. Constructors are used to initialize the object’s state.\n",
        "\n",
        "The task of constructors is to initialize(assign values) to the data members of the class when an object of the class is created.\n",
        "\n",
        "Like methods, a constructor also contains a collection of statements(i.e. instructions) that are executed at the time of Object creation. It is run as soon as an object of a class is instantiated.\n",
        "\n",
        "The method is useful to do any initialization you want to do with your object."
      ],
      "metadata": {
        "id": "WVE4WQCOp-1u"
      }
    },
    {
      "cell_type": "code",
      "source": [
        "# A Sample class with init method\n",
        "class Person:\n",
        "\n",
        "\t# init method or constructor\n",
        "\tdef __init__(self, name):\n",
        "\t\tself.name = name\n",
        "\n",
        "\t# Sample Method\n",
        "\tdef say_hi(self):\n",
        "\t\tprint('Hello, my name is', self.name)\n",
        "\n",
        "\n",
        "p = Person('Nikhil')\n",
        "p.say_hi()\n"
      ],
      "metadata": {
        "colab": {
          "base_uri": "https://localhost:8080/"
        },
        "id": "PLb3j10voUyN",
        "outputId": "3527e5ed-2177-40c8-e3ba-6771eb2ef8e1"
      },
      "execution_count": 3,
      "outputs": [
        {
          "output_type": "stream",
          "name": "stdout",
          "text": [
            "Hello, my name is Nikhil\n"
          ]
        }
      ]
    },
    {
      "cell_type": "markdown",
      "source": [
        "Q4. Why self is used in OOPs?"
      ],
      "metadata": {
        "id": "qzMtn869qiMP"
      }
    },
    {
      "cell_type": "code",
      "source": [
        "'''Ans.\n",
        "When working with classes in Python, the term “self” refers to the instance of the class that is currently being used.\n",
        "It is customary to use “self” as the first parameter in instance methods of a class.\n",
        "Whenever you call a method of an object created from a class, the object is automatically passed as the first argument using the “self” parameter.\n",
        "This enables you to modify the object’s properties and execute tasks unique to that particular instance.'''"
      ],
      "metadata": {
        "colab": {
          "base_uri": "https://localhost:8080/",
          "height": 70
        },
        "id": "51Uk2btOqfGY",
        "outputId": "5791dae4-e34a-4912-bd74-6b11bd5c3df8"
      },
      "execution_count": 4,
      "outputs": [
        {
          "output_type": "execute_result",
          "data": {
            "text/plain": [
              "'Ans.\\nWhen working with classes in Python, the term “self” refers to the instance of the class that is currently being used. \\nIt is customary to use “self” as the first parameter in instance methods of a class. \\nWhenever you call a method of an object created from a class, the object is automatically passed as the first argument using the “self” parameter. \\nThis enables you to modify the object’s properties and execute tasks unique to that particular instance.'"
            ],
            "application/vnd.google.colaboratory.intrinsic+json": {
              "type": "string"
            }
          },
          "metadata": {},
          "execution_count": 4
        }
      ]
    },
    {
      "cell_type": "markdown",
      "source": [
        "Q5. What is inheritance? Give an example for each type of inheritance."
      ],
      "metadata": {
        "id": "hkAW5nPiq2oY"
      }
    },
    {
      "cell_type": "markdown",
      "source": [
        "Inheritance is defined as the mechanism of inheriting the properties of the base class to the child class."
      ],
      "metadata": {
        "id": "NF14114brDlI"
      }
    },
    {
      "cell_type": "code",
      "source": [
        "# Python program to demonstrate\n",
        "# single inheritance\n",
        "\n",
        "# Base class\n",
        "class Parent:\n",
        "\tdef func1(self):\n",
        "\t\tprint(\"This function is in parent class.\")\n",
        "\n",
        "# Derived class\n",
        "\n",
        "\n",
        "class Child(Parent):\n",
        "\tdef func2(self):\n",
        "\t\tprint(\"This function is in child class.\")\n",
        "\n",
        "\n",
        "# Driver's code\n",
        "object = Child()\n",
        "object.func1()\n",
        "object.func2()\n"
      ],
      "metadata": {
        "colab": {
          "base_uri": "https://localhost:8080/"
        },
        "id": "hQ78_n7rqz3z",
        "outputId": "2de97bff-aef2-471d-aaac-e15e062fbc1a"
      },
      "execution_count": 5,
      "outputs": [
        {
          "output_type": "stream",
          "name": "stdout",
          "text": [
            "This function is in parent class.\n",
            "This function is in child class.\n"
          ]
        }
      ]
    },
    {
      "cell_type": "code",
      "source": [
        "# Python program to demonstrate\n",
        "# multiple inheritance\n",
        "\n",
        "# Base class1\n",
        "class Mother:\n",
        "\tmothername = \"\"\n",
        "\n",
        "\tdef mother(self):\n",
        "\t\tprint(self.mothername)\n",
        "\n",
        "# Base class2\n",
        "\n",
        "\n",
        "class Father:\n",
        "\tfathername = \"\"\n",
        "\n",
        "\tdef father(self):\n",
        "\t\tprint(self.fathername)\n",
        "\n",
        "# Derived class\n",
        "\n",
        "\n",
        "class Son(Mother, Father):\n",
        "\tdef parents(self):\n",
        "\t\tprint(\"Father :\", self.fathername)\n",
        "\t\tprint(\"Mother :\", self.mothername)\n",
        "\n",
        "\n",
        "# Driver's code\n",
        "s1 = Son()\n",
        "s1.fathername = \"RAM\"\n",
        "s1.mothername = \"SITA\"\n",
        "s1.parents()\n"
      ],
      "metadata": {
        "colab": {
          "base_uri": "https://localhost:8080/"
        },
        "id": "7i4NYsbdrG3k",
        "outputId": "5f565cc3-4252-4466-aa31-12a8de654366"
      },
      "execution_count": 6,
      "outputs": [
        {
          "output_type": "stream",
          "name": "stdout",
          "text": [
            "Father : RAM\n",
            "Mother : SITA\n"
          ]
        }
      ]
    },
    {
      "cell_type": "code",
      "source": [
        "# Python program to demonstrate\n",
        "# multilevel inheritance\n",
        "\n",
        "# Base class\n",
        "\n",
        "\n",
        "class Grandfather:\n",
        "\n",
        "\tdef __init__(self, grandfathername):\n",
        "\t\tself.grandfathername = grandfathername\n",
        "\n",
        "# Intermediate class\n",
        "\n",
        "\n",
        "class Father(Grandfather):\n",
        "\tdef __init__(self, fathername, grandfathername):\n",
        "\t\tself.fathername = fathername\n",
        "\n",
        "\t\t# invoking constructor of Grandfather class\n",
        "\t\tGrandfather.__init__(self, grandfathername)\n",
        "\n",
        "# Derived class\n",
        "\n",
        "\n",
        "class Son(Father):\n",
        "\tdef __init__(self, sonname, fathername, grandfathername):\n",
        "\t\tself.sonname = sonname\n",
        "\n",
        "\t\t# invoking constructor of Father class\n",
        "\t\tFather.__init__(self, fathername, grandfathername)\n",
        "\n",
        "\tdef print_name(self):\n",
        "\t\tprint('Grandfather name :', self.grandfathername)\n",
        "\t\tprint(\"Father name :\", self.fathername)\n",
        "\t\tprint(\"Son name :\", self.sonname)\n",
        "\n",
        "\n",
        "# Driver code\n",
        "s1 = Son('Prince', 'Rampal', 'Lal mani')\n",
        "print(s1.grandfathername)\n",
        "s1.print_name()\n"
      ],
      "metadata": {
        "colab": {
          "base_uri": "https://localhost:8080/"
        },
        "id": "BoULUtFtrJ-5",
        "outputId": "3835a387-7dc5-469d-dab4-693c3109c2c1"
      },
      "execution_count": 7,
      "outputs": [
        {
          "output_type": "stream",
          "name": "stdout",
          "text": [
            "Lal mani\n",
            "Grandfather name : Lal mani\n",
            "Father name : Rampal\n",
            "Son name : Prince\n"
          ]
        }
      ]
    },
    {
      "cell_type": "code",
      "source": [
        "# Python program to demonstrate\n",
        "# Hierarchical inheritance\n",
        "\n",
        "\n",
        "# Base class\n",
        "class Parent:\n",
        "\tdef func1(self):\n",
        "\t\tprint(\"This function is in parent class.\")\n",
        "\n",
        "# Derived class1\n",
        "\n",
        "\n",
        "class Child1(Parent):\n",
        "\tdef func2(self):\n",
        "\t\tprint(\"This function is in child 1.\")\n",
        "\n",
        "# Derivied class2\n",
        "\n",
        "\n",
        "class Child2(Parent):\n",
        "\tdef func3(self):\n",
        "\t\tprint(\"This function is in child 2.\")\n",
        "\n",
        "\n",
        "# Driver's code\n",
        "object1 = Child1()\n",
        "object2 = Child2()\n",
        "object1.func1()\n",
        "object1.func2()\n",
        "object2.func1()\n",
        "object2.func3()\n"
      ],
      "metadata": {
        "colab": {
          "base_uri": "https://localhost:8080/"
        },
        "id": "wRs3I3MvrNF4",
        "outputId": "5f43881e-0f83-4993-8c01-42ddf6d0a1fc"
      },
      "execution_count": 8,
      "outputs": [
        {
          "output_type": "stream",
          "name": "stdout",
          "text": [
            "This function is in parent class.\n",
            "This function is in child 1.\n",
            "This function is in parent class.\n",
            "This function is in child 2.\n"
          ]
        }
      ]
    },
    {
      "cell_type": "code",
      "source": [
        "# Python program to demonstrate\n",
        "# hybrid inheritance\n",
        "\n",
        "\n",
        "class School:\n",
        "\tdef func1(self):\n",
        "\t\tprint(\"This function is in school.\")\n",
        "\n",
        "\n",
        "class Student1(School):\n",
        "\tdef func2(self):\n",
        "\t\tprint(\"This function is in student 1. \")\n",
        "\n",
        "\n",
        "class Student2(School):\n",
        "\tdef func3(self):\n",
        "\t\tprint(\"This function is in student 2.\")\n",
        "\n",
        "\n",
        "class Student3(Student1, School):\n",
        "\tdef func4(self):\n",
        "\t\tprint(\"This function is in student 3.\")\n",
        "\n",
        "\n",
        "# Driver's code\n",
        "object = Student3()\n",
        "object.func1()\n",
        "object.func2()\n"
      ],
      "metadata": {
        "colab": {
          "base_uri": "https://localhost:8080/"
        },
        "id": "B8o8NEP-rQqv",
        "outputId": "ef1fb8f6-073f-4e40-f8fa-305a1720c074"
      },
      "execution_count": 9,
      "outputs": [
        {
          "output_type": "stream",
          "name": "stdout",
          "text": [
            "This function is in school.\n",
            "This function is in student 1. \n"
          ]
        }
      ]
    },
    {
      "cell_type": "code",
      "source": [],
      "metadata": {
        "id": "7wnEaKeRrljA"
      },
      "execution_count": null,
      "outputs": []
    }
  ]
}