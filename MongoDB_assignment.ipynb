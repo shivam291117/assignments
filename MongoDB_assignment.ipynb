{
  "nbformat": 4,
  "nbformat_minor": 0,
  "metadata": {
    "colab": {
      "provenance": []
    },
    "kernelspec": {
      "name": "python3",
      "display_name": "Python 3"
    },
    "language_info": {
      "name": "python"
    }
  },
  "cells": [
    {
      "cell_type": "markdown",
      "source": [
        "**Q1. What is MongoDB? Explain non-relational databases in short. In which scenarios it is preferred to use MongoDB over SQL databases?**\n",
        "Ans. MongoDB is a popular open-source NoSQL database management system. It belongs to the family of document-oriented databases, which store data in flexible, JSON-like documents. MongoDB uses a flexible schema model, allowing for dynamic and hierarchical data structures, which makes it suitable for handling unstructured and semi-structured data.\n",
        "\n",
        "**Scenarios to Prefer MongoDB over SQL Databases:**\n",
        "1. Schema Flexibility\n",
        "2. Large Volume of Unstructured Data\n",
        "3. Horizontal Scalability\n",
        "4. Agile Development\n",
        "5. Real-Time Analytics\n",
        "6. Content Management and Cataloging"
      ],
      "metadata": {
        "id": "fvGdEytIbCTx"
      }
    },
    {
      "cell_type": "markdown",
      "source": [
        "**Q2. State and Explain the features of MongoDB.**\n",
        "\n",
        "Ans. MongoDB's features cater to modern application development needs, offering flexibility, scalability, high availability, powerful querying capabilities, and robust security. Its document-oriented storage, flexible schema design, and support for distributed architectures make it suitable for a wide range of use cases, from content management systems and real-time analytics to mobile applications and IoT platforms."
      ],
      "metadata": {
        "id": "jK2ha5qRb1K2"
      }
    },
    {
      "cell_type": "markdown",
      "source": [
        "**Q3. Write a code to connect MongoDB to Python. Also, create a database and a collection in MongoDB.**\n",
        "Ans.\n",
        "\n"
      ],
      "metadata": {
        "id": "TsRI8K7pcCCk"
      }
    },
    {
      "cell_type": "code",
      "source": [
        "import pymongo\n",
        "try:\n",
        "    client = pymongo.MongoClient(\"mongodb://localhost:27017/\")\n",
        "    print(\"Connected successfully!\")\n",
        "\n",
        "    db = client[\"mydatabase\"]\n",
        "\n",
        "    collection = db[\"mycollection\"]\n",
        "\n",
        "    document = {\"name\": \"John Doe\", \"email\": \"john.doe@example.com\", \"age\": 30}\n",
        "    result = collection.insert_one(document)\n",
        "    print(f\"Document inserted with ID: {result.inserted_id}\")\n",
        "\n",
        "except pymongo.errors.ConnectionFailure as e:\n",
        "    print(f\"Connection failed: {e}\")\n",
        "\n",
        "finally:\n",
        "    client.close()"
      ],
      "metadata": {
        "id": "xyyCa21zdmwc"
      },
      "execution_count": null,
      "outputs": []
    },
    {
      "cell_type": "markdown",
      "source": [
        "**Q4. Using the database and the collection created in question number 3, write a code to insert one record, and insert many records. Use the find() and find_one() methods to print the inserted record.**\n",
        "Ans.\n",
        "\n"
      ],
      "metadata": {
        "id": "Mt33HjECcepR"
      }
    },
    {
      "cell_type": "code",
      "source": [
        "\n",
        "try:\n",
        "    client = pymongo.MongoClient(\"mongodb://localhost:27017/\")\n",
        "    print(\"Connected successfully!\")\n",
        "\n",
        "\n",
        "    db = client[\"mydatabase\"]\n",
        "\n",
        "    collection = db[\"mycollection\"]\n",
        "\n",
        "    document1 = {\"name\": \"Alice\", \"email\": \"alice@example.com\", \"age\": 25}\n",
        "    result1 = collection.insert_one(document1)\n",
        "    print(f\"Document inserted with ID: {result1.inserted_id}\")\n",
        "    documents2 = [\n",
        "        {\"name\": \"Bob\", \"email\": \"bob@example.com\", \"age\": 30},\n",
        "        {\"name\": \"Charlie\", \"email\": \"charlie@example.com\", \"age\": 35},\n",
        "        {\"name\": \"David\", \"email\": \"david@example.com\", \"age\": 40}\n",
        "    ]\n",
        "    result2 = collection.insert_many(documents2)\n",
        "    print(f\"Documents inserted with IDs: {result2.inserted_ids}\")\n",
        "\n",
        "    found_one = collection.find_one({\"name\": \"Alice\"})\n",
        "    print(\"Found one record:\")\n",
        "    print(found_one)\n",
        "\n",
        "    found_all = collection.find()\n",
        "    print(\"Found all records:\")\n",
        "    for record in found_all:\n",
        "        print(record)\n",
        "\n",
        "except pymongo.errors.ConnectionFailure as e:\n",
        "    print(f\"Connection failed: {e}\")\n",
        "\n",
        "finally:\n",
        "    client.close()"
      ],
      "metadata": {
        "id": "pir1m9KOdtp-"
      },
      "execution_count": null,
      "outputs": []
    },
    {
      "cell_type": "markdown",
      "source": [
        "**Q5. Explain how you can use the find() method to query the MongoDB database. Write a simple code to demonstrate this.**\n",
        "Ans."
      ],
      "metadata": {
        "id": "O7gVgwgNc-zH"
      }
    },
    {
      "cell_type": "code",
      "source": [
        "\n",
        "try:\n",
        "    client = pymongo.MongoClient(\"mongodb://localhost:27017/\")\n",
        "    print(\"Connected successfully!\")\n",
        "\n",
        "    db = client[\"mydatabase\"]\n",
        "\n",
        "    collection = db[\"users\"]\n",
        "\n",
        "    collection.insert_many([\n",
        "         {\"name\": \"Alice\", \"email\": \"alice@example.com\", \"age\": 25},\n",
        "         {\"name\": \"Bob\", \"email\": \"bob@example.com\", \"age\": 30},\n",
        "         {\"name\": \"Charlie\", \"email\": \"charlie@example.com\", \"age\": 35},\n",
        "         {\"name\": \"David\", \"email\": \"david@example.com\", \"age\": 40} ])\n",
        "\n",
        "\n",
        "    cursor = collection.find()\n",
        "\n",
        "    print(\"All documents in the collection:\")\n",
        "    for document in cursor:\n",
        "        print(document)\n",
        "    filter_query = {\"age\": {\"$gte\": 30}}\n",
        "    filtered_cursor = collection.find(filter_query)\n",
        "\n",
        "    print(\"\\nFiltered documents:\")\n",
        "    for document in filtered_cursor:\n",
        "        print(document)\n",
        "\n",
        "except pymongo.errors.ConnectionFailure as e:\n",
        "    print(f\"Connection failed: {e}\")\n",
        "\n",
        "finally:\n",
        "    client.close()\n"
      ],
      "metadata": {
        "id": "CJqVg_Xvd5Mr"
      },
      "execution_count": null,
      "outputs": []
    },
    {
      "cell_type": "markdown",
      "source": [
        "**Q6. Explain the sort() method. Give an example to demonstrate sorting in MongoDB.**\n",
        "\n",
        "Ans. In MongoDB, the sort() method is used to specify the ordering of documents returned by a query. It allows you to sort documents in ascending or descending order based on one or more fields."
      ],
      "metadata": {
        "id": "k2Rksz-Wd-Op"
      }
    },
    {
      "cell_type": "code",
      "source": [
        "\n",
        "try:\n",
        "    client = pymongo.MongoClient(\"mongodb://localhost:27017/\")\n",
        "    print(\"Connected successfully!\")\n",
        "\n",
        "    db = client[\"mydatabase\"]\n",
        "\n",
        "    collection = db[\"students\"]\n",
        "\n",
        "    cursor_asc = collection.find().sort(\"score\", pymongo.ASCENDING)\n",
        "\n",
        "    print(\"Sorted documents by 'score' in ascending order:\")\n",
        "    for document in cursor_asc:\n",
        "        print(document)\n",
        "    cursor_desc = collection.find().sort(\"age\", pymongo.DESCENDING)\n",
        "\n",
        "    print(\"\\nSorted documents by 'age' in descending order:\")\n",
        "    for document in cursor_desc:\n",
        "        print(document)\n",
        "\n",
        "except pymongo.errors.ConnectionFailure as e:\n",
        "    print(f\"Connection failed: {e}\")\n",
        "\n",
        "finally:\n",
        "    client.close()\n"
      ],
      "metadata": {
        "id": "fwk0dlpdeuJP"
      },
      "execution_count": null,
      "outputs": []
    },
    {
      "cell_type": "markdown",
      "source": [
        "**Q7. Explain why delete_one(), delete_many(), and drop() is used.**\n",
        "\n",
        "Ans.\n",
        "**1. delete_one(filter, collation=None)**\n",
        "\n",
        "Use delete_one() when you want to remove only the first document that matches the specified filter.\n",
        "\n",
        "**2. delete_many(filter, collation=None)**\n",
        "\n",
        "Use delete_many() when you want to remove multiple documents that match a specific condition.\n",
        "\n",
        "**3. drop()**\n",
        "\n",
        "Use drop() when you want to remove an entire collection including all documents and indexes."
      ],
      "metadata": {
        "id": "uNiAT9Kxe8OB"
      }
    }
  ]
}