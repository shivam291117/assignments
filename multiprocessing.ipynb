{
  "nbformat": 4,
  "nbformat_minor": 0,
  "metadata": {
    "colab": {
      "provenance": []
    },
    "kernelspec": {
      "name": "python3",
      "display_name": "Python 3"
    },
    "language_info": {
      "name": "python"
    }
  },
  "cells": [
    {
      "cell_type": "markdown",
      "source": [
        "Q1. What is multiprocessing in Python? Why is it useful?\n",
        "\n",
        "**Ans**\n",
        "\n",
        "Multiprocessing in Python refers to the capability of creating and running multiple processes simultaneously in order to achieve parallelism and better utilize multiple CPU cores. Each process runs independently and has its own memory space, allowing it to execute tasks concurrently with other processes.\n",
        "\n",
        "**Usefulness of multiprocessing:**\n",
        "\n",
        "Improved Performance:\n",
        "Allows for parallel execution of tasks, leveraging multiple CPU cores to speed up computations.\n",
        "\n",
        "Resource Utilization:\n",
        "Efficiently utilizes system resources by running processes concurrently.\n",
        "\n",
        "Isolation:\n",
        "Provides separate memory space for each process, reducing the risk of conflicts between processes."
      ],
      "metadata": {
        "id": "n4IjT4eYdMjf"
      }
    },
    {
      "cell_type": "markdown",
      "source": [
        "Q2. What are the differences between multiprocessing and multithreading?\n",
        "Differences:\n",
        "\n",
        "Execution:\n",
        "\n",
        "Multiprocessing: Uses multiple processes that run independently and can execute on multiple CPU cores.\n",
        "Multithreading: Uses multiple threads within the same process and shares the same memory space.\n",
        "Concurrency vs Parallelism:\n",
        "\n",
        "Multiprocessing: Achieves true parallelism, as different processes can run simultaneously on different CPU cores.\n",
        "Multithreading: Provides concurrency but not necessarily parallelism, as threads share resources and typically run concurrently on a single CPU core, switching between them.\n",
        "Resource Management:\n",
        "\n",
        "Multiprocessing: Processes have separate memory spaces, which can lead to more complex communication between processes (e.g., IPC mechanisms like pipes or queues are needed).\n",
        "Multithreading: Threads within the same process share memory, allowing for easier communication but requiring careful synchronization to avoid race conditions.\n",
        "Scalability:\n",
        "\n",
        "Multiprocessing: Scales well on multi-core systems and can handle CPU-bound tasks effectively.\n",
        "Multithreading: Often used for I/O-bound tasks or where lightweight concurrent operations are needed within a single process."
      ],
      "metadata": {
        "id": "zJ6S_4j-dsAT"
      }
    },
    {
      "cell_type": "markdown",
      "source": [
        "Q3. Write a Python code to create a process using the multiprocessing module.\n"
      ],
      "metadata": {
        "id": "MU7uCLA2dygY"
      }
    },
    {
      "cell_type": "code",
      "source": [
        "import multiprocessing\n",
        "\n",
        "def print_number(num):\n",
        "    print(f\"Process {num}: Hello from process {multiprocessing.current_process().name}\")\n",
        "\n",
        "if __name__ == '__main__':\n",
        "    processes = []\n",
        "    for i in range(4):\n",
        "        process = multiprocessing.Process(target=print_number, args=(i,))\n",
        "        processes.append(process)\n",
        "        process.start()\n",
        "\n",
        "    for process in processes:\n",
        "        process.join()\n"
      ],
      "metadata": {
        "colab": {
          "base_uri": "https://localhost:8080/"
        },
        "id": "3I8dooV8d4Fr",
        "outputId": "2c9a18de-a21a-4753-fcdc-974d220972b2"
      },
      "execution_count": 1,
      "outputs": [
        {
          "output_type": "stream",
          "name": "stdout",
          "text": [
            "Process 0: Hello from process Process-1\n",
            "Process 1: Hello from process Process-2Process 2: Hello from process Process-3\n",
            "\n",
            "Process 3: Hello from process Process-4\n"
          ]
        }
      ]
    },
    {
      "cell_type": "markdown",
      "source": [
        "Q4. What is a multiprocessing pool in Python? Why is it used?\n",
        "\n",
        "Ans:\n",
        "\n",
        "A multiprocessing pool in Python, specifically multiprocessing.Pool, is a high-level abstraction that manages a pool of worker processes. It allows you to distribute tasks across multiple processes efficiently.\n",
        "\n",
        "**Usefulness:**\n",
        "\n",
        "Parallel Execution: Distributes tasks among a fixed number of worker processes, enabling concurrent execution of tasks.\n",
        "Task Management: Simplifies the management of multiple processes by providing methods to apply functions to data in parallel, map functions to multiple arguments, and asynchronously execute tasks."
      ],
      "metadata": {
        "id": "xX8b0zpld9RL"
      }
    },
    {
      "cell_type": "code",
      "source": [
        "#Q5. How can we create a pool of worker processes in Python using the multiprocessing module?\n",
        "import multiprocessing\n",
        "\n",
        "def print_number(num):\n",
        "    return f\"Process {num}: Hello from process {multiprocessing.current_process().name}\"\n",
        "\n",
        "if __name__ == '__main__':\n",
        "    with multiprocessing.Pool(processes=4) as pool:\n",
        "        results = pool.map(print_number, range(4))\n",
        "        for result in results:\n",
        "            print(result)\n"
      ],
      "metadata": {
        "colab": {
          "base_uri": "https://localhost:8080/"
        },
        "id": "UUYlr-Z9d6Ba",
        "outputId": "1a05fc22-a6f4-4c92-b2ed-ddbfd90b1b25"
      },
      "execution_count": 2,
      "outputs": [
        {
          "output_type": "stream",
          "name": "stdout",
          "text": [
            "Process 0: Hello from process ForkPoolWorker-5\n",
            "Process 1: Hello from process ForkPoolWorker-5\n",
            "Process 2: Hello from process ForkPoolWorker-5\n",
            "Process 3: Hello from process ForkPoolWorker-5\n"
          ]
        }
      ]
    },
    {
      "cell_type": "code",
      "source": [
        "#Q6. Write a Python program to create 4 processes, each process should print a different number using the multiprocessing module in Python.\n",
        "import multiprocessing\n",
        "\n",
        "def print_number(num):\n",
        "    print(f\"Process {num}: Hello from process {multiprocessing.current_process().name}\")\n",
        "\n",
        "if __name__ == '__main__':\n",
        "    processes = []\n",
        "    for i in range(1, 5):\n",
        "        process = multiprocessing.Process(target=print_number, args=(i,))\n",
        "        processes.append(process)\n",
        "        process.start()\n",
        "\n",
        "    for process in processes:\n",
        "        process.join()\n"
      ],
      "metadata": {
        "colab": {
          "base_uri": "https://localhost:8080/"
        },
        "id": "K_3LLMnIeM_4",
        "outputId": "fb158ec7-b140-4f92-b80c-6f9738ec3787"
      },
      "execution_count": 3,
      "outputs": [
        {
          "output_type": "stream",
          "name": "stdout",
          "text": [
            "Process 1: Hello from process Process-9\n",
            "Process 2: Hello from process Process-10Process 3: Hello from process Process-11\n",
            "Process 4: Hello from process Process-12\n",
            "\n"
          ]
        }
      ]
    }
  ]
}