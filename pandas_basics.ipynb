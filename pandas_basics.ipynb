{
  "nbformat": 4,
  "nbformat_minor": 0,
  "metadata": {
    "colab": {
      "provenance": []
    },
    "kernelspec": {
      "name": "python3",
      "display_name": "Python 3"
    },
    "language_info": {
      "name": "python"
    }
  },
  "cells": [
    {
      "cell_type": "markdown",
      "source": [
        "Q1. Create a Pandas Series that contains the following data: 4, 8, 15, 16, 23, and 42. Then, print the series."
      ],
      "metadata": {
        "id": "kPH33Ygl8zjL"
      }
    },
    {
      "cell_type": "code",
      "execution_count": 1,
      "metadata": {
        "colab": {
          "base_uri": "https://localhost:8080/"
        },
        "id": "aLGxUKPS8tn6",
        "outputId": "24ff92fb-3f37-431f-cd4f-f54adbab4a13"
      },
      "outputs": [
        {
          "output_type": "stream",
          "name": "stdout",
          "text": [
            "0     4\n",
            "1     8\n",
            "2    15\n",
            "3    16\n",
            "4    23\n",
            "5    42\n",
            "dtype: int64\n"
          ]
        }
      ],
      "source": [
        "import pandas as pd\n",
        "series = pd.Series([4, 8, 15, 16, 23, 42])\n",
        "\n",
        "print(series)"
      ]
    },
    {
      "cell_type": "markdown",
      "source": [
        "Q2. Create a variable of list type containing 10 elements in it, and apply pandas.Series function on the\n",
        "variable print it."
      ],
      "metadata": {
        "id": "-gY30V9E9PJH"
      }
    },
    {
      "cell_type": "code",
      "source": [
        "l = [1,2,3,4,5,6,7,8,9,10]\n",
        "s = pd.Series(l)\n",
        "print(s)"
      ],
      "metadata": {
        "colab": {
          "base_uri": "https://localhost:8080/"
        },
        "id": "YuntIisf9Lur",
        "outputId": "5f9e9cd3-2d72-443b-ec3d-0676d399a7b8"
      },
      "execution_count": 2,
      "outputs": [
        {
          "output_type": "stream",
          "name": "stdout",
          "text": [
            "0     1\n",
            "1     2\n",
            "2     3\n",
            "3     4\n",
            "4     5\n",
            "5     6\n",
            "6     7\n",
            "7     8\n",
            "8     9\n",
            "9    10\n",
            "dtype: int64\n"
          ]
        }
      ]
    },
    {
      "cell_type": "markdown",
      "source": [
        "Q3. Create a Pandas DataFrame that contains the following data:"
      ],
      "metadata": {
        "id": "hFpbq_Ir99V1"
      }
    },
    {
      "cell_type": "code",
      "source": [
        "\n",
        "data = {\n",
        "    \"Name\": [\"Alice\", \"Bob\", \"Claire\"],\n",
        "    \"Age\": [25, 30, 27],\n",
        "    \"Gender\": [\"Female\", \"Male\", \"Female\"]\n",
        "}\n",
        "\n",
        "df = pd.DataFrame(data)\n",
        "\n",
        "print(df)\n"
      ],
      "metadata": {
        "colab": {
          "base_uri": "https://localhost:8080/"
        },
        "id": "5zXLgZEb9f7T",
        "outputId": "8a92f14c-8add-4ead-8d70-977cded02cf1"
      },
      "execution_count": 3,
      "outputs": [
        {
          "output_type": "stream",
          "name": "stdout",
          "text": [
            "     Name  Age  Gender\n",
            "0   Alice   25  Female\n",
            "1     Bob   30    Male\n",
            "2  Claire   27  Female\n"
          ]
        }
      ]
    },
    {
      "cell_type": "markdown",
      "source": [
        "Q4. What is ‘DataFrame’ in pandas and how is it different from pandas.series? Explain with an example.\n",
        "\n",
        "Ans.\n",
        "\n",
        "**Series:** Represents a single column of data, one-dimensional, homogeneous data type.\n",
        "\n",
        "**DataFrame:** Represents a table of data, two-dimensional, heterogeneous data types across columns."
      ],
      "metadata": {
        "id": "n7jnlzIW9_oa"
      }
    },
    {
      "cell_type": "code",
      "source": [
        "data_series = pd.Series([4, 8, 15, 16, 23, 42])\n",
        "print(\"Pandas Series:\")\n",
        "print(data_series)\n",
        "data = {\n",
        "    \"Name\": [\"Alice\", \"Bob\", \"Claire\"],\n",
        "    \"Age\": [25, 30, 27],\n",
        "    \"Gender\": [\"Female\", \"Male\", \"Female\"]\n",
        "}\n",
        "\n",
        "data_frame = pd.DataFrame(data)\n",
        "print(\"\\nPandas DataFrame:\")\n",
        "print(data_frame)\n"
      ],
      "metadata": {
        "colab": {
          "base_uri": "https://localhost:8080/"
        },
        "id": "FxBLlu1w93QL",
        "outputId": "6c77d389-9136-41bf-ea3d-62358c737cde"
      },
      "execution_count": 4,
      "outputs": [
        {
          "output_type": "stream",
          "name": "stdout",
          "text": [
            "Pandas Series:\n",
            "0     4\n",
            "1     8\n",
            "2    15\n",
            "3    16\n",
            "4    23\n",
            "5    42\n",
            "dtype: int64\n",
            "\n",
            "Pandas DataFrame:\n",
            "     Name  Age  Gender\n",
            "0   Alice   25  Female\n",
            "1     Bob   30    Male\n",
            "2  Claire   27  Female\n"
          ]
        }
      ]
    },
    {
      "cell_type": "markdown",
      "source": [
        "Q5. What are some common functions you can use to manipulate data in a Pandas DataFrame? Can you give an example of when you might use one of these functions?\n",
        "\n",
        "ans.\n",
        "groupby()\n",
        "mean()"
      ],
      "metadata": {
        "id": "Dn0ayo8w_DID"
      }
    },
    {
      "cell_type": "code",
      "source": [
        "data = {\n",
        "    \"Employee\": [\"Alice\", \"Bob\", \"Claire\", \"David\", \"Eve\"],\n",
        "    \"Department\": [\"HR\", \"Engineering\", \"HR\", \"Engineering\", \"Marketing\"],\n",
        "    \"Salary\": [50000, 80000, 60000, 85000, 55000]\n",
        "}\n",
        "\n",
        "df = pd.DataFrame(data)\n",
        "print(\"Original DataFrame:\")\n",
        "print(df)\n",
        "average_salary = df.groupby('Department')['Salary'].mean()\n",
        "\n",
        "print(\"\\nAverage Salary by Department:\")\n",
        "print(average_salary)\n"
      ],
      "metadata": {
        "colab": {
          "base_uri": "https://localhost:8080/"
        },
        "id": "L2pJ5_JG-jnT",
        "outputId": "06bd834e-12b8-4f18-ebce-81e5c73058bb"
      },
      "execution_count": 5,
      "outputs": [
        {
          "output_type": "stream",
          "name": "stdout",
          "text": [
            "Original DataFrame:\n",
            "  Employee   Department  Salary\n",
            "0    Alice           HR   50000\n",
            "1      Bob  Engineering   80000\n",
            "2   Claire           HR   60000\n",
            "3    David  Engineering   85000\n",
            "4      Eve    Marketing   55000\n",
            "\n",
            "Average Salary by Department:\n",
            "Department\n",
            "Engineering    82500.0\n",
            "HR             55000.0\n",
            "Marketing      55000.0\n",
            "Name: Salary, dtype: float64\n"
          ]
        }
      ]
    },
    {
      "cell_type": "markdown",
      "source": [
        "Q6. Which of the following is mutable in nature Series, DataFrame, Panel?\n",
        "\n",
        "Ans. panel"
      ],
      "metadata": {
        "id": "qBYL8C4e_PIm"
      }
    },
    {
      "cell_type": "markdown",
      "source": [
        "Q7. Create a DataFrame using multiple Series. Explain with an example."
      ],
      "metadata": {
        "id": "DCiK4JBV_1bD"
      }
    },
    {
      "cell_type": "code",
      "source": [
        "names = pd.Series([\"Alice\", \"Bob\", \"Claire\"])\n",
        "ages = pd.Series([25, 30, 27])\n",
        "genders = pd.Series([\"Female\", \"Male\", \"Female\"])\n",
        "df = pd.DataFrame({\n",
        "    \"Name\": names,\n",
        "    \"Age\": ages,\n",
        "    \"Gender\": genders\n",
        "})\n",
        "\n",
        "print(df)\n"
      ],
      "metadata": {
        "colab": {
          "base_uri": "https://localhost:8080/"
        },
        "id": "n9upfrI9--Ce",
        "outputId": "f5f7602d-0df9-4af0-b63f-15ca88e4af9d"
      },
      "execution_count": 6,
      "outputs": [
        {
          "output_type": "stream",
          "name": "stdout",
          "text": [
            "     Name  Age  Gender\n",
            "0   Alice   25  Female\n",
            "1     Bob   30    Male\n",
            "2  Claire   27  Female\n"
          ]
        }
      ]
    },
    {
      "cell_type": "code",
      "source": [],
      "metadata": {
        "id": "pTqYqPk4AFDd"
      },
      "execution_count": null,
      "outputs": []
    }
  ]
}