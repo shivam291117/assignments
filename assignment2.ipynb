{
  "nbformat": 4,
  "nbformat_minor": 0,
  "metadata": {
    "colab": {
      "provenance": []
    },
    "kernelspec": {
      "name": "python3",
      "display_name": "Python 3"
    },
    "language_info": {
      "name": "python"
    }
  },
  "cells": [
    {
      "cell_type": "markdown",
      "source": [
        "Q1. How do you comment code in Python? What are the different types of comments?"
      ],
      "metadata": {
        "id": "C7NHcG10GcnY"
      }
    },
    {
      "cell_type": "code",
      "execution_count": null,
      "metadata": {
        "id": "1TLnaIZjGOh4"
      },
      "outputs": [],
      "source": [
        "#single line comment\n",
        "\"\"\"multi line comment\"\"\""
      ]
    },
    {
      "cell_type": "markdown",
      "source": [
        "Q2. What are variables in Python? How do you declare and assign values to variables?"
      ],
      "metadata": {
        "id": "MP45XQ0CGk15"
      }
    },
    {
      "cell_type": "code",
      "source": [
        "a = 10"
      ],
      "metadata": {
        "id": "6bXT48sjGojI"
      },
      "execution_count": 1,
      "outputs": []
    },
    {
      "cell_type": "markdown",
      "source": [
        "Q3. How do you convert one data type to another in Python?"
      ],
      "metadata": {
        "id": "-46luSG0GtKW"
      }
    },
    {
      "cell_type": "code",
      "source": [
        "a = '10'\n",
        "b = int(a)\n",
        "print(b)"
      ],
      "metadata": {
        "colab": {
          "base_uri": "https://localhost:8080/"
        },
        "id": "kibIxLlsGpo2",
        "outputId": "154a37de-d188-4f2c-861b-3d799841842f"
      },
      "execution_count": 2,
      "outputs": [
        {
          "output_type": "stream",
          "name": "stdout",
          "text": [
            "10\n"
          ]
        }
      ]
    },
    {
      "cell_type": "markdown",
      "source": [
        "Q4. How do you write and execute a Python script from the command line?"
      ],
      "metadata": {
        "id": "3tOp_mSBG3ud"
      }
    },
    {
      "cell_type": "code",
      "source": [
        "# hello.py\n",
        "print(\"Hello, World!\")\n"
      ],
      "metadata": {
        "colab": {
          "base_uri": "https://localhost:8080/"
        },
        "id": "xvngXRPqG1A5",
        "outputId": "9f89e1f3-9ded-4f85-8541-0c9a62d5569d"
      },
      "execution_count": 3,
      "outputs": [
        {
          "output_type": "stream",
          "name": "stdout",
          "text": [
            "Hello, World!\n"
          ]
        }
      ]
    },
    {
      "cell_type": "markdown",
      "source": [
        "Q5. Given a list my_list = [1, 2, 3, 4, 5], write the code to slice the list and obtain the sub-list [2, 3]."
      ],
      "metadata": {
        "id": "iwUs1_cNHIPL"
      }
    },
    {
      "cell_type": "code",
      "source": [
        "my_list = [1, 2, 3, 4, 5]\n",
        "my_list[1:3]"
      ],
      "metadata": {
        "colab": {
          "base_uri": "https://localhost:8080/"
        },
        "id": "PQTFc3UIHHP8",
        "outputId": "ee22758f-82e4-407c-c9dc-e268b0f39e86"
      },
      "execution_count": 4,
      "outputs": [
        {
          "output_type": "execute_result",
          "data": {
            "text/plain": [
              "[2, 3]"
            ]
          },
          "metadata": {},
          "execution_count": 4
        }
      ]
    },
    {
      "cell_type": "markdown",
      "source": [
        "Q6. What is a complex number in mathematics, and how is it represented in Python?"
      ],
      "metadata": {
        "id": "vV0t-25JHT38"
      }
    },
    {
      "cell_type": "code",
      "source": [
        "a = 1+2j"
      ],
      "metadata": {
        "id": "LC2_dtt8HQSo"
      },
      "execution_count": 5,
      "outputs": []
    },
    {
      "cell_type": "markdown",
      "source": [
        "Q7. What is the correct way to declare a variable named age and assign the value 25 to it?"
      ],
      "metadata": {
        "id": "8sjGduQ-HZK2"
      }
    },
    {
      "cell_type": "code",
      "source": [
        "a = 25"
      ],
      "metadata": {
        "id": "jCPMxxPtHWLn"
      },
      "execution_count": null,
      "outputs": []
    },
    {
      "cell_type": "markdown",
      "source": [
        "Q8. Declare a variable named price and assign the value 9.99 to it. What data type does this variable belong to?"
      ],
      "metadata": {
        "id": "JSPBMcVoHffo"
      }
    },
    {
      "cell_type": "code",
      "source": [
        "price = 9.99\n",
        "type(price)"
      ],
      "metadata": {
        "colab": {
          "base_uri": "https://localhost:8080/"
        },
        "id": "M-CFdoXZHkVw",
        "outputId": "c49ba14e-3673-49ee-f873-a9e7ce751217"
      },
      "execution_count": 6,
      "outputs": [
        {
          "output_type": "execute_result",
          "data": {
            "text/plain": [
              "float"
            ]
          },
          "metadata": {},
          "execution_count": 6
        }
      ]
    },
    {
      "cell_type": "markdown",
      "source": [
        "Q9. Create a variable named name and assign your full name to it as a string. How would you print the value of this variable?"
      ],
      "metadata": {
        "id": "98O-J5g2mw9J"
      }
    },
    {
      "cell_type": "code",
      "source": [
        "name = 'Shivam Maharara'\n",
        "print(name)"
      ],
      "metadata": {
        "colab": {
          "base_uri": "https://localhost:8080/"
        },
        "id": "8NwwOY7kHpzZ",
        "outputId": "c3b4ab99-7b16-4586-d338-788c4d09eb52"
      },
      "execution_count": 7,
      "outputs": [
        {
          "output_type": "stream",
          "name": "stdout",
          "text": [
            "Shivam Maharara\n"
          ]
        }
      ]
    },
    {
      "cell_type": "markdown",
      "source": [
        "Q10. Given the string \"Hello, World!\", extract the substring \"World\"."
      ],
      "metadata": {
        "id": "7elEcqwqm7P2"
      }
    },
    {
      "cell_type": "code",
      "source": [
        "a ='hello, World!'\n",
        "a[7:12]"
      ],
      "metadata": {
        "colab": {
          "base_uri": "https://localhost:8080/",
          "height": 36
        },
        "id": "c_HaKK3-m4JJ",
        "outputId": "33579a86-7c0d-436a-b27e-178a7886c34f"
      },
      "execution_count": 8,
      "outputs": [
        {
          "output_type": "execute_result",
          "data": {
            "text/plain": [
              "'World'"
            ],
            "application/vnd.google.colaboratory.intrinsic+json": {
              "type": "string"
            }
          },
          "metadata": {},
          "execution_count": 8
        }
      ]
    },
    {
      "cell_type": "markdown",
      "source": [
        "Q11. Create a variable named \"is_student\" and assign it a boolean value indicating whether you are currently a student or not."
      ],
      "metadata": {
        "id": "UeGJda1bnE4h"
      }
    },
    {
      "cell_type": "code",
      "source": [
        "is_student = True"
      ],
      "metadata": {
        "id": "j27bHkNynByl"
      },
      "execution_count": 9,
      "outputs": []
    },
    {
      "cell_type": "code",
      "source": [],
      "metadata": {
        "id": "pGOdFPyXnMdR"
      },
      "execution_count": null,
      "outputs": []
    }
  ]
}