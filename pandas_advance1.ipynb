{
  "nbformat": 4,
  "nbformat_minor": 0,
  "metadata": {
    "colab": {
      "provenance": []
    },
    "kernelspec": {
      "name": "python3",
      "display_name": "Python 3"
    },
    "language_info": {
      "name": "python"
    }
  },
  "cells": [
    {
      "cell_type": "markdown",
      "source": [
        "Q1. List any five functions of the pandas library with execution."
      ],
      "metadata": {
        "id": "5BOiaEjBSDT7"
      }
    },
    {
      "cell_type": "code",
      "execution_count": 3,
      "metadata": {
        "colab": {
          "base_uri": "https://localhost:8080/"
        },
        "id": "gdDAaSnvR_pJ",
        "outputId": "0238c11b-b5a0-40e1-eb0a-36dc35646675"
      },
      "outputs": [
        {
          "output_type": "stream",
          "name": "stdout",
          "text": [
            "   7  0  0.1  0.2  0.3  0.4  0.5  0.6  0.7  0.8  ...  0.658  0.659  0.660  \\\n",
            "0  2  0    0    0    0    0    0    0    0    0  ...      0      0      0   \n",
            "1  1  0    0    0    0    0    0    0    0    0  ...      0      0      0   \n",
            "2  0  0    0    0    0    0    0    0    0    0  ...      0      0      0   \n",
            "3  4  0    0    0    0    0    0    0    0    0  ...      0      0      0   \n",
            "4  1  0    0    0    0    0    0    0    0    0  ...      0      0      0   \n",
            "\n",
            "   0.661  0.662  0.663  0.664  0.665  0.666  0.667  \n",
            "0      0      0      0      0      0      0      0  \n",
            "1      0      0      0      0      0      0      0  \n",
            "2      0      0      0      0      0      0      0  \n",
            "3      0      0      0      0      0      0      0  \n",
            "4      0      0      0      0      0      0      0  \n",
            "\n",
            "[5 rows x 785 columns]\n"
          ]
        }
      ],
      "source": [
        "import pandas as pd\n",
        "\n",
        "# Reading a CSV file\n",
        "df = pd.read_csv('mnist_test.csv')\n",
        "print(df.head())  # Display the first 5 rows of the DataFrame\n"
      ]
    },
    {
      "cell_type": "code",
      "source": [
        "# Display the first 5 rows (default)\n",
        "print(df.head())\n",
        "\n",
        "# Display the first 10 rows\n",
        "print(df.head(10))\n"
      ],
      "metadata": {
        "colab": {
          "base_uri": "https://localhost:8080/"
        },
        "id": "H3Ns9knrScaF",
        "outputId": "35a5ab17-2a7f-4c2c-8f46-f408466cf57a"
      },
      "execution_count": 4,
      "outputs": [
        {
          "output_type": "stream",
          "name": "stdout",
          "text": [
            "   7  0  0.1  0.2  0.3  0.4  0.5  0.6  0.7  0.8  ...  0.658  0.659  0.660  \\\n",
            "0  2  0    0    0    0    0    0    0    0    0  ...      0      0      0   \n",
            "1  1  0    0    0    0    0    0    0    0    0  ...      0      0      0   \n",
            "2  0  0    0    0    0    0    0    0    0    0  ...      0      0      0   \n",
            "3  4  0    0    0    0    0    0    0    0    0  ...      0      0      0   \n",
            "4  1  0    0    0    0    0    0    0    0    0  ...      0      0      0   \n",
            "\n",
            "   0.661  0.662  0.663  0.664  0.665  0.666  0.667  \n",
            "0      0      0      0      0      0      0      0  \n",
            "1      0      0      0      0      0      0      0  \n",
            "2      0      0      0      0      0      0      0  \n",
            "3      0      0      0      0      0      0      0  \n",
            "4      0      0      0      0      0      0      0  \n",
            "\n",
            "[5 rows x 785 columns]\n",
            "   7  0  0.1  0.2  0.3  0.4  0.5  0.6  0.7  0.8  ...  0.658  0.659  0.660  \\\n",
            "0  2  0    0    0    0    0    0    0    0    0  ...      0      0      0   \n",
            "1  1  0    0    0    0    0    0    0    0    0  ...      0      0      0   \n",
            "2  0  0    0    0    0    0    0    0    0    0  ...      0      0      0   \n",
            "3  4  0    0    0    0    0    0    0    0    0  ...      0      0      0   \n",
            "4  1  0    0    0    0    0    0    0    0    0  ...      0      0      0   \n",
            "5  4  0    0    0    0    0    0    0    0    0  ...      0      0      0   \n",
            "6  9  0    0    0    0    0    0    0    0    0  ...      0      0      0   \n",
            "7  5  0    0    0    0    0    0    0    0    0  ...      0      0      0   \n",
            "8  9  0    0    0    0    0    0    0    0    0  ...      0      0      0   \n",
            "9  0  0    0    0    0    0    0    0    0    0  ...      0      0      0   \n",
            "\n",
            "   0.661  0.662  0.663  0.664  0.665  0.666  0.667  \n",
            "0      0      0      0      0      0      0      0  \n",
            "1      0      0      0      0      0      0      0  \n",
            "2      0      0      0      0      0      0      0  \n",
            "3      0      0      0      0      0      0      0  \n",
            "4      0      0      0      0      0      0      0  \n",
            "5      0      0      0      0      0      0      0  \n",
            "6      0      0      0      0      0      0      0  \n",
            "7      0      0      0      0      0      0      0  \n",
            "8      0      0      0      0      0      0      0  \n",
            "9      0      0      0      0      0      0      0  \n",
            "\n",
            "[10 rows x 785 columns]\n"
          ]
        }
      ]
    },
    {
      "cell_type": "code",
      "source": [
        "# Generate descriptive statistics\n",
        "print(df.describe())\n"
      ],
      "metadata": {
        "colab": {
          "base_uri": "https://localhost:8080/"
        },
        "id": "AVJ8pFaESzJC",
        "outputId": "2d8f68a9-8c57-4851-e15c-e8effef6d0e8"
      },
      "execution_count": 5,
      "outputs": [
        {
          "output_type": "stream",
          "name": "stdout",
          "text": [
            "                 7       0     0.1     0.2     0.3     0.4     0.5     0.6  \\\n",
            "count  9999.000000  9999.0  9999.0  9999.0  9999.0  9999.0  9999.0  9999.0   \n",
            "mean      4.443144     0.0     0.0     0.0     0.0     0.0     0.0     0.0   \n",
            "std       2.895897     0.0     0.0     0.0     0.0     0.0     0.0     0.0   \n",
            "min       0.000000     0.0     0.0     0.0     0.0     0.0     0.0     0.0   \n",
            "25%       2.000000     0.0     0.0     0.0     0.0     0.0     0.0     0.0   \n",
            "50%       4.000000     0.0     0.0     0.0     0.0     0.0     0.0     0.0   \n",
            "75%       7.000000     0.0     0.0     0.0     0.0     0.0     0.0     0.0   \n",
            "max       9.000000     0.0     0.0     0.0     0.0     0.0     0.0     0.0   \n",
            "\n",
            "          0.7     0.8  ...        0.658        0.659        0.660  \\\n",
            "count  9999.0  9999.0  ...  9999.000000  9999.000000  9999.000000   \n",
            "mean      0.0     0.0  ...     0.179318     0.163616     0.052605   \n",
            "std       0.0     0.0  ...     5.674433     5.736359     2.420125   \n",
            "min       0.0     0.0  ...     0.000000     0.000000     0.000000   \n",
            "25%       0.0     0.0  ...     0.000000     0.000000     0.000000   \n",
            "50%       0.0     0.0  ...     0.000000     0.000000     0.000000   \n",
            "75%       0.0     0.0  ...     0.000000     0.000000     0.000000   \n",
            "max       0.0     0.0  ...   253.000000   253.000000   156.000000   \n",
            "\n",
            "             0.661   0.662   0.663   0.664   0.665   0.666   0.667  \n",
            "count  9999.000000  9999.0  9999.0  9999.0  9999.0  9999.0  9999.0  \n",
            "mean      0.000600     0.0     0.0     0.0     0.0     0.0     0.0  \n",
            "std       0.060003     0.0     0.0     0.0     0.0     0.0     0.0  \n",
            "min       0.000000     0.0     0.0     0.0     0.0     0.0     0.0  \n",
            "25%       0.000000     0.0     0.0     0.0     0.0     0.0     0.0  \n",
            "50%       0.000000     0.0     0.0     0.0     0.0     0.0     0.0  \n",
            "75%       0.000000     0.0     0.0     0.0     0.0     0.0     0.0  \n",
            "max       6.000000     0.0     0.0     0.0     0.0     0.0     0.0  \n",
            "\n",
            "[8 rows x 785 columns]\n"
          ]
        }
      ]
    },
    {
      "cell_type": "code",
      "source": [
        "df.info()"
      ],
      "metadata": {
        "colab": {
          "base_uri": "https://localhost:8080/"
        },
        "id": "PVXNsgltS2oj",
        "outputId": "a9efcdd3-d945-4542-8748-f15f575cefd8"
      },
      "execution_count": 6,
      "outputs": [
        {
          "output_type": "stream",
          "name": "stdout",
          "text": [
            "<class 'pandas.core.frame.DataFrame'>\n",
            "RangeIndex: 9999 entries, 0 to 9998\n",
            "Columns: 785 entries, 7 to 0.667\n",
            "dtypes: int64(785)\n",
            "memory usage: 59.9 MB\n"
          ]
        }
      ]
    },
    {
      "cell_type": "code",
      "source": [
        "df.shape"
      ],
      "metadata": {
        "colab": {
          "base_uri": "https://localhost:8080/"
        },
        "id": "zdDOpWQNS48i",
        "outputId": "a7007455-e069-4528-b9e3-73b4b1a291c0"
      },
      "execution_count": 7,
      "outputs": [
        {
          "output_type": "execute_result",
          "data": {
            "text/plain": [
              "(9999, 785)"
            ]
          },
          "metadata": {},
          "execution_count": 7
        }
      ]
    },
    {
      "cell_type": "markdown",
      "source": [
        "Q2. Given a Pandas DataFrame df with columns 'A', 'B', and 'C', write a Python function to re-index the DataFrame with a new index that starts from 1 and increments by 2 for each row."
      ],
      "metadata": {
        "id": "MqhIbVBdS8m4"
      }
    },
    {
      "cell_type": "code",
      "source": [
        "data = {\n",
        "    'A': [10, 20, 30],\n",
        "    'B': [40, 50, 60],\n",
        "    'C': [70, 80, 90]\n",
        "}\n",
        "df = pd.DataFrame(data)\n",
        "\n",
        "def reindex_dataframe(df):\n",
        "    new_index = range(1, 2 * len(df) + 1, 2)\n",
        "    df.index = new_index\n",
        "    return df\n",
        "\n",
        "reindexed_df = reindex_dataframe(df)\n",
        "print(reindexed_df)\n"
      ],
      "metadata": {
        "colab": {
          "base_uri": "https://localhost:8080/"
        },
        "id": "EaI9ptSSS6Ji",
        "outputId": "e7f13085-6556-45f3-bfaa-aa9d1a37d99a"
      },
      "execution_count": 8,
      "outputs": [
        {
          "output_type": "stream",
          "name": "stdout",
          "text": [
            "    A   B   C\n",
            "1  10  40  70\n",
            "3  20  50  80\n",
            "5  30  60  90\n"
          ]
        }
      ]
    },
    {
      "cell_type": "markdown",
      "source": [
        "Q3. You have a Pandas DataFrame df with a column named 'Values'. Write a Python function that\n",
        "iterates over the DataFrame and calculates the sum of the first three values in the 'Values' column. The\n",
        "function should print the sum to the console."
      ],
      "metadata": {
        "id": "I-CYY3SkTN28"
      }
    },
    {
      "cell_type": "code",
      "source": [
        "data = {\n",
        "    'Values': [10, 20, 30, 40, 50]\n",
        "}\n",
        "df = pd.DataFrame(data)\n",
        "\n",
        "def calculate_sum_of_first_three(df):\n",
        "    total_sum = 0\n",
        "\n",
        "    for value in df['Values'].iloc[:3]:\n",
        "        total_sum += value\n",
        "\n",
        "    print(\"Sum of the first three values:\", total_sum)\n",
        "\n",
        "calculate_sum_of_first_three(df)\n"
      ],
      "metadata": {
        "colab": {
          "base_uri": "https://localhost:8080/"
        },
        "id": "_49nn2XSTL4m",
        "outputId": "4f33b7cd-b2e7-4454-f136-5760aa3560df"
      },
      "execution_count": 9,
      "outputs": [
        {
          "output_type": "stream",
          "name": "stdout",
          "text": [
            "Sum of the first three values: 60\n"
          ]
        }
      ]
    },
    {
      "cell_type": "markdown",
      "source": [
        "Q4. Given a Pandas DataFrame df with a column 'Text', write a Python function to create a new column\n",
        "'Word_Count' that contains the number of words in each row of the 'Text' column."
      ],
      "metadata": {
        "id": "e2iSR7CBTcBJ"
      }
    },
    {
      "cell_type": "code",
      "source": [
        "data = {\n",
        "    'Text': [\n",
        "        'Python is a great programming language',\n",
        "        'Data analysis with Pandas is powerful',\n",
        "        'Machine learning models are complex'\n",
        "    ]\n",
        "}\n",
        "df = pd.DataFrame(data)\n",
        "\n",
        "def add_word_count_column(df, column_name='Text', new_column_name='Word_Count'):\n",
        "    def count_words(text):\n",
        "        return len(text.split())\n",
        "\n",
        "    df[new_column_name] = df[column_name].apply(count_words)\n",
        "\n",
        "    return df\n",
        "\n",
        "df = add_word_count_column(df, column_name='Text', new_column_name='Word_Count')\n",
        "\n",
        "print(df)\n"
      ],
      "metadata": {
        "colab": {
          "base_uri": "https://localhost:8080/"
        },
        "id": "Wdezkx1yTIWr",
        "outputId": "1f36bdf2-1abc-4258-bdac-792317309c8c"
      },
      "execution_count": 10,
      "outputs": [
        {
          "output_type": "stream",
          "name": "stdout",
          "text": [
            "                                     Text  Word_Count\n",
            "0  Python is a great programming language           6\n",
            "1   Data analysis with Pandas is powerful           6\n",
            "2     Machine learning models are complex           5\n"
          ]
        }
      ]
    },
    {
      "cell_type": "markdown",
      "source": [
        "Q5. How are DataFrame.size() and DataFrame.shape() different?"
      ],
      "metadata": {
        "id": "alAQycdvTnDX"
      }
    },
    {
      "cell_type": "code",
      "source": [
        "'''\n",
        "DataFrame.size gives the total number of elements in the DataFrame,\n",
        "whereas DataFrame.shape provides the number of rows and columns as a tuple.\n",
        "They serve different purposes: size for total elements count and shape for dimensions information.\n",
        "'''"
      ],
      "metadata": {
        "id": "wZdY5JlGTi2M"
      },
      "execution_count": null,
      "outputs": []
    },
    {
      "cell_type": "markdown",
      "source": [
        "Q6. Which function of pandas do we use to read an excel file?\n",
        "\n",
        "Ans.\n",
        "\n",
        "read_csv()"
      ],
      "metadata": {
        "id": "ffADJVFsTyB7"
      }
    },
    {
      "cell_type": "markdown",
      "source": [
        "Q7. You have a Pandas DataFrame df that contains a column named 'Email' that contains email\n",
        "addresses in the format 'username@domain.com'. Write a Python function that creates a new column\n",
        "'Username' in df that contains only the username part of each email address."
      ],
      "metadata": {
        "id": "qOvjjQX9T5K6"
      }
    },
    {
      "cell_type": "code",
      "source": [
        "data = {\n",
        "    'Email': [\n",
        "        'alice@example.com',\n",
        "        'bob@gmail.com',\n",
        "        'charlie@outlook.com'\n",
        "    ]\n",
        "}\n",
        "df = pd.DataFrame(data)\n",
        "\n",
        "def extract_username(email):\n",
        "    # Splitting the email address at '@' and taking the first part (username)\n",
        "    return email.split('@')[0]\n",
        "\n",
        "# Applying the function to create the 'Username' column\n",
        "df['Username'] = df['Email'].apply(extract_username)\n",
        "\n",
        "# Print the updated DataFrame\n",
        "print(df)\n"
      ],
      "metadata": {
        "colab": {
          "base_uri": "https://localhost:8080/"
        },
        "id": "y3-r7dvbT_ls",
        "outputId": "e444e76e-5f6f-48a1-e9bf-77ee498c4f9b"
      },
      "execution_count": 11,
      "outputs": [
        {
          "output_type": "stream",
          "name": "stdout",
          "text": [
            "                 Email Username\n",
            "0    alice@example.com    alice\n",
            "1        bob@gmail.com      bob\n",
            "2  charlie@outlook.com  charlie\n"
          ]
        }
      ]
    },
    {
      "cell_type": "markdown",
      "source": [
        "Q8. You have a Pandas DataFrame df with columns 'A', 'B', and 'C'. Write a Python function that selects\n",
        "all rows where the value in column 'A' is greater than 5 and the value in column 'B' is less than 10. The\n",
        "function should return a new DataFrame that contains only the selected rows."
      ],
      "metadata": {
        "id": "ZAqdyRXXUKFi"
      }
    },
    {
      "cell_type": "code",
      "source": [
        "data = {\n",
        "    'A': [3, 6, 8, 4, 7],\n",
        "    'B': [9, 2, 5, 7, 1],\n",
        "    'C': [10, 20, 30, 40, 50]\n",
        "}\n",
        "df = pd.DataFrame(data)\n",
        "\n",
        "def select_rows(df):\n",
        "    # Boolean indexing to select rows based on conditions\n",
        "    selected_rows = df[(df['A'] > 5) & (df['B'] < 10)]\n",
        "    return selected_rows\n",
        "\n",
        "# Call the function to select rows\n",
        "selected_df = select_rows(df)\n",
        "\n",
        "# Print the selected DataFrame\n",
        "print(selected_df)\n"
      ],
      "metadata": {
        "colab": {
          "base_uri": "https://localhost:8080/"
        },
        "id": "SdEiBaX2UE7Y",
        "outputId": "25f8d10a-062a-48bf-f13c-a724755a9376"
      },
      "execution_count": 12,
      "outputs": [
        {
          "output_type": "stream",
          "name": "stdout",
          "text": [
            "   A  B   C\n",
            "1  6  2  20\n",
            "2  8  5  30\n",
            "4  7  1  50\n"
          ]
        }
      ]
    },
    {
      "cell_type": "markdown",
      "source": [
        "Q9. Given a Pandas DataFrame df with a column 'Values', write a Python function to calculate the mean,\n",
        "median, and standard deviation of the values in the 'Values' column."
      ],
      "metadata": {
        "id": "aZuwF1kUV1jx"
      }
    },
    {
      "cell_type": "code",
      "source": [
        "import pandas as pd\n",
        "\n",
        "# Sample DataFrame\n",
        "data = {\n",
        "    'Values': [10, 20, 30, 40, 50]\n",
        "}\n",
        "df = pd.DataFrame(data)\n",
        "\n",
        "def calculate_statistics(df, column_name='Values'):\n",
        "    # Calculate mean, median, and standard deviation\n",
        "    mean_value = df[column_name].mean()\n",
        "    median_value = df[column_name].median()\n",
        "    std_deviation = df[column_name].std()\n",
        "\n",
        "    return mean_value, median_value, std_deviation\n",
        "\n",
        "# Call the function to calculate statistics\n",
        "mean_val, median_val, std_dev = calculate_statistics(df)\n",
        "\n",
        "# Print the results\n",
        "print(\"Mean:\", mean_val)\n",
        "print(\"Median:\", median_val)\n",
        "print(\"Standard Deviation:\", std_dev)\n"
      ],
      "metadata": {
        "colab": {
          "base_uri": "https://localhost:8080/"
        },
        "id": "EaWWhFDSVxn5",
        "outputId": "145931c3-1780-4187-e67f-ffb6080841fa"
      },
      "execution_count": 13,
      "outputs": [
        {
          "output_type": "stream",
          "name": "stdout",
          "text": [
            "Mean: 30.0\n",
            "Median: 30.0\n",
            "Standard Deviation: 15.811388300841896\n"
          ]
        }
      ]
    },
    {
      "cell_type": "markdown",
      "source": [
        "Q10. Given a Pandas DataFrame df with a column 'Sales' and a column 'Date', write a Python function to\n",
        "create a new column 'MovingAverage' that contains the moving average of the sales for the past 7 days\n",
        "for each row in the DataFrame. The moving average should be calculated using a window of size 7 and\n",
        "should include the current day."
      ],
      "metadata": {
        "id": "rVuFvCG2V9qH"
      }
    },
    {
      "cell_type": "code",
      "source": [
        "data = {\n",
        "    'Date': pd.date_range('2023-01-01', periods=10),\n",
        "    'Sales': [100, 120, 130, 110, 150, 140, 160, 170, 180, 200]\n",
        "}\n",
        "df = pd.DataFrame(data)\n",
        "\n",
        "def calculate_moving_average(df, window_size=7, column_name='Sales', new_column_name='MovingAverage'):\n",
        "    # Calculate the moving average using rolling window\n",
        "    df[new_column_name] = df[column_name].rolling(window=window_size, min_periods=1).mean()\n",
        "    return df\n",
        "\n",
        "# Call the function to calculate moving average\n",
        "df = calculate_moving_average(df, window_size=7, column_name='Sales', new_column_name='MovingAverage')\n",
        "\n",
        "# Print the updated DataFrame\n",
        "print(df)\n"
      ],
      "metadata": {
        "colab": {
          "base_uri": "https://localhost:8080/"
        },
        "id": "VYc1tOf0V41D",
        "outputId": "79e4e6dc-7b34-43c8-8448-c4ed9af2b6b9"
      },
      "execution_count": 14,
      "outputs": [
        {
          "output_type": "stream",
          "name": "stdout",
          "text": [
            "        Date  Sales  MovingAverage\n",
            "0 2023-01-01    100     100.000000\n",
            "1 2023-01-02    120     110.000000\n",
            "2 2023-01-03    130     116.666667\n",
            "3 2023-01-04    110     115.000000\n",
            "4 2023-01-05    150     122.000000\n",
            "5 2023-01-06    140     125.000000\n",
            "6 2023-01-07    160     130.000000\n",
            "7 2023-01-08    170     140.000000\n",
            "8 2023-01-09    180     148.571429\n",
            "9 2023-01-10    200     158.571429\n"
          ]
        }
      ]
    },
    {
      "cell_type": "markdown",
      "source": [
        "Q11. You have a Pandas DataFrame df with a column 'Date'. Write a Python function that creates a new\n",
        "column 'Weekday' in the DataFrame. The 'Weekday' column should contain the weekday name (e.g.\n",
        "Monday, Tuesday) corresponding to each date in the 'Date' column."
      ],
      "metadata": {
        "id": "zKpL9gYIWG9b"
      }
    },
    {
      "cell_type": "code",
      "source": [
        "data = {\n",
        "    'Date': pd.date_range('2023-01-01', periods=5)\n",
        "}\n",
        "df = pd.DataFrame(data)\n",
        "\n",
        "def add_weekday_column(df, date_column='Date', new_column_name='Weekday'):\n",
        "    # Convert the 'Date' column to datetime if it's not already\n",
        "    df[date_column] = pd.to_datetime(df[date_column])\n",
        "\n",
        "    # Add a new column 'Weekday' with weekday names\n",
        "    df[new_column_name] = df[date_column].dt.day_name()\n",
        "\n",
        "    return df\n",
        "\n",
        "# Call the function to add 'Weekday' column\n",
        "df = add_weekday_column(df, date_column='Date', new_column_name='Weekday')\n",
        "\n",
        "# Print the updated DataFrame\n",
        "print(df)\n"
      ],
      "metadata": {
        "colab": {
          "base_uri": "https://localhost:8080/"
        },
        "id": "uR6VlnY9WB0w",
        "outputId": "a5a89547-7bcb-463e-e5c1-ee262b475448"
      },
      "execution_count": 15,
      "outputs": [
        {
          "output_type": "stream",
          "name": "stdout",
          "text": [
            "        Date    Weekday\n",
            "0 2023-01-01     Sunday\n",
            "1 2023-01-02     Monday\n",
            "2 2023-01-03    Tuesday\n",
            "3 2023-01-04  Wednesday\n",
            "4 2023-01-05   Thursday\n"
          ]
        }
      ]
    },
    {
      "cell_type": "markdown",
      "source": [
        "Q12. Given a Pandas DataFrame df with a column 'Date' that contains timestamps, write a Python function to select all rows where the date is between '2023-01-01' and '2023-01-31'."
      ],
      "metadata": {
        "id": "PR0EEMKnWO3O"
      }
    },
    {
      "cell_type": "code",
      "source": [
        "data = {\n",
        "    'Date': pd.date_range('2023-01-01', periods=50),\n",
        "    'Value': range(50)\n",
        "}\n",
        "df = pd.DataFrame(data)\n",
        "\n",
        "def select_rows_between_dates(df, start_date='2023-01-01', end_date='2023-01-31', date_column='Date'):\n",
        "    start_date = pd.to_datetime(start_date)\n",
        "    end_date = pd.to_datetime(end_date)\n",
        "\n",
        "    selected_rows = df[(df[date_column] >= start_date) & (df[date_column] <= end_date)]\n",
        "\n",
        "    return selected_rows\n",
        "\n",
        "selected_df = select_rows_between_dates(df, start_date='2023-01-01', end_date='2023-01-31', date_column='Date')\n",
        "\n",
        "print(selected_df)\n"
      ],
      "metadata": {
        "colab": {
          "base_uri": "https://localhost:8080/"
        },
        "id": "C6xckFVEWN_1",
        "outputId": "ba16fc5f-b970-46e9-e327-0e7b91c7cd17"
      },
      "execution_count": 16,
      "outputs": [
        {
          "output_type": "stream",
          "name": "stdout",
          "text": [
            "         Date  Value\n",
            "0  2023-01-01      0\n",
            "1  2023-01-02      1\n",
            "2  2023-01-03      2\n",
            "3  2023-01-04      3\n",
            "4  2023-01-05      4\n",
            "5  2023-01-06      5\n",
            "6  2023-01-07      6\n",
            "7  2023-01-08      7\n",
            "8  2023-01-09      8\n",
            "9  2023-01-10      9\n",
            "10 2023-01-11     10\n",
            "11 2023-01-12     11\n",
            "12 2023-01-13     12\n",
            "13 2023-01-14     13\n",
            "14 2023-01-15     14\n",
            "15 2023-01-16     15\n",
            "16 2023-01-17     16\n",
            "17 2023-01-18     17\n",
            "18 2023-01-19     18\n",
            "19 2023-01-20     19\n",
            "20 2023-01-21     20\n",
            "21 2023-01-22     21\n",
            "22 2023-01-23     22\n",
            "23 2023-01-24     23\n",
            "24 2023-01-25     24\n",
            "25 2023-01-26     25\n",
            "26 2023-01-27     26\n",
            "27 2023-01-28     27\n",
            "28 2023-01-29     28\n",
            "29 2023-01-30     29\n",
            "30 2023-01-31     30\n"
          ]
        }
      ]
    },
    {
      "cell_type": "markdown",
      "source": [
        "Q13. To use the basic functions of pandas, what is the first and foremost necessary library that needs to\n",
        "be imported?"
      ],
      "metadata": {
        "id": "HnqkMLgqWmiU"
      }
    },
    {
      "cell_type": "code",
      "source": [
        "import pandas"
      ],
      "metadata": {
        "id": "S2sy0wYOWjda"
      },
      "execution_count": null,
      "outputs": []
    }
  ]
}