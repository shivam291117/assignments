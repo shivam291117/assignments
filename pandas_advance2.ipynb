{
  "nbformat": 4,
  "nbformat_minor": 0,
  "metadata": {
    "colab": {
      "provenance": []
    },
    "kernelspec": {
      "name": "python3",
      "display_name": "Python 3"
    },
    "language_info": {
      "name": "python"
    }
  },
  "cells": [
    {
      "cell_type": "markdown",
      "source": [
        "Consider following code to answer further questions:\n",
        "\n",
        "\n",
        "import pandas as pd\n",
        "\n",
        "\n",
        "course_name = [‘Data Science’, ‘Machine Learning’, ‘Big Data’, ‘Data Engineer’]\n",
        "\n",
        "\n",
        "duration = [2,3,6,4]\n",
        "\n",
        "\n",
        "df = pd.DataFrame(data = {‘course_name’ : course_name, ‘duration’ : duration})\n",
        "\n",
        "\n",
        "Q1. Write a code to print the data present in the second row of the dataframe, df."
      ],
      "metadata": {
        "id": "mEw4VtiuXG53"
      }
    },
    {
      "cell_type": "code",
      "execution_count": 1,
      "metadata": {
        "colab": {
          "base_uri": "https://localhost:8080/"
        },
        "id": "08Qz3zJxXD-6",
        "outputId": "b7ce1491-1b8b-4d3c-c55f-7a4a4a975faf"
      },
      "outputs": [
        {
          "output_type": "stream",
          "name": "stdout",
          "text": [
            "course_name    Machine Learning\n",
            "duration                      3\n",
            "Name: 1, dtype: object\n"
          ]
        }
      ],
      "source": [
        "import pandas as pd\n",
        "\n",
        "course_name = ['Data Science', 'Machine Learning', 'Big Data', 'Data Engineer']\n",
        "duration = [2, 3, 6, 4]\n",
        "df = pd.DataFrame(data={'course_name': course_name, 'duration': duration})\n",
        "\n",
        "print(df.iloc[1])\n"
      ]
    },
    {
      "cell_type": "markdown",
      "source": [
        "Q2. What is the difference between the functions loc and iloc in pandas.DataFrame?\n",
        "\n",
        "Ans.\n",
        "\n",
        "Differences:\n",
        "\n",
        "Indexing:\n",
        "\n",
        "\n",
        "loc uses labels (column names and row labels), while iloc uses integer positions (0-based index).\n",
        "\n",
        "\n",
        "Range Handling:\n",
        "\n",
        "\n",
        "When using a range in loc, it includes both endpoints of the range (inclusive).\n",
        "\n",
        "\n",
        "When using a range in iloc, it includes the start index but excludes the end index (exclusive).\n",
        "\n",
        "\n",
        "Usage:\n",
        "\n",
        "\n",
        "Use loc when you need to access data based on labels or boolean arrays.\n",
        "\n",
        "\n",
        "Use iloc when you need to access data based on integer positions."
      ],
      "metadata": {
        "id": "6fqGi_IzXao_"
      }
    },
    {
      "cell_type": "markdown",
      "source": [
        "Q3. Reindex the given dataframe using a variable, reindex = [3,0,1,2] and store it in the variable, new_df\n",
        "then find the output for both new_df.loc[2] and new_df.iloc[2]."
      ],
      "metadata": {
        "id": "WJUps-tJX645"
      }
    },
    {
      "cell_type": "code",
      "source": [
        "data = {\n",
        "    'A': [1, 2, 3, 4],\n",
        "    'B': [10, 20, 30, 40],\n",
        "    'C': [100, 200, 300, 400]\n",
        "}\n",
        "df = pd.DataFrame(data)\n",
        "\n",
        "# Define custom index order\n",
        "reindex = [3, 0, 1, 2]\n",
        "\n",
        "# Reindex the DataFrame\n",
        "new_df = df.reindex(reindex)\n",
        "\n",
        "# Print the reindexed DataFrame\n",
        "print(\"Reindexed DataFrame:\")\n",
        "print(new_df)\n",
        "\n",
        "# Accessing data using loc\n",
        "print(\"\\nUsing loc:\")\n",
        "print(new_df.loc[2])  # Access row with label '2'\n",
        "\n",
        "# Accessing data using iloc\n",
        "print(\"\\nUsing iloc:\")\n",
        "print(new_df.iloc[2])  # Access row at integer position 2\n"
      ],
      "metadata": {
        "colab": {
          "base_uri": "https://localhost:8080/"
        },
        "id": "EgdPKJ9RXYqW",
        "outputId": "e6d07404-beb7-4687-e178-38a60153fb27"
      },
      "execution_count": 2,
      "outputs": [
        {
          "output_type": "stream",
          "name": "stdout",
          "text": [
            "Reindexed DataFrame:\n",
            "   A   B    C\n",
            "3  4  40  400\n",
            "0  1  10  100\n",
            "1  2  20  200\n",
            "2  3  30  300\n",
            "\n",
            "Using loc:\n",
            "A      3\n",
            "B     30\n",
            "C    300\n",
            "Name: 2, dtype: int64\n",
            "\n",
            "Using iloc:\n",
            "A      2\n",
            "B     20\n",
            "C    200\n",
            "Name: 1, dtype: int64\n"
          ]
        }
      ]
    },
    {
      "cell_type": "markdown",
      "source": [
        "import pandas as pd\n",
        "import numpy as np\n",
        "columns = ['column_1', 'column_2', 'column_3', 'column_4', 'column_5', 'column_6']\n",
        "indices = [1,2,3,4,5,6]\n",
        "#Creating a dataframe:\n",
        "df1 = pd.DataFrame(np.random.rand(6,6), columns = columns, index = indices)\n",
        "\n",
        "Q4. Write a code to find the following statistical measurements for the above dataframe df1:\n",
        "(i) mean of each and every column present in the dataframe.\n",
        "(ii) standard deviation of column, ‘column_2’\n"
      ],
      "metadata": {
        "id": "VS0BjPPpYOD7"
      }
    },
    {
      "cell_type": "code",
      "source": [
        "import numpy as np\n",
        "\n",
        "# Sample DataFrame creation\n",
        "columns = ['column_1', 'column_2', 'column_3', 'column_4', 'column_5', 'column_6']\n",
        "indices = [1, 2, 3, 4, 5, 6]\n",
        "df1 = pd.DataFrame(np.random.rand(6, 6), columns=columns, index=indices)\n",
        "\n",
        "# Calculate mean of each column\n",
        "column_means = df1.mean()\n",
        "\n",
        "print(\"Mean of each column:\")\n",
        "print(column_means)\n"
      ],
      "metadata": {
        "colab": {
          "base_uri": "https://localhost:8080/"
        },
        "id": "YRQM6UhOYFvX",
        "outputId": "3548e431-2dc3-4c71-9753-a71c29f35797"
      },
      "execution_count": 3,
      "outputs": [
        {
          "output_type": "stream",
          "name": "stdout",
          "text": [
            "Mean of each column:\n",
            "column_1    0.422791\n",
            "column_2    0.450355\n",
            "column_3    0.526060\n",
            "column_4    0.419281\n",
            "column_5    0.464553\n",
            "column_6    0.693839\n",
            "dtype: float64\n"
          ]
        }
      ]
    },
    {
      "cell_type": "code",
      "source": [
        "std_dev_column_2 = df1['column_2'].std()\n",
        "\n",
        "print(\"\\nStandard deviation of 'column_2':\")\n",
        "print(std_dev_column_2)\n"
      ],
      "metadata": {
        "colab": {
          "base_uri": "https://localhost:8080/"
        },
        "id": "Rl0IaDGtYZdY",
        "outputId": "02343ab2-1fb9-4a3b-8cc9-00c0d98e795e"
      },
      "execution_count": 4,
      "outputs": [
        {
          "output_type": "stream",
          "name": "stdout",
          "text": [
            "\n",
            "Standard deviation of 'column_2':\n",
            "0.34856307175908047\n"
          ]
        }
      ]
    },
    {
      "cell_type": "markdown",
      "source": [
        "Q5. Replace the data present in the second row of column, ‘column_2’ by a string variable then find the\n",
        "mean of column, column_2."
      ],
      "metadata": {
        "id": "-LepYCfUYizJ"
      }
    },
    {
      "cell_type": "code",
      "source": [
        "\n",
        "columns = ['column_1', 'column_2', 'column_3', 'column_4', 'column_5', 'column_6']\n",
        "indices = [1, 2, 3, 4, 5, 6]\n",
        "df1 = pd.DataFrame(np.random.rand(6, 6), columns=columns, index=indices)\n",
        "\n",
        "# Replace data in the second row of 'column_2' with a string variable\n",
        "df1.at[2, 'column_2'] = 'some_string'\n",
        "\n",
        "# Convert 'column_2' to a suitable dtype to handle mixed data\n",
        "df1['column_2'] = pd.to_numeric(df1['column_2'], errors='coerce')\n",
        "\n",
        "# Calculate mean of 'column_2' (excluding non-numeric values)\n",
        "mean_column_2 = df1['column_2'].mean()\n",
        "\n",
        "print(\"Mean of column_2 after replacement:\")\n",
        "print(mean_column_2)\n"
      ],
      "metadata": {
        "colab": {
          "base_uri": "https://localhost:8080/"
        },
        "id": "v1_qv4tmYcjV",
        "outputId": "04aea194-75b5-4237-c2e1-942940a71dcc"
      },
      "execution_count": 5,
      "outputs": [
        {
          "output_type": "stream",
          "name": "stdout",
          "text": [
            "Mean of column_2 after replacement:\n",
            "0.44792916771995445\n"
          ]
        }
      ]
    },
    {
      "cell_type": "markdown",
      "source": [
        "Q6. What do you understand about the windows function in pandas and list the types of windows functions?"
      ],
      "metadata": {
        "id": "j6KwsHAUub16"
      }
    },
    {
      "cell_type": "markdown",
      "source": [
        "In Pandas, window functions (also known as rolling or moving functions) are powerful tools used for analyzing data over a sliding window of fixed size. These functions operate on a specified window of data points defined by a window size or by a time period. They allow you to compute aggregations (like mean, sum, count, etc.) over a specified subset of data points relative to the current data point.\n",
        "\n",
        "Understanding Window Functions:\n",
        "Window functions in Pandas are typically used in time series analysis and other sequential data where the order of observations matters. They provide flexibility in analyzing trends, patterns, and changes in data over time or within a specified order. The key aspects of window functions include:\n",
        "\n",
        "Fixed vs. Variable Windows:\n",
        "\n",
        "Fixed Windows: The window size remains constant and is defined by a number of observations or rows.\n",
        "Variable Windows: The window size varies based on a condition or a time period.\n",
        "Window Types:\n",
        "\n",
        "Rolling Windows: A fixed-size window moves over the data one observation at a time. Useful for calculating moving averages, cumulative sums, and other rolling statistics.\n",
        "\n",
        "Expanding Windows: Starts from the beginning of the time series and increases in size with each new observation. Useful for calculating cumulative metrics like cumulative sums or running totals.\n",
        "\n",
        "Exponential Windows: Applies exponentially decreasing weights over observations. Useful for calculating exponentially weighted moving averages (EWMA) where recent observations are weighted more heavily than older ones.\n",
        "\n",
        "Aggregations and Transformations:\n",
        "\n",
        "Window functions allow you to perform aggregations (e.g., sum, mean, min, max) and transformations (e.g., rank, shift) over the specified window of data points.\n",
        "Handling Missing Data:\n",
        "\n",
        "Window functions in Pandas provide options to handle missing data, such as skipping NaN values or filling them with a specified fill value.\n",
        "Types of Window Functions:\n",
        "Rolling Functions:\n",
        "\n",
        "rolling(): Computes rolling statistics over a specified window size or time period.\n",
        "Example: df['column'].rolling(window=3).mean()\n",
        "Expanding Functions:\n",
        "\n",
        "expanding(): Computes expanding statistics starting from the beginning of the data up to the current point.\n",
        "Example: df['column'].expanding().sum()\n",
        "Exponential Weighted Functions:\n",
        "\n",
        "ewm(): Computes exponentially weighted statistics where more recent observations are given more weight.\n",
        "Example: df['column'].ewm(span=3).mean()"
      ],
      "metadata": {
        "id": "nr_0BtDMui3_"
      }
    },
    {
      "cell_type": "markdown",
      "source": [
        "Q7. Write a code to print only the current month and year at the time of answering this question."
      ],
      "metadata": {
        "id": "B2ahOlPtukyR"
      }
    },
    {
      "cell_type": "code",
      "source": [
        "from datetime import datetime\n",
        "\n",
        "# Get the current date and time\n",
        "current_datetime = datetime.now()\n",
        "\n",
        "# Extract current month and year\n",
        "current_month = current_datetime.month\n",
        "current_year = current_datetime.year\n",
        "\n",
        "# Print the current month and year\n",
        "print(f\"Current month and year: {current_month}-{current_year}\")\n"
      ],
      "metadata": {
        "colab": {
          "base_uri": "https://localhost:8080/"
        },
        "id": "Z-wUCiJjYqgt",
        "outputId": "c65abd77-0105-4133-cbc9-9495fb87b084"
      },
      "execution_count": 1,
      "outputs": [
        {
          "output_type": "stream",
          "name": "stdout",
          "text": [
            "Current month and year: 7-2024\n"
          ]
        }
      ]
    },
    {
      "cell_type": "markdown",
      "source": [
        "Q8. Write a Python program that takes in two dates as input (in the format YYYY-MM-DD) and\n",
        "calculates the difference between them in days, hours, and minutes using Pandas time delta. The\n",
        "program should prompt the user to enter the dates and display the result."
      ],
      "metadata": {
        "id": "GnS69FlKMzRa"
      }
    },
    {
      "cell_type": "code",
      "source": [
        "import pandas as pd\n",
        "\n",
        "# Function to calculate time difference\n",
        "def calculate_time_difference(date1, date2):\n",
        "    # Convert dates to datetime objects\n",
        "    date1 = pd.to_datetime(date1)\n",
        "    date2 = pd.to_datetime(date2)\n",
        "\n",
        "    # Calculate time difference using Pandas Timedelta\n",
        "    time_diff = date2 - date1\n",
        "\n",
        "    # Extract days, hours, and minutes from the timedelta object\n",
        "    days = time_diff.days\n",
        "    hours = time_diff.seconds // 3600\n",
        "    minutes = (time_diff.seconds % 3600) // 60\n",
        "\n",
        "    return days, hours, minutes\n",
        "\n",
        "# Input dates from the user\n",
        "date_str1 = input(\"Enter the first date (YYYY-MM-DD format): \")\n",
        "date_str2 = input(\"Enter the second date (YYYY-MM-DD format): \")\n",
        "\n",
        "# Calculate time difference\n",
        "days_diff, hours_diff, minutes_diff = calculate_time_difference(date_str1, date_str2)\n",
        "\n",
        "# Display the result\n",
        "print(f\"\\nTime difference between {date_str1} and {date_str2}:\")\n",
        "print(f\"Days: {days_diff}, Hours: {hours_diff}, Minutes: {minutes_diff}\")\n"
      ],
      "metadata": {
        "colab": {
          "base_uri": "https://localhost:8080/"
        },
        "id": "kPdhbpDLMuqa",
        "outputId": "049801a2-eac9-42df-f2a7-b64d5da9d168"
      },
      "execution_count": 2,
      "outputs": [
        {
          "output_type": "stream",
          "name": "stdout",
          "text": [
            "Enter the first date (YYYY-MM-DD format): 1996-04-01\n",
            "Enter the second date (YYYY-MM-DD format): 1996-07-15\n",
            "\n",
            "Time difference between 1996-04-01 and 1996-07-15:\n",
            "Days: 105, Hours: 0, Minutes: 0\n"
          ]
        }
      ]
    },
    {
      "cell_type": "markdown",
      "source": [
        "Q9. Write a Python program that reads a CSV file containing categorical data and converts a specified\n",
        "column to a categorical data type. The program should prompt the user to enter the file path, column\n",
        "name, and category order, and then display the sorted data."
      ],
      "metadata": {
        "id": "shKLqpW5NJiO"
      }
    },
    {
      "cell_type": "code",
      "source": [
        "import pandas as pd\n",
        "\n",
        "# Function to process the CSV file\n",
        "def process_csv(file_path, column_name, category_order):\n",
        "    # Read the CSV file into a DataFrame\n",
        "    df = pd.read_csv(file_path)\n",
        "\n",
        "    # Convert specified column to categorical with specified category order\n",
        "    df[column_name] = pd.Categorical(df[column_name], categories=category_order, ordered=True)\n",
        "\n",
        "    # Sort the DataFrame based on the categorical column\n",
        "    sorted_df = df.sort_values(by=column_name)\n",
        "\n",
        "    return sorted_df\n",
        "\n",
        "# Prompt user for input\n",
        "file_path = input(\"Enter the CSV file path: \")\n",
        "column_name = input(\"Enter the column name to convert to categorical: \")\n",
        "category_order = input(\"Enter the category order (comma-separated): \").split(',')\n",
        "\n",
        "# Process the CSV file\n",
        "sorted_data = process_csv(file_path, column_name, category_order)\n",
        "\n",
        "# Display sorted data\n",
        "print(\"\\nSorted Data:\")\n",
        "print(sorted_data)\n"
      ],
      "metadata": {
        "colab": {
          "base_uri": "https://localhost:8080/"
        },
        "id": "mVbtwe0DNsnr",
        "outputId": "5ccfb1c3-43eb-48ef-ef86-8aeb0fb6b660"
      },
      "execution_count": null,
      "outputs": [
        {
          "name": "stdout",
          "output_type": "stream",
          "text": [
            "Enter the CSV file path: mnist_train_small.csv\n"
          ]
        }
      ]
    },
    {
      "cell_type": "markdown",
      "source": [
        "Q10. Write a Python program that reads a CSV file containing sales data for different products and\n",
        "visualizes the data using a stacked bar chart to show the sales of each product category over time. The\n",
        "program should prompt the user to enter the file path and display the chart."
      ],
      "metadata": {
        "id": "k9UHI2YBNZQe"
      }
    },
    {
      "cell_type": "code",
      "source": [
        "import pandas as pd\n",
        "import matplotlib.pyplot as plt\n",
        "\n",
        "# Function to process and visualize sales data from CSV file\n",
        "def visualize_sales_data(file_path):\n",
        "    # Read the CSV file into a DataFrame\n",
        "    df = pd.read_csv(file_path)\n",
        "\n",
        "    # Assuming the CSV file has columns: 'Date', 'Product', 'Category', 'Sales'\n",
        "\n",
        "    # Convert 'Date' column to datetime format\n",
        "    df['Date'] = pd.to_datetime(df['Date'])\n",
        "\n",
        "    # Extract year and month from 'Date' column\n",
        "    df['Year'] = df['Date'].dt.year\n",
        "    df['Month'] = df['Date'].dt.month_name()\n",
        "\n",
        "    # Group by 'Year', 'Month', and 'Category' to aggregate sales\n",
        "    grouped_data = df.groupby(['Year', 'Month', 'Category'])['Sales'].sum().reset_index()\n",
        "\n",
        "    # Pivot the data to prepare for stacked bar chart\n",
        "    pivot_data = grouped_data.pivot_table(index=['Year', 'Month'], columns='Category', values='Sales', fill_value=0)\n",
        "\n",
        "    # Create stacked bar chart\n",
        "    pivot_data.plot(kind='bar', stacked=True, figsize=(10, 6))\n",
        "\n",
        "    # Customize the chart\n",
        "    plt.title('Stacked Bar Chart of Sales by Product Category')\n",
        "    plt.xlabel('Year-Month')\n",
        "    plt.ylabel('Sales')\n",
        "    plt.xticks(rotation=45)\n",
        "    plt.legend(title='Category')\n",
        "\n",
        "    # Show the plot\n",
        "    plt.tight_layout()\n",
        "    plt.show()\n",
        "\n",
        "# Prompt user for input\n",
        "file_path = input(\"Enter the CSV file path: \")\n",
        "\n",
        "# Visualize sales data\n",
        "visualize_sales_data(file_path)\n"
      ],
      "metadata": {
        "id": "WsTzhDR4M27i"
      },
      "execution_count": null,
      "outputs": []
    },
    {
      "cell_type": "markdown",
      "source": [
        "Q11. You are given a CSV file containing student data that includes the student ID and their test score. Write\n",
        "a Python program that reads the CSV file, calculates the mean, median, and mode of the test scores, and\n",
        "displays the results in a table.\n",
        "\n",
        "\n",
        "The program should do the followingM\n",
        "\n",
        "\n",
        "I Prompt the user to enter the file path of the CSV file containing the student dataR\n",
        "\n",
        "\n",
        "I Read the CSV file into a Pandas DataFrameR\n",
        "\n",
        "\n",
        "I Calculate the mean, median, and mode of the test scores using Pandas toolsR\n",
        "\n",
        "\n",
        "I Display the mean, median, and mode in a table.\n",
        "\n",
        "\n",
        "Assume the CSV file contains the following columnsM\n",
        "\n",
        "\n",
        "I Student ID: The ID of the studentR\n",
        "\n",
        "\n",
        "I Test Score: The score of the student's test.\n",
        "\n"
      ],
      "metadata": {
        "id": "oSLH6YjUOSps"
      }
    },
    {
      "cell_type": "code",
      "source": [
        "import pandas as pd\n",
        "from tabulate import tabulate\n",
        "\n",
        "# Function to calculate mean, median, and mode of test scores from CSV file\n",
        "def calculate_statistics(file_path):\n",
        "    # Read the CSV file into a Pandas DataFrame\n",
        "    df = pd.read_csv(file_path)\n",
        "\n",
        "    # Calculate mean, median, and mode of test scores\n",
        "    mean_score = df['Test Score'].mean()\n",
        "    median_score = df['Test Score'].median()\n",
        "    mode_scores = df['Test Score'].mode().tolist()\n",
        "\n",
        "    # Prepare data for tabulation\n",
        "    table = [\n",
        "        ['Mean', mean_score],\n",
        "        ['Median', median_score],\n",
        "        ['Mode', ', '.join(map(str, mode_scores))]\n",
        "    ]\n",
        "\n",
        "    # Display results in a formatted table\n",
        "    headers = ['Statistic', 'Value']\n",
        "    print(tabulate(table, headers=headers, tablefmt='grid'))\n",
        "\n",
        "# Prompt user for input\n",
        "file_path = input(\"Enter the file path of the CSV file containing the student data: \")\n",
        "\n",
        "# Calculate and display statistics\n",
        "calculate_statistics(file_path)\n"
      ],
      "metadata": {
        "id": "z8hPeaAsOQD1"
      },
      "execution_count": null,
      "outputs": []
    }
  ]
}