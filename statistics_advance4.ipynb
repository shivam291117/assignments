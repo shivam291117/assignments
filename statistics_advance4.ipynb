{
  "nbformat": 4,
  "nbformat_minor": 0,
  "metadata": {
    "colab": {
      "provenance": []
    },
    "kernelspec": {
      "name": "python3",
      "display_name": "Python 3"
    },
    "language_info": {
      "name": "python"
    }
  },
  "cells": [
    {
      "cell_type": "markdown",
      "source": [
        "Q1: What is the difference between a t-test and a z-test? Provide an example scenario where you would\n",
        "use each type of test."
      ],
      "metadata": {
        "id": "3SI7_EnCcafi"
      }
    },
    {
      "cell_type": "code",
      "execution_count": null,
      "metadata": {
        "id": "9847CKzccUXL"
      },
      "outputs": [],
      "source": [
        "'''\n",
        "1. t-test:\n",
        "Applicability: A t-test is used when you have a small sample size (typically less than 30) and when the population standard deviation is unknown.\n",
        "\n",
        "Example Scenario: Suppose you want to test whether there is a significant difference in the mean scores of two groups of students (Group A and Group B) on a test.\n",
        "You randomly select 15 students from each group and calculate their mean scores and standard deviations.\n",
        "Since the sample size is small (less than 30), and you do not know the population standard deviation (you only have sample standard deviations),\n",
        "you would use a t-test to compare the means of these two groups.\n",
        "\n",
        "\n",
        "2. z-test:\n",
        "Applicability: A z-test is used when you have a large sample size (typically more than 30) and/or when the population standard deviation is known.\n",
        "\n",
        "Example Scenario: Consider a scenario where you want to test whether the average height of all students in a school\n",
        "is significantly different from a national average height.\n",
        "You have data for 150 randomly selected students from the school and you know the population standard deviation\n",
        "of heights from historical records. In this case, you would use a z-test to compare the mean height of the sample to the known population mean height."
      ]
    },
    {
      "cell_type": "markdown",
      "source": [
        "Q2: Differentiate between one-tailed and two-tailed tests.\n",
        "\n",
        "Ans.\n",
        "\n",
        "One and Two-Tailed Tests are ways to identify the relationship between the statistical variables. For checking the relationship between variables in a single direction (Left or Right direction), we use a one-tailed test. A two-tailed test is used to check whether the relations between variables are in any direction or not."
      ],
      "metadata": {
        "id": "WaOOJNQKdLvV"
      }
    },
    {
      "cell_type": "markdown",
      "source": [
        "Q3: Explain the concept of Type 1 and Type 2 errors in hypothesis testing. Provide an example scenario for\n",
        "each type of error.\n",
        "\n",
        "Ans.\n",
        "\n",
        "In statistics, a Type I error is a false positive conclusion, while a Type II error is a false negative conclusion.\n",
        "\n",
        "Making a statistical decision always involves uncertainties, so the risks of making these errors are unavoidable in hypothesis testing.\n",
        "\n",
        "The probability of making a Type I error is the significance level, or alpha (α), while the probability of making a Type II error is beta (β). These risks can be minimized through careful planning in your study design.\n",
        "\n",
        "Example: Type I vs Type II error\n",
        "You decide to get tested for COVID-19 based on mild symptoms. There are two errors that could potentially occur:\n",
        "Type I error (false positive): the test result says you have coronavirus, but you actually don’t.\n",
        "Type II error (false negative): the test result says you don’t have coronavirus, but you actually do."
      ],
      "metadata": {
        "id": "Ep9QL4y2hIw4"
      }
    },
    {
      "cell_type": "markdown",
      "source": [
        "Q4: Explain Bayes's theorem with an example.\n",
        "\n",
        "Ans.\n",
        "\n",
        "Bayes’ theorem describes the probability of occurrence of an event related to any condition. It is also considered for the case of conditional probability. Bayes theorem is also known as the formula for the probability of “causes”. For example: if we have to calculate the probability of taking a blue ball from the second bag out of three different bags of balls, where each bag contains three different colour balls viz. red, blue, black. In this case, the probability of occurrence of an event is calculated depending on other conditions is known as conditional probability."
      ],
      "metadata": {
        "id": "KqJ7jcCihaSd"
      }
    },
    {
      "cell_type": "markdown",
      "source": [
        "Q5: What is a confidence interval? How to calculate the confidence interval, explain with an example.\n",
        "\n",
        "Ans.\n",
        "\n",
        "A confidence interval (CI) is a range of values, derived from a data sample, that is likely to contain the value of an unknown population parameter. The interval has an associated confidence level that quantifies the level of confidence that the parameter lies within the interval. For instance, a 95% confidence interval implies that if we were to take 100 different samples and compute a CI for each sample, we would expect about 95 of the intervals to contain the population parameter.\n",
        "\n",
        "\n",
        "![image.png](data:image/png;base64,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)"
      ],
      "metadata": {
        "id": "lENetZrVhhuf"
      }
    },
    {
      "cell_type": "markdown",
      "source": [
        "Q6. Use Bayes' Theorem to calculate the probability of an event occurring given prior knowledge of the\n",
        "event's probability and new evidence. Provide a sample problem and solution."
      ],
      "metadata": {
        "id": "4GE1aHemvj6f"
      }
    },
    {
      "cell_type": "markdown",
      "source": [
        "A medical test is used to detect a rare disease. The test is 99% accurate, meaning:\n",
        "\n",
        "If a person has the disease, the test correctly identifies it 99% of the time (\n",
        "𝑃\n",
        "(\n",
        "Positive\n",
        "∣\n",
        "Disease\n",
        ")\n",
        "=\n",
        "0.99\n",
        "P(Positive∣Disease)=0.99).\n",
        "If a person does not have the disease, the test correctly identifies the absence of the disease 99% of the time (\n",
        "𝑃\n",
        "(\n",
        "Negative\n",
        "∣\n",
        "No Disease\n",
        ")\n",
        "=\n",
        "0.99\n",
        "P(Negative∣No Disease)=0.99).\n",
        "The disease is very rare, occurring in 0.1% of the population (\n",
        "𝑃\n",
        "(\n",
        "Disease\n",
        ")\n",
        "=\n",
        "0.001\n",
        "P(Disease)=0.001).\n",
        "\n",
        "If a person tests positive, what is the probability that they actually have the disease (\n",
        "𝑃\n",
        "(\n",
        "Disease\n",
        "∣\n",
        "Positive\n",
        ")\n",
        "P(Disease∣Positive))?\n",
        "\n",
        "Solution:\n",
        "Identify the given probabilities:\n",
        "\n",
        "𝑃\n",
        "(\n",
        "Positive\n",
        "∣\n",
        "Disease\n",
        ")\n",
        "=\n",
        "0.99\n",
        "P(Positive∣Disease)=0.99\n",
        "𝑃\n",
        "(\n",
        "Negative\n",
        "∣\n",
        "No Disease\n",
        ")\n",
        "=\n",
        "0.99\n",
        "P(Negative∣No Disease)=0.99\n",
        "𝑃\n",
        "(\n",
        "Disease\n",
        ")\n",
        "=\n",
        "0.001\n",
        "P(Disease)=0.001\n",
        "𝑃\n",
        "(\n",
        "No Disease\n",
        ")\n",
        "=\n",
        "1\n",
        "−\n",
        "𝑃\n",
        "(\n",
        "Disease\n",
        ")\n",
        "=\n",
        "0.999\n",
        "P(No Disease)=1−P(Disease)=0.999\n",
        "Calculate\n",
        "𝑃\n",
        "(\n",
        "Positive\n",
        "∣\n",
        "No Disease\n",
        ")\n",
        "P(Positive∣No Disease):\n",
        "\n",
        "𝑃\n",
        "(\n",
        "Positive\n",
        "∣\n",
        "No Disease\n",
        ")\n",
        "=\n",
        "1\n",
        "−\n",
        "𝑃\n",
        "(\n",
        "Negative\n",
        "∣\n",
        "No Disease\n",
        ")\n",
        "=\n",
        "1\n",
        "−\n",
        "0.99\n",
        "=\n",
        "0.01\n",
        "P(Positive∣No Disease)=1−P(Negative∣No Disease)=1−0.99=0.01\n",
        "Calculate\n",
        "𝑃\n",
        "(\n",
        "Positive\n",
        ")\n",
        "P(Positive) using the law of total probability:\n",
        "\n",
        "𝑃\n",
        "(\n",
        "Positive\n",
        ")\n",
        "=\n",
        "𝑃\n",
        "(\n",
        "Positive\n",
        "∣\n",
        "Disease\n",
        ")\n",
        "⋅\n",
        "𝑃\n",
        "(\n",
        "Disease\n",
        ")\n",
        "+\n",
        "𝑃\n",
        "(\n",
        "Positive\n",
        "∣\n",
        "No Disease\n",
        ")\n",
        "⋅\n",
        "𝑃\n",
        "(\n",
        "No Disease\n",
        ")\n",
        "P(Positive)=P(Positive∣Disease)⋅P(Disease)+P(Positive∣No Disease)⋅P(No Disease)\n",
        "\n",
        "𝑃\n",
        "(\n",
        "Positive\n",
        ")\n",
        "=\n",
        "(\n",
        "0.99\n",
        "⋅\n",
        "0.001\n",
        ")\n",
        "+\n",
        "(\n",
        "0.01\n",
        "⋅\n",
        "0.999\n",
        ")\n",
        "P(Positive)=(0.99⋅0.001)+(0.01⋅0.999)\n",
        "\n",
        "𝑃\n",
        "(\n",
        "Positive\n",
        ")\n",
        "=\n",
        "0.00099\n",
        "+\n",
        "0.00999\n",
        "=\n",
        "0.01098\n",
        "P(Positive)=0.00099+0.00999=0.01098\n",
        "Apply Bayes' Theorem:\n",
        "\n",
        "𝑃\n",
        "(\n",
        "Disease\n",
        "∣\n",
        "Positive\n",
        ")\n",
        "=\n",
        "𝑃\n",
        "(\n",
        "Positive\n",
        "∣\n",
        "Disease\n",
        ")\n",
        "⋅\n",
        "𝑃\n",
        "(\n",
        "Disease\n",
        ")\n",
        "𝑃\n",
        "(\n",
        "Positive\n",
        ")\n",
        "P(Disease∣Positive)=\n",
        "P(Positive)\n",
        "P(Positive∣Disease)⋅P(Disease)\n",
        "​\n",
        "\n",
        "\n",
        "𝑃\n",
        "(\n",
        "Disease\n",
        "∣\n",
        "Positive\n",
        ")\n",
        "=\n",
        "0.99\n",
        "⋅\n",
        "0.001\n",
        "0.01098\n",
        "P(Disease∣Positive)=\n",
        "0.01098\n",
        "0.99⋅0.001\n",
        "​\n",
        "\n",
        "\n",
        "𝑃\n",
        "(\n",
        "Disease\n",
        "∣\n",
        "Positive\n",
        ")\n",
        "=\n",
        "0.00099\n",
        "0.01098\n",
        "≈\n",
        "0.0902\n",
        "P(Disease∣Positive)=\n",
        "0.01098\n",
        "0.00099\n",
        "​\n",
        " ≈0.0902\n",
        "Conclusion:\n",
        "If a person tests positive for the disease, there is approximately a 9.02% chance that they actually have the disease, given the rarity of the disease and the accuracy of the test."
      ],
      "metadata": {
        "id": "XcuQX2zHvt5H"
      }
    },
    {
      "cell_type": "markdown",
      "source": [
        "Q7. Calculate the 95% confidence interval for a sample of data with a mean of 50 and a standard deviation\n",
        "of 5. Interpret the results.\n",
        "\n",
        "Ans.\n",
        "\n",
        "The 95% confidence interval for the sample mean is approximately (48.21, 51.79).\n",
        "\n",
        "Interpretation:\n",
        "This means that we are 95% confident that the true population mean lies within the interval 48.21 to 51.79. In other words, if we were to take many samples and calculate the confidence interval for each sample, approximately 95% of those intervals would contain the true population mean.\n",
        "\n",
        "The width of this interval gives us an idea of the precision of our estimate. A narrower interval indicates more precise estimates, while a wider interval suggests less precision. Here, given the sample mean of 50 and the calculated interval, we can be reasonably confident that the true mean of the population from which the sample was drawn lies within the range of 48.21 to 51.79."
      ],
      "metadata": {
        "id": "-6EPpu-Yv4_G"
      }
    },
    {
      "cell_type": "markdown",
      "source": [
        "Q8. What is the margin of error in a confidence interval? How does sample size affect the margin of error?\n",
        "Provide an example of a scenario where a larger sample size would result in a smaller margin of error."
      ],
      "metadata": {
        "id": "i_Q7-LSjwlNW"
      }
    },
    {
      "cell_type": "markdown",
      "source": [
        "Margin of Error in a Confidence Interval\n",
        "The margin of error (ME) in a confidence interval represents the maximum expected difference between the sample statistic (e.g., sample mean) and the true population parameter. It quantifies the range within which we expect the true population parameter to lie with a certain level of confidence.\n",
        "\n",
        "Example Scenario\n",
        "Scenario: Estimating the Average Height of Adult Males\n",
        "\n",
        "Suppose we want to estimate the average height of adult males in a city.\n",
        "We start with a small sample of 25 adult males and find a sample mean height of 70 inches with a standard deviation of 4 inches.\n",
        "We calculate the 95% confidence interval.\n",
        "\n",
        "![image.png](data:image/png;base64,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)\n"
      ],
      "metadata": {
        "id": "_rqo8eobwqe0"
      }
    },
    {
      "cell_type": "markdown",
      "source": [
        "Interpretation:\n",
        "With n = 25, the margin of error is 1.568, resulting in a wider confidence interval of (68.432, 71.568).\n",
        "With n = 100, the margin of error decreases to 0.784, resulting in a narrower confidence interval of (69.216, 70.784).\n",
        "This demonstrates that increasing the sample size reduces the margin of error, leading to a more precise estimate of the population mean. In practice, when more precise estimates are required, researchers aim to increase their sample sizes to reduce the margin of error and obtain narrower confidence intervals."
      ],
      "metadata": {
        "id": "NnmzGQcXxzbf"
      }
    },
    {
      "cell_type": "markdown",
      "source": [
        "Q9. Calculate the z-score for a data point with a value of 75, a population mean of 70, and a population\n",
        "standard deviation of 5. Interpret the results."
      ],
      "metadata": {
        "id": "7Kzy738Zx4Xk"
      }
    },
    {
      "cell_type": "markdown",
      "source": [
        "Interpretation of the Z-Score:\n",
        "The z-score for the data point 75 is 1. This means that the value 75 is 1 standard deviation above the mean of the population.\n",
        "\n",
        "Interpretation in context:\n",
        "\n",
        "Z-score of 0: The data point is exactly at the mean.\n",
        "Positive z-score: The data point is above the mean.\n",
        "Negative z-score: The data point is below the mean.\n",
        "Z-score of 1: The data point is 1 standard deviation above the mean, indicating that it is higher than the average value by a distance equal to one standard deviation of the population."
      ],
      "metadata": {
        "id": "WMgKQvvAyNpQ"
      }
    },
    {
      "cell_type": "markdown",
      "source": [
        "Q10. In a study of the effectiveness of a new weight loss drug, a sample of 50 participants lost an average\n",
        "of 6 pounds with a standard deviation of 2.5 pounds. Conduct a hypothesis test to determine if the drug is\n",
        "significantly effective at a 95% confidence level using a t-test."
      ],
      "metadata": {
        "id": "itEbXUJlykYs"
      }
    },
    {
      "cell_type": "markdown",
      "source": [
        "Results:\n",
        "Calculated t-value:\n",
        "16.97\n",
        "16.97\n",
        "Critical t-value:\n",
        "±\n",
        "2.009\n",
        "±2.009\n",
        "Since\n",
        "16.97\n",
        "16.97 is much greater than\n",
        "2.009\n",
        "2.009, we reject the null hypothesis.\n",
        "\n",
        "Conclusion:\n",
        "At the 95% confidence level, there is significant evidence to suggest that the new weight loss drug is effective. The average weight loss of 6 pounds in the sample is significantly different from 0, indicating the drug's effectiveness."
      ],
      "metadata": {
        "id": "XN_B4_oPyvE2"
      }
    },
    {
      "cell_type": "markdown",
      "source": [
        "Q11. In a survey of 500 people, 65% reported being satisfied with their current job. Calculate the 95%\n",
        "confidence interval for the true proportion of people who are satisfied with their job."
      ],
      "metadata": {
        "id": "AN3ydpDMzc3C"
      }
    },
    {
      "cell_type": "markdown",
      "source": [
        "Confidence Interval\n",
        "The 95% confidence interval for the true proportion of people who are satisfied with their job is approximately\n",
        "(0.6082,0.6918)\n",
        "\n",
        "Interpretation\n",
        "We are 95% confident that the true proportion of people who are satisfied with their current job lies between 60.82% and 69.18%.\n",
        "\n",
        "\n",
        "\n",
        "\n",
        "\n"
      ],
      "metadata": {
        "id": "jnG4wPwnzixA"
      }
    },
    {
      "cell_type": "markdown",
      "source": [
        "Q12. A researcher is testing the effectiveness of two different teaching methods on student performance.\n",
        "Sample A has a mean score of 85 with a standard deviation of 6, while sample B has a mean score of 82\n",
        "with a standard deviation of 5. Conduct a hypothesis test to determine if the two teaching methods have a\n",
        "significant difference in student performance using a t-test with a significance level of 0.01.\n"
      ],
      "metadata": {
        "id": "xIlHh6hnz_C2"
      }
    },
    {
      "cell_type": "markdown",
      "source": [],
      "metadata": {
        "id": "QOKFGxy70E7N"
      }
    }
  ]
}